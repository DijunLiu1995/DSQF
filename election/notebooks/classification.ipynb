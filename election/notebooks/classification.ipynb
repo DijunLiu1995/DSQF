{
 "cells": [
  {
   "cell_type": "code",
   "execution_count": 94,
   "metadata": {
    "collapsed": true
   },
   "outputs": [],
   "source": [
    "import numpy as np\n",
    "from sklearn import linear_model\n",
    "import pandas as pd\n",
    "from sklearn import preprocessing\n",
    "import datetime"
   ]
  },
  {
   "cell_type": "code",
   "execution_count": 32,
   "metadata": {
    "collapsed": true
   },
   "outputs": [],
   "source": []
  },
  {
   "cell_type": "code",
   "execution_count": 33,
   "metadata": {
    "collapsed": true
   },
   "outputs": [],
   "source": [
    "save_dir='../primary_data/'"
   ]
  },
  {
   "cell_type": "code",
   "execution_count": 83,
   "metadata": {},
   "outputs": [],
   "source": [
    "dems = pd.read_csv('/home/jasonmellone/Documents/nyu/DSQF/stitched_data/county_dems.csv')\n",
    "dems.primary_date = pd.to_datetime(dems.primary_date)"
   ]
  },
  {
   "cell_type": "code",
   "execution_count": 84,
   "metadata": {},
   "outputs": [],
   "source": [
    "reps = pd.read_csv('/home/jasonmellone/Documents/nyu/DSQF/stitched_data/county_reps.csv')\n",
    "reps.primary_date = pd.to_datetime(dems.primary_date)"
   ]
  },
  {
   "cell_type": "code",
   "execution_count": 72,
   "metadata": {},
   "outputs": [],
   "source": [
    "le = preprocessing.LabelEncoder()"
   ]
  },
  {
   "cell_type": "code",
   "execution_count": 73,
   "metadata": {},
   "outputs": [
    {
     "data": {
      "text/plain": [
       "LabelEncoder()"
      ]
     },
     "execution_count": 73,
     "metadata": {},
     "output_type": "execute_result"
    }
   ],
   "source": [
    "le.fit(list(set(dems['1st'].unique()).union(dems['2nd'].unique()).union(dems['3rd'].unique())))"
   ]
  },
  {
   "cell_type": "code",
   "execution_count": 74,
   "metadata": {},
   "outputs": [],
   "source": [
    "dems['1st_encoded'] = le.transform(dems['1st'].values)"
   ]
  },
  {
   "cell_type": "code",
   "execution_count": 75,
   "metadata": {
    "collapsed": true
   },
   "outputs": [],
   "source": [
    "dems['2nd_encoded'] = le.transform(dems['2nd'].values)"
   ]
  },
  {
   "cell_type": "code",
   "execution_count": 76,
   "metadata": {},
   "outputs": [],
   "source": [
    "dems['3rd_encoded']= le.transform(dems['3rd'].values)"
   ]
  },
  {
   "cell_type": "code",
   "execution_count": 95,
   "metadata": {},
   "outputs": [
    {
     "name": "stdout",
     "output_type": "stream",
     "text": [
      "2016-02-01T00:00:00.000000000\n",
      "2016-02-09T00:00:00.000000000\n",
      "2016-02-20T00:00:00.000000000\n",
      "2016-02-27T00:00:00.000000000\n",
      "2016-03-01T00:00:00.000000000\n",
      "2016-03-05T00:00:00.000000000\n",
      "2016-03-06T00:00:00.000000000\n",
      "2016-03-08T00:00:00.000000000\n",
      "2016-03-15T00:00:00.000000000\n",
      "2016-03-22T00:00:00.000000000\n",
      "2016-03-26T00:00:00.000000000\n",
      "2016-04-05T00:00:00.000000000\n",
      "2016-04-09T00:00:00.000000000\n",
      "2016-04-19T00:00:00.000000000\n",
      "2016-04-26T00:00:00.000000000\n",
      "2016-05-03T00:00:00.000000000\n",
      "2016-05-10T00:00:00.000000000\n",
      "2016-05-17T00:00:00.000000000\n",
      "2016-05-24T00:00:00.000000000\n",
      "2016-06-07T00:00:00.000000000\n"
     ]
    },
    {
     "name": "stderr",
     "output_type": "stream",
     "text": [
      "/home/jasonmellone/anaconda2/envs/py3dsqf/lib/python3.5/site-packages/ipykernel_launcher.py:1: FutureWarning: In the future, 'NAT < x' and 'x < NAT' will always be False.\n",
      "  \"\"\"Entry point for launching an IPython kernel.\n",
      "/home/jasonmellone/anaconda2/envs/py3dsqf/lib/python3.5/site-packages/ipykernel_launcher.py:2: FutureWarning: In the future, 'NAT == x' and 'x == NAT' will always be False.\n",
      "  \n"
     ]
    }
   ],
   "source": [
    "clf = linear_model.SGDClassifier(loss='hinge')\n",
    "Xs = ['votes1','votes2','votes3','pct1','pct2','pct3','primary_type','edge1','edge2','edge3',\n",
    "      'Abbreviation','area_name','state_abbreviation','PST045214','PST040210','PST120214',\n",
    "      'POP010210','AGE135214','AGE295214','AGE775214','SEX255214','RHI125214','RHI225214',\n",
    "      'RHI325214','RHI425214','RHI525214','RHI625214','RHI725214','RHI825214','POP715213',\n",
    "      'POP645213','POP815213','EDU635213','EDU685213','VET605213','LFE305213','HSG010214',\n",
    "      'HSG445213','HSG096213','HSG495213','HSD410213','HSD310213','INC910213','INC110213',\n",
    "      'PVY020213','BZA010213','BZA110213','BZA115213','NES010213','SBO001207','SBO315207',\n",
    "      'SBO115207','SBO215207','SBO515207','SBO415207','SBO015207','MAN450207','WTN220207',\n",
    "      'RTN130207','RTN131207','AFN120207','BPS030214','LND110210','POP060210']\n",
    "\n",
    "y_first = '1st_encoded'\n",
    "y_second = '2nd_encoded'\n",
    "\n",
    "for dt in sorted(dems.primary_date.unique()):\n",
    "    if not dt==np.datetime64('NaT'):\n",
    "        \n",
    "        dems_past = dems[dems.primary_date<dt].copy()\n",
    "        dems_current = dems[dems.primary_date==dt].copy()\n",
    "        \n",
    "    "
   ]
  },
  {
   "cell_type": "code",
   "execution_count": 85,
   "metadata": {},
   "outputs": [
    {
     "ename": "NameError",
     "evalue": "name 'X' is not defined",
     "output_type": "error",
     "traceback": [
      "\u001b[0;31m---------------------------------------------------------------------------\u001b[0m",
      "\u001b[0;31mNameError\u001b[0m                                 Traceback (most recent call last)",
      "\u001b[0;32m<ipython-input-85-76c5c248945b>\u001b[0m in \u001b[0;36m<module>\u001b[0;34m()\u001b[0m\n\u001b[0;32m----> 1\u001b[0;31m \u001b[0mclf\u001b[0m\u001b[0;34m.\u001b[0m\u001b[0mfit\u001b[0m\u001b[0;34m(\u001b[0m\u001b[0mX\u001b[0m\u001b[0;34m,\u001b[0m \u001b[0mY\u001b[0m\u001b[0;34m)\u001b[0m\u001b[0;34m\u001b[0m\u001b[0m\n\u001b[0m",
      "\u001b[0;31mNameError\u001b[0m: name 'X' is not defined"
     ]
    }
   ],
   "source": [
    "clf.fit(X, Y)"
   ]
  },
  {
   "cell_type": "code",
   "execution_count": null,
   "metadata": {},
   "outputs": [],
   "source": []
  },
  {
   "cell_type": "code",
   "execution_count": null,
   "metadata": {
    "collapsed": true
   },
   "outputs": [],
   "source": []
  },
  {
   "cell_type": "code",
   "execution_count": null,
   "metadata": {
    "collapsed": true
   },
   "outputs": [],
   "source": []
  },
  {
   "cell_type": "code",
   "execution_count": null,
   "metadata": {
    "collapsed": true
   },
   "outputs": [],
   "source": []
  }
 ],
 "metadata": {
  "kernelspec": {
   "display_name": "Python 3",
   "language": "python",
   "name": "python3"
  },
  "language_info": {
   "codemirror_mode": {
    "name": "ipython",
    "version": 3
   },
   "file_extension": ".py",
   "mimetype": "text/x-python",
   "name": "python",
   "nbconvert_exporter": "python",
   "pygments_lexer": "ipython3",
   "version": "3.5.2"
  }
 },
 "nbformat": 4,
 "nbformat_minor": 2
}
