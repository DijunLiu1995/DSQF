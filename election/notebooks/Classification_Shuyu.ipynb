{
 "cells": [
  {
   "cell_type": "code",
   "execution_count": 155,
   "metadata": {
    "collapsed": true
   },
   "outputs": [],
   "source": [
    "import pandas as pd\n",
    "import numpy as np\n",
    "from datetime import datetime\n",
    "import matplotlib.pyplot as plt\n",
    "%matplotlib inline"
   ]
  },
  {
   "cell_type": "code",
   "execution_count": 156,
   "metadata": {
    "collapsed": true
   },
   "outputs": [],
   "source": [
    "county_dems = pd.read_csv('stitched_data/county_dems.csv', index_col = 0)"
   ]
  },
  {
   "cell_type": "code",
   "execution_count": 157,
   "metadata": {
    "collapsed": true
   },
   "outputs": [],
   "source": [
    "# dropna first\n",
    "county_dems = county_dems.dropna()"
   ]
  },
  {
   "cell_type": "code",
   "execution_count": 158,
   "metadata": {},
   "outputs": [
    {
     "data": {
      "text/plain": [
       "test_fold\n",
       "0      98\n",
       "1      10\n",
       "2      17\n",
       "3      46\n",
       "4     707\n",
       "5      64\n",
       "6      16\n",
       "7     165\n",
       "8     458\n",
       "9      88\n",
       "10      5\n",
       "11     50\n",
       "12     23\n",
       "13    106\n",
       "14    125\n",
       "15    119\n",
       "16     39\n",
       "17    113\n",
       "dtype: int64"
      ]
     },
     "execution_count": 158,
     "metadata": {},
     "output_type": "execute_result"
    }
   ],
   "source": [
    "# Compute the test fold (test fold is a map between integers and dates)\n",
    "primary_dates = county_dems['primary_date'].dropna().unique()\n",
    "primary_dates = sorted(primary_dates)\n",
    "date_to_group_dict = dict(zip(primary_dates, range(len(primary_dates))))\n",
    "group_to_date_dict = dict(zip(range(len(primary_dates)), primary_dates))\n",
    "county_dems['test_fold'] = county_dems['primary_date'].map(date_to_group_dict)\n",
    "county_dems.groupby('test_fold').size()"
   ]
  },
  {
   "cell_type": "code",
   "execution_count": 159,
   "metadata": {},
   "outputs": [
    {
     "data": {
      "text/html": [
       "<div>\n",
       "<table border=\"1\" class=\"dataframe\">\n",
       "  <thead>\n",
       "    <tr style=\"text-align: right;\">\n",
       "      <th></th>\n",
       "      <th>B. SANDERS</th>\n",
       "      <th>H. CLINTON</th>\n",
       "    </tr>\n",
       "  </thead>\n",
       "  <tbody>\n",
       "    <tr>\n",
       "      <th>0</th>\n",
       "      <td>0</td>\n",
       "      <td>1</td>\n",
       "    </tr>\n",
       "    <tr>\n",
       "      <th>1</th>\n",
       "      <td>0</td>\n",
       "      <td>1</td>\n",
       "    </tr>\n",
       "    <tr>\n",
       "      <th>2</th>\n",
       "      <td>0</td>\n",
       "      <td>1</td>\n",
       "    </tr>\n",
       "    <tr>\n",
       "      <th>3</th>\n",
       "      <td>0</td>\n",
       "      <td>1</td>\n",
       "    </tr>\n",
       "    <tr>\n",
       "      <th>4</th>\n",
       "      <td>0</td>\n",
       "      <td>1</td>\n",
       "    </tr>\n",
       "  </tbody>\n",
       "</table>\n",
       "</div>"
      ],
      "text/plain": [
       "   B. SANDERS  H. CLINTON\n",
       "0           0           1\n",
       "1           0           1\n",
       "2           0           1\n",
       "3           0           1\n",
       "4           0           1"
      ]
     },
     "execution_count": 159,
     "metadata": {},
     "output_type": "execute_result"
    }
   ],
   "source": [
    "winners = pd.get_dummies(county_dems['1st'])\n",
    "winners.head(5)"
   ]
  },
  {
   "cell_type": "code",
   "execution_count": 160,
   "metadata": {
    "collapsed": true
   },
   "outputs": [],
   "source": [
    "# append the dummies to the left\n",
    "county_dems = pd.concat([ winners,county_dems], axis = 1)"
   ]
  },
  {
   "cell_type": "code",
   "execution_count": 161,
   "metadata": {},
   "outputs": [
    {
     "data": {
      "text/html": [
       "<div>\n",
       "<table border=\"1\" class=\"dataframe\">\n",
       "  <thead>\n",
       "    <tr style=\"text-align: right;\">\n",
       "      <th></th>\n",
       "      <th>B. SANDERS</th>\n",
       "      <th>H. CLINTON</th>\n",
       "      <th>state</th>\n",
       "      <th>county</th>\n",
       "      <th>1st</th>\n",
       "      <th>2nd</th>\n",
       "      <th>3rd</th>\n",
       "      <th>votes1</th>\n",
       "      <th>votes2</th>\n",
       "      <th>votes3</th>\n",
       "      <th>...</th>\n",
       "      <th>SBO015207</th>\n",
       "      <th>MAN450207</th>\n",
       "      <th>WTN220207</th>\n",
       "      <th>RTN130207</th>\n",
       "      <th>RTN131207</th>\n",
       "      <th>AFN120207</th>\n",
       "      <th>BPS030214</th>\n",
       "      <th>LND110210</th>\n",
       "      <th>POP060210</th>\n",
       "      <th>test_fold</th>\n",
       "    </tr>\n",
       "  </thead>\n",
       "  <tbody>\n",
       "    <tr>\n",
       "      <th>0</th>\n",
       "      <td>0</td>\n",
       "      <td>1</td>\n",
       "      <td>Alabama</td>\n",
       "      <td>Autauga County</td>\n",
       "      <td>H. CLINTON</td>\n",
       "      <td>B. SANDERS</td>\n",
       "      <td>UNCOMMITTED</td>\n",
       "      <td>2387.0</td>\n",
       "      <td>544.0</td>\n",
       "      <td>42.0</td>\n",
       "      <td>...</td>\n",
       "      <td>31.7</td>\n",
       "      <td>0.0</td>\n",
       "      <td>0.0</td>\n",
       "      <td>598175.0</td>\n",
       "      <td>12003.0</td>\n",
       "      <td>88157.0</td>\n",
       "      <td>131.0</td>\n",
       "      <td>594.44</td>\n",
       "      <td>91.8</td>\n",
       "      <td>4</td>\n",
       "    </tr>\n",
       "    <tr>\n",
       "      <th>1</th>\n",
       "      <td>0</td>\n",
       "      <td>1</td>\n",
       "      <td>Alabama</td>\n",
       "      <td>Baldwin County</td>\n",
       "      <td>H. CLINTON</td>\n",
       "      <td>B. SANDERS</td>\n",
       "      <td>UNCOMMITTED</td>\n",
       "      <td>5290.0</td>\n",
       "      <td>2694.0</td>\n",
       "      <td>149.0</td>\n",
       "      <td>...</td>\n",
       "      <td>27.3</td>\n",
       "      <td>1410273.0</td>\n",
       "      <td>0.0</td>\n",
       "      <td>2966489.0</td>\n",
       "      <td>17166.0</td>\n",
       "      <td>436955.0</td>\n",
       "      <td>1384.0</td>\n",
       "      <td>1589.78</td>\n",
       "      <td>114.6</td>\n",
       "      <td>4</td>\n",
       "    </tr>\n",
       "    <tr>\n",
       "      <th>2</th>\n",
       "      <td>0</td>\n",
       "      <td>1</td>\n",
       "      <td>Alabama</td>\n",
       "      <td>Barbour County</td>\n",
       "      <td>H. CLINTON</td>\n",
       "      <td>B. SANDERS</td>\n",
       "      <td>UNCOMMITTED</td>\n",
       "      <td>2567.0</td>\n",
       "      <td>222.0</td>\n",
       "      <td>33.0</td>\n",
       "      <td>...</td>\n",
       "      <td>27.0</td>\n",
       "      <td>0.0</td>\n",
       "      <td>0.0</td>\n",
       "      <td>188337.0</td>\n",
       "      <td>6334.0</td>\n",
       "      <td>0.0</td>\n",
       "      <td>8.0</td>\n",
       "      <td>884.88</td>\n",
       "      <td>31.0</td>\n",
       "      <td>4</td>\n",
       "    </tr>\n",
       "    <tr>\n",
       "      <th>3</th>\n",
       "      <td>0</td>\n",
       "      <td>1</td>\n",
       "      <td>Alabama</td>\n",
       "      <td>Bibb County</td>\n",
       "      <td>H. CLINTON</td>\n",
       "      <td>B. SANDERS</td>\n",
       "      <td>UNCOMMITTED</td>\n",
       "      <td>942.0</td>\n",
       "      <td>246.0</td>\n",
       "      <td>46.0</td>\n",
       "      <td>...</td>\n",
       "      <td>0.0</td>\n",
       "      <td>0.0</td>\n",
       "      <td>0.0</td>\n",
       "      <td>124707.0</td>\n",
       "      <td>5804.0</td>\n",
       "      <td>10757.0</td>\n",
       "      <td>19.0</td>\n",
       "      <td>622.58</td>\n",
       "      <td>36.8</td>\n",
       "      <td>4</td>\n",
       "    </tr>\n",
       "    <tr>\n",
       "      <th>4</th>\n",
       "      <td>0</td>\n",
       "      <td>1</td>\n",
       "      <td>Alabama</td>\n",
       "      <td>Blount County</td>\n",
       "      <td>H. CLINTON</td>\n",
       "      <td>B. SANDERS</td>\n",
       "      <td>UNCOMMITTED</td>\n",
       "      <td>564.0</td>\n",
       "      <td>395.0</td>\n",
       "      <td>56.0</td>\n",
       "      <td>...</td>\n",
       "      <td>23.2</td>\n",
       "      <td>341544.0</td>\n",
       "      <td>0.0</td>\n",
       "      <td>319700.0</td>\n",
       "      <td>5622.0</td>\n",
       "      <td>20941.0</td>\n",
       "      <td>3.0</td>\n",
       "      <td>644.78</td>\n",
       "      <td>88.9</td>\n",
       "      <td>4</td>\n",
       "    </tr>\n",
       "  </tbody>\n",
       "</table>\n",
       "<p>5 rows × 76 columns</p>\n",
       "</div>"
      ],
      "text/plain": [
       "   B. SANDERS  H. CLINTON    state          county         1st         2nd  \\\n",
       "0           0           1  Alabama  Autauga County  H. CLINTON  B. SANDERS   \n",
       "1           0           1  Alabama  Baldwin County  H. CLINTON  B. SANDERS   \n",
       "2           0           1  Alabama  Barbour County  H. CLINTON  B. SANDERS   \n",
       "3           0           1  Alabama     Bibb County  H. CLINTON  B. SANDERS   \n",
       "4           0           1  Alabama   Blount County  H. CLINTON  B. SANDERS   \n",
       "\n",
       "           3rd  votes1  votes2  votes3    ...      SBO015207  MAN450207  \\\n",
       "0  UNCOMMITTED  2387.0   544.0    42.0    ...           31.7        0.0   \n",
       "1  UNCOMMITTED  5290.0  2694.0   149.0    ...           27.3  1410273.0   \n",
       "2  UNCOMMITTED  2567.0   222.0    33.0    ...           27.0        0.0   \n",
       "3  UNCOMMITTED   942.0   246.0    46.0    ...            0.0        0.0   \n",
       "4  UNCOMMITTED   564.0   395.0    56.0    ...           23.2   341544.0   \n",
       "\n",
       "   WTN220207  RTN130207 RTN131207 AFN120207 BPS030214 LND110210  POP060210  \\\n",
       "0        0.0   598175.0   12003.0   88157.0     131.0    594.44       91.8   \n",
       "1        0.0  2966489.0   17166.0  436955.0    1384.0   1589.78      114.6   \n",
       "2        0.0   188337.0    6334.0       0.0       8.0    884.88       31.0   \n",
       "3        0.0   124707.0    5804.0   10757.0      19.0    622.58       36.8   \n",
       "4        0.0   319700.0    5622.0   20941.0       3.0    644.78       88.9   \n",
       "\n",
       "   test_fold  \n",
       "0          4  \n",
       "1          4  \n",
       "2          4  \n",
       "3          4  \n",
       "4          4  \n",
       "\n",
       "[5 rows x 76 columns]"
      ]
     },
     "execution_count": 161,
     "metadata": {},
     "output_type": "execute_result"
    }
   ],
   "source": [
    "county_dems.head(5)"
   ]
  },
  {
   "cell_type": "code",
   "execution_count": 162,
   "metadata": {},
   "outputs": [
    {
     "data": {
      "text/plain": [
       "2249"
      ]
     },
     "execution_count": 162,
     "metadata": {},
     "output_type": "execute_result"
    }
   ],
   "source": [
    "len(county_dems)"
   ]
  },
  {
   "cell_type": "code",
   "execution_count": 163,
   "metadata": {},
   "outputs": [
    {
     "data": {
      "text/html": [
       "<div>\n",
       "<table border=\"1\" class=\"dataframe\">\n",
       "  <thead>\n",
       "    <tr style=\"text-align: right;\">\n",
       "      <th></th>\n",
       "      <th>PST045214</th>\n",
       "      <th>PST040210</th>\n",
       "      <th>PST120214</th>\n",
       "      <th>POP010210</th>\n",
       "      <th>AGE135214</th>\n",
       "      <th>AGE295214</th>\n",
       "      <th>AGE775214</th>\n",
       "      <th>SEX255214</th>\n",
       "      <th>RHI125214</th>\n",
       "      <th>RHI225214</th>\n",
       "      <th>...</th>\n",
       "      <th>SBO015207</th>\n",
       "      <th>MAN450207</th>\n",
       "      <th>WTN220207</th>\n",
       "      <th>RTN130207</th>\n",
       "      <th>RTN131207</th>\n",
       "      <th>AFN120207</th>\n",
       "      <th>BPS030214</th>\n",
       "      <th>LND110210</th>\n",
       "      <th>POP060210</th>\n",
       "      <th>test_fold</th>\n",
       "    </tr>\n",
       "  </thead>\n",
       "  <tbody>\n",
       "    <tr>\n",
       "      <th>0</th>\n",
       "      <td>55395.0</td>\n",
       "      <td>54571.0</td>\n",
       "      <td>1.5</td>\n",
       "      <td>54571.0</td>\n",
       "      <td>6.0</td>\n",
       "      <td>25.2</td>\n",
       "      <td>13.8</td>\n",
       "      <td>51.4</td>\n",
       "      <td>77.9</td>\n",
       "      <td>18.7</td>\n",
       "      <td>...</td>\n",
       "      <td>31.7</td>\n",
       "      <td>0.0</td>\n",
       "      <td>0.0</td>\n",
       "      <td>598175.0</td>\n",
       "      <td>12003.0</td>\n",
       "      <td>88157.0</td>\n",
       "      <td>131.0</td>\n",
       "      <td>594.44</td>\n",
       "      <td>91.8</td>\n",
       "      <td>4</td>\n",
       "    </tr>\n",
       "    <tr>\n",
       "      <th>1</th>\n",
       "      <td>200111.0</td>\n",
       "      <td>182265.0</td>\n",
       "      <td>9.8</td>\n",
       "      <td>182265.0</td>\n",
       "      <td>5.6</td>\n",
       "      <td>22.2</td>\n",
       "      <td>18.7</td>\n",
       "      <td>51.2</td>\n",
       "      <td>87.1</td>\n",
       "      <td>9.6</td>\n",
       "      <td>...</td>\n",
       "      <td>27.3</td>\n",
       "      <td>1410273.0</td>\n",
       "      <td>0.0</td>\n",
       "      <td>2966489.0</td>\n",
       "      <td>17166.0</td>\n",
       "      <td>436955.0</td>\n",
       "      <td>1384.0</td>\n",
       "      <td>1589.78</td>\n",
       "      <td>114.6</td>\n",
       "      <td>4</td>\n",
       "    </tr>\n",
       "    <tr>\n",
       "      <th>2</th>\n",
       "      <td>26887.0</td>\n",
       "      <td>27457.0</td>\n",
       "      <td>-2.1</td>\n",
       "      <td>27457.0</td>\n",
       "      <td>5.7</td>\n",
       "      <td>21.2</td>\n",
       "      <td>16.5</td>\n",
       "      <td>46.6</td>\n",
       "      <td>50.2</td>\n",
       "      <td>47.6</td>\n",
       "      <td>...</td>\n",
       "      <td>27.0</td>\n",
       "      <td>0.0</td>\n",
       "      <td>0.0</td>\n",
       "      <td>188337.0</td>\n",
       "      <td>6334.0</td>\n",
       "      <td>0.0</td>\n",
       "      <td>8.0</td>\n",
       "      <td>884.88</td>\n",
       "      <td>31.0</td>\n",
       "      <td>4</td>\n",
       "    </tr>\n",
       "    <tr>\n",
       "      <th>3</th>\n",
       "      <td>22506.0</td>\n",
       "      <td>22919.0</td>\n",
       "      <td>-1.8</td>\n",
       "      <td>22915.0</td>\n",
       "      <td>5.3</td>\n",
       "      <td>21.0</td>\n",
       "      <td>14.8</td>\n",
       "      <td>45.9</td>\n",
       "      <td>76.3</td>\n",
       "      <td>22.1</td>\n",
       "      <td>...</td>\n",
       "      <td>0.0</td>\n",
       "      <td>0.0</td>\n",
       "      <td>0.0</td>\n",
       "      <td>124707.0</td>\n",
       "      <td>5804.0</td>\n",
       "      <td>10757.0</td>\n",
       "      <td>19.0</td>\n",
       "      <td>622.58</td>\n",
       "      <td>36.8</td>\n",
       "      <td>4</td>\n",
       "    </tr>\n",
       "    <tr>\n",
       "      <th>4</th>\n",
       "      <td>57719.0</td>\n",
       "      <td>57322.0</td>\n",
       "      <td>0.7</td>\n",
       "      <td>57322.0</td>\n",
       "      <td>6.1</td>\n",
       "      <td>23.6</td>\n",
       "      <td>17.0</td>\n",
       "      <td>50.5</td>\n",
       "      <td>96.0</td>\n",
       "      <td>1.8</td>\n",
       "      <td>...</td>\n",
       "      <td>23.2</td>\n",
       "      <td>341544.0</td>\n",
       "      <td>0.0</td>\n",
       "      <td>319700.0</td>\n",
       "      <td>5622.0</td>\n",
       "      <td>20941.0</td>\n",
       "      <td>3.0</td>\n",
       "      <td>644.78</td>\n",
       "      <td>88.9</td>\n",
       "      <td>4</td>\n",
       "    </tr>\n",
       "  </tbody>\n",
       "</table>\n",
       "<p>5 rows × 52 columns</p>\n",
       "</div>"
      ],
      "text/plain": [
       "   PST045214  PST040210  PST120214  POP010210  AGE135214  AGE295214  \\\n",
       "0    55395.0    54571.0        1.5    54571.0        6.0       25.2   \n",
       "1   200111.0   182265.0        9.8   182265.0        5.6       22.2   \n",
       "2    26887.0    27457.0       -2.1    27457.0        5.7       21.2   \n",
       "3    22506.0    22919.0       -1.8    22915.0        5.3       21.0   \n",
       "4    57719.0    57322.0        0.7    57322.0        6.1       23.6   \n",
       "\n",
       "   AGE775214  SEX255214  RHI125214  RHI225214    ...      SBO015207  \\\n",
       "0       13.8       51.4       77.9       18.7    ...           31.7   \n",
       "1       18.7       51.2       87.1        9.6    ...           27.3   \n",
       "2       16.5       46.6       50.2       47.6    ...           27.0   \n",
       "3       14.8       45.9       76.3       22.1    ...            0.0   \n",
       "4       17.0       50.5       96.0        1.8    ...           23.2   \n",
       "\n",
       "   MAN450207  WTN220207  RTN130207  RTN131207  AFN120207  BPS030214  \\\n",
       "0        0.0        0.0   598175.0    12003.0    88157.0      131.0   \n",
       "1  1410273.0        0.0  2966489.0    17166.0   436955.0     1384.0   \n",
       "2        0.0        0.0   188337.0     6334.0        0.0        8.0   \n",
       "3        0.0        0.0   124707.0     5804.0    10757.0       19.0   \n",
       "4   341544.0        0.0   319700.0     5622.0    20941.0        3.0   \n",
       "\n",
       "   LND110210  POP060210  test_fold  \n",
       "0     594.44       91.8          4  \n",
       "1    1589.78      114.6          4  \n",
       "2     884.88       31.0          4  \n",
       "3     622.58       36.8          4  \n",
       "4     644.78       88.9          4  \n",
       "\n",
       "[5 rows x 52 columns]"
      ]
     },
     "execution_count": 163,
     "metadata": {},
     "output_type": "execute_result"
    }
   ],
   "source": [
    "X = county_dems[county_dems.columns.values[24:]]\n",
    "X.head(5)"
   ]
  },
  {
   "cell_type": "code",
   "execution_count": 164,
   "metadata": {
    "collapsed": true
   },
   "outputs": [],
   "source": [
    "X.fillna(0)\n",
    "X.head(5)\n",
    "del X['test_fold']"
   ]
  },
  {
   "cell_type": "code",
   "execution_count": 165,
   "metadata": {},
   "outputs": [
    {
     "data": {
      "text/plain": [
       "array([[  8.78208989e-02,   8.65145640e-02,   2.37803680e-06, ...,\n",
       "          2.07681880e-04,   9.42400129e-04,   1.45535852e-04],\n",
       "       [  5.99573950e-02,   5.46103643e-02,   2.93628272e-06, ...,\n",
       "          4.14675029e-04,   4.76330973e-04,   3.43365306e-05],\n",
       "       [  1.23570568e-01,   1.26190244e-01,  -9.65143724e-06, ...,\n",
       "          3.67673800e-05,   4.06683990e-03,   1.42473597e-04],\n",
       "       ..., \n",
       "       [  4.29313140e-02,   4.33708137e-02,  -2.05373680e-06, ...,\n",
       "          8.21494719e-05,   4.27436025e-03,   2.07427417e-05],\n",
       "       [  4.17197169e-02,   4.27774987e-02,  -1.25329599e-05, ...,\n",
       "          2.00527358e-05,   1.12222629e-02,   1.90500990e-05],\n",
       "       [  4.38235751e-02,   4.38661755e-02,  -6.08576241e-07, ...,\n",
       "          6.08576241e-06,   1.45942060e-02,   1.82572872e-05]])"
      ]
     },
     "execution_count": 165,
     "metadata": {},
     "output_type": "execute_result"
    }
   ],
   "source": [
    "from sklearn.preprocessing import Normalizer\n",
    "normalizer = Normalizer()\n",
    "normalizer.fit_transform(X)"
   ]
  },
  {
   "cell_type": "code",
   "execution_count": 166,
   "metadata": {},
   "outputs": [
    {
     "data": {
      "text/plain": [
       "0    0\n",
       "1    0\n",
       "2    0\n",
       "3    0\n",
       "4    0\n",
       "Name: B. SANDERS, dtype: uint8"
      ]
     },
     "execution_count": 166,
     "metadata": {},
     "output_type": "execute_result"
    }
   ],
   "source": [
    "#Y = county_dems['H. CLINTON']\n",
    "Y = county_dems['B. SANDERS']\n",
    "Y.head(5)"
   ]
  },
  {
   "cell_type": "code",
   "execution_count": 167,
   "metadata": {},
   "outputs": [
    {
     "data": {
      "text/plain": [
       "17"
      ]
     },
     "execution_count": 167,
     "metadata": {},
     "output_type": "execute_result"
    }
   ],
   "source": [
    "test_fold = county_dems['test_fold']\n",
    "max(test_fold)"
   ]
  },
  {
   "cell_type": "code",
   "execution_count": 168,
   "metadata": {},
   "outputs": [
    {
     "name": "stdout",
     "output_type": "stream",
     "text": [
      "Group 0, 02/01/16, Iowa\n",
      "Group 1, 02/09/16, New Hampshire\n",
      "Group 2, 02/20/16, Nevada\n",
      "Group 3, 02/27/16, South Carolina\n",
      "Group 4, 03/01/16, Alabama Arkansas Colorado Georgia Massachusetts Oklahoma Tennessee Texas Vermont Virginia\n",
      "Group 5, 03/05/16, Louisiana\n",
      "Group 6, 03/06/16, Maine\n",
      "Group 7, 03/08/16, Michigan Mississippi\n",
      "Group 8, 03/15/16, Florida Illinois Missouri North Carolina Ohio\n",
      "Group 9, 03/22/16, Arizona Idaho Utah\n",
      "Group10, 03/26/16, Alaska Hawaii\n",
      "Group11, 04/05/16, Wisconsin\n",
      "Group12, 04/09/16, Wyoming\n",
      "Group13, 04/26/16, Connecticut Delaware Maryland Pennsylvania Rhode Island\n",
      "Group14, 05/10/16, Nebraska West Virginia\n",
      "Group15, 05/17/16, Kentucky\n",
      "Group16, 05/24/16, Washington\n",
      "Group17, 06/07/16, California Montana\n"
     ]
    }
   ],
   "source": [
    "#\n",
    "# Which states are in each test group ?\n",
    "#\n",
    "\n",
    "test_fold_dict = dict(county_dems.groupby('test_fold')['state'].unique())\n",
    "for i in range(0,18):\n",
    "    print \"Group%2i, \" % i + group_to_date_dict[i]+', '+' '.join(test_fold_dict[i])"
   ]
  },
  {
   "cell_type": "code",
   "execution_count": 169,
   "metadata": {},
   "outputs": [
    {
     "name": "stdout",
     "output_type": "stream",
     "text": [
      "Group 1, TestLength:  10, Accuracy: 1.0000, Precision: 1.0000, Recall: 1.0000\n",
      "Group 2, TestLength:  17, Accuracy: 0.4118, Precision: 0.2000, Recall: 0.5000\n",
      "Group 3, TestLength:  46, Accuracy: 1.0000, Precision: 0.0000, Recall: 0.0000\n",
      "Group 4, TestLength: 707, Accuracy: 0.6591, Precision: 0.1099, Recall: 0.0588\n",
      "Group 5, TestLength:  64, Accuracy: 0.6719, Precision: 0.0476, Recall: 0.5000\n",
      "Group 6, TestLength:  16, Accuracy: 0.6250, Precision: 1.0000, Recall: 0.6250\n",
      "Group 7, TestLength: 165, Accuracy: 0.5515, Precision: 0.5000, Recall: 0.0135\n",
      "Group 8, TestLength: 458, Accuracy: 0.6528, Precision: 0.0000, Recall: 0.0000\n",
      "Group 9, TestLength:  88, Accuracy: 0.4091, Precision: 0.9167, Recall: 0.3056\n",
      "Group10, TestLength:   5, Accuracy: 0.0000, Precision: 0.0000, Recall: 0.0000\n",
      "Group11, TestLength:  50, Accuracy: 0.1400, Precision: 1.0000, Recall: 0.1224\n",
      "Group12, TestLength:  23, Accuracy: 0.6087, Precision: 0.8667, Recall: 0.6500\n",
      "Group13, TestLength: 106, Accuracy: 0.5566, Precision: 0.3559, Recall: 0.7000\n",
      "Group14, TestLength: 125, Accuracy: 0.5360, Precision: 0.8000, Recall: 0.4835\n",
      "Group15, TestLength: 119, Accuracy: 0.4454, Precision: 0.6596, Recall: 0.3827\n",
      "Group16, TestLength:  39, Accuracy: 0.5128, Precision: 1.0000, Recall: 0.5128\n",
      "Group17, TestLength: 113, Accuracy: 0.6283, Precision: 0.7297, Recall: 0.4576\n"
     ]
    }
   ],
   "source": [
    "#\n",
    "# Logistic Regression\n",
    "#\n",
    "\n",
    "from sklearn import linear_model\n",
    "from sklearn.metrics import precision_score, recall_score\n",
    "clf = linear_model.SGDClassifier(loss='log')\n",
    "scores_dict = {}\n",
    "precisions_dict = {}\n",
    "recalls_dict = {}\n",
    "for i in range(1,18):\n",
    "    X_train = X[test_fold < i]\n",
    "    Y_train = Y[test_fold < i]\n",
    "    X_test = X[test_fold == i]\n",
    "    Y_test = Y[test_fold == i]\n",
    "    clf.fit(X_train,Y_train)\n",
    "    scores_dict[i] = clf.score(X_test,Y_test)\n",
    "    Y_pred = clf.predict(X_test)\n",
    "    precisions_dict[i] = precision_score(Y_test, Y_pred)\n",
    "    recalls_dict[i] = recall_score(Y_test, Y_pred)\n",
    "    \n",
    "    print \"Group%2i, TestLength: %3i, Accuracy: %5.4f, Precision: %5.4f, Recall: %5.4f\" % \\\n",
    "                (i, len(Y_test), scores_dict[i], precisions_dict[i], recalls_dict[i])"
   ]
  },
  {
   "cell_type": "code",
   "execution_count": 170,
   "metadata": {},
   "outputs": [
    {
     "name": "stdout",
     "output_type": "stream",
     "text": [
      "Group 1, TestLength:  10, Accuracy: 1.0000, Precision: 1.0000, Recall: 1.0000\n",
      "Group 2, TestLength:  17, Accuracy: 0.4118, Precision: 0.2000, Recall: 0.5000\n",
      "Group 3, TestLength:  46, Accuracy: 0.3696, Precision: 0.0000, Recall: 0.0000\n",
      "Group 4, TestLength: 707, Accuracy: 0.5361, Precision: 0.2257, Recall: 0.3824\n",
      "Group 5, TestLength:  64, Accuracy: 0.9375, Precision: 0.2500, Recall: 0.5000\n",
      "Group 6, TestLength:  16, Accuracy: 0.2500, Precision: 1.0000, Recall: 0.2500\n",
      "Group 7, TestLength: 165, Accuracy: 0.5515, Precision: 0.5000, Recall: 0.0135\n",
      "Group 8, TestLength: 458, Accuracy: 0.4017, Precision: 0.3127, Recall: 0.6038\n",
      "Group 9, TestLength:  88, Accuracy: 0.8182, Precision: 0.8684, Recall: 0.9167\n",
      "Group10, TestLength:   5, Accuracy: 0.0000, Precision: 0.0000, Recall: 0.0000\n",
      "Group11, TestLength:  50, Accuracy: 0.9800, Precision: 0.9800, Recall: 1.0000\n",
      "Group12, TestLength:  23, Accuracy: 0.1739, Precision: 1.0000, Recall: 0.0500\n",
      "Group13, TestLength: 106, Accuracy: 0.5755, Precision: 0.2727, Recall: 0.3000\n",
      "Group14, TestLength: 125, Accuracy: 0.2800, Precision: 0.5294, Recall: 0.0989\n",
      "Group15, TestLength: 119, Accuracy: 0.4538, Precision: 0.8077, Recall: 0.2593\n",
      "Group16, TestLength:  39, Accuracy: 0.4872, Precision: 1.0000, Recall: 0.4872\n",
      "Group17, TestLength: 113, Accuracy: 0.5133, Precision: 0.7500, Recall: 0.1017\n"
     ]
    }
   ],
   "source": [
    "#\n",
    "# SVM Model\n",
    "#\n",
    "\n",
    "clf = linear_model.SGDClassifier(loss='hinge')\n",
    "scores_dict = {}\n",
    "precisions_dict = {}\n",
    "recalls_dict = {}\n",
    "for i in range(1,18):\n",
    "    X_train = X[test_fold < i]\n",
    "    Y_train = Y[test_fold < i]\n",
    "    X_test = X[test_fold == i]\n",
    "    Y_test = Y[test_fold == i]\n",
    "    clf.fit(X_train,Y_train)\n",
    "    scores_dict[i] = clf.score(X_test,Y_test)\n",
    "    Y_pred = clf.predict(X_test)\n",
    "    precisions_dict[i] = precision_score(Y_test, Y_pred)\n",
    "    recalls_dict[i] = recall_score(Y_test, Y_pred)\n",
    "    \n",
    "    print \"Group%2i, TestLength: %3i, Accuracy: %5.4f, Precision: %5.4f, Recall: %5.4f\" % \\\n",
    "                (i, len(Y_test), scores_dict[i], precisions_dict[i], recalls_dict[i])"
   ]
  },
  {
   "cell_type": "code",
   "execution_count": null,
   "metadata": {
    "collapsed": true
   },
   "outputs": [],
   "source": []
  },
  {
   "cell_type": "code",
   "execution_count": null,
   "metadata": {
    "collapsed": true
   },
   "outputs": [],
   "source": []
  }
 ],
 "metadata": {
  "kernelspec": {
   "display_name": "Python 3",
   "language": "python",
   "name": "python3"
  },
  "language_info": {
   "codemirror_mode": {
    "name": "ipython",
    "version": 3
   },
   "file_extension": ".py",
   "mimetype": "text/x-python",
   "name": "python",
   "nbconvert_exporter": "python",
   "pygments_lexer": "ipython3",
   "version": "3.5.2"
  }
 },
 "nbformat": 4,
 "nbformat_minor": 2
}
