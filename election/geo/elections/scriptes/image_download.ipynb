{
 "cells": [
  {
   "cell_type": "code",
   "execution_count": 39,
   "metadata": {
    "collapsed": true
   },
   "outputs": [],
   "source": [
    "import os\n",
    "\n",
    "import numpy as np\n",
    "import pandas as pd\n",
    "import requests\n",
    "import bs4\n",
    "\n",
    "from time import sleep"
   ]
  },
  {
   "cell_type": "code",
   "execution_count": 2,
   "metadata": {
    "collapsed": true
   },
   "outputs": [],
   "source": [
    "base_url = 'https://en.wikipedia.org/wiki/United_States_presidential_election_in_{},_{}'"
   ]
  },
  {
   "cell_type": "code",
   "execution_count": 3,
   "metadata": {
    "collapsed": true
   },
   "outputs": [],
   "source": [
    "states =  ['Alaska', 'Alabama', 'Arkansas', 'Arizona', 'California', 'Colorado', 'Connecticut', 'District of Columbia', 'Delaware', 'Florida', 'Georgia', 'Hawaii', 'Iowa', 'Idaho', 'Illinois', 'Indiana', 'Kansas', 'Kentucky', 'Louisiana', 'Massachusetts', 'Maryland', 'Maine', 'Michigan', 'Minnesota', 'Missouri', 'Mississippi', 'Montana', 'North Carolina', 'North Dakota', 'Nebraska', 'New Hampshire', 'New Jersey', 'New Mexico', 'Nevada', 'New York', 'Ohio', 'Oklahoma', 'Oregon', 'Pennsylvania', 'Rhode Island', 'South Carolina', 'South Dakota', 'Tennessee', 'Texas', 'Utah', 'Virginia', 'Vermont', 'Washington', 'Wisconsin', 'West Virginia', 'Wyoming']"
   ]
  },
  {
   "cell_type": "code",
   "execution_count": null,
   "metadata": {
    "collapsed": true
   },
   "outputs": [],
   "source": [
    "https://en.wikipedia.org/wiki/United_States_presidential_election_in_Alabama,_1968\n",
    "    #/media/File:Alabama_1968_Presidential_Election_Results_By_County.svg"
   ]
  },
  {
   "cell_type": "code",
   "execution_count": 6,
   "metadata": {},
   "outputs": [
    {
     "data": {
      "text/plain": [
       "[<img alt=\"Donald Trump Pentagon 2017.jpg\" class=\"thumbborder\" data-file-height=\"1008\" data-file-width=\"732\" height=\"150\" src=\"//upload.wikimedia.org/wikipedia/commons/thumb/0/0e/Donald_Trump_Pentagon_2017.jpg/109px-Donald_Trump_Pentagon_2017.jpg\" srcset=\"//upload.wikimedia.org/wikipedia/commons/thumb/0/0e/Donald_Trump_Pentagon_2017.jpg/163px-Donald_Trump_Pentagon_2017.jpg 1.5x, //upload.wikimedia.org/wikipedia/commons/thumb/0/0e/Donald_Trump_Pentagon_2017.jpg/218px-Donald_Trump_Pentagon_2017.jpg 2x\" width=\"109\"/>,\n",
       " <img alt=\"Gary Johnson June 2016.jpg\" data-file-height=\"2320\" data-file-width=\"1608\" height=\"150\" src=\"//upload.wikimedia.org/wikipedia/commons/thumb/9/9c/Gary_Johnson_June_2016.jpg/104px-Gary_Johnson_June_2016.jpg\" srcset=\"//upload.wikimedia.org/wikipedia/commons/thumb/9/9c/Gary_Johnson_June_2016.jpg/156px-Gary_Johnson_June_2016.jpg 1.5x, //upload.wikimedia.org/wikipedia/commons/thumb/9/9c/Gary_Johnson_June_2016.jpg/208px-Gary_Johnson_June_2016.jpg 2x\" width=\"104\"/>,\n",
       " <img alt=\"Washington Presidential Election Results 2016.svg\" data-file-height=\"124\" data-file-width=\"166\" height=\"261\" src=\"//upload.wikimedia.org/wikipedia/commons/thumb/8/84/Washington_Presidential_Election_Results_2016.svg/350px-Washington_Presidential_Election_Results_2016.svg.png\" srcset=\"//upload.wikimedia.org/wikipedia/commons/thumb/8/84/Washington_Presidential_Election_Results_2016.svg/525px-Washington_Presidential_Election_Results_2016.svg.png 1.5x, //upload.wikimedia.org/wikipedia/commons/thumb/8/84/Washington_Presidential_Election_Results_2016.svg/700px-Washington_Presidential_Election_Results_2016.svg.png 2x\" width=\"350\"/>,\n",
       " <img alt=\"United States presidential election in Washington, 2016, results by county.png\" data-file-height=\"2381\" data-file-width=\"3633\" height=\"229\" src=\"//upload.wikimedia.org/wikipedia/commons/thumb/6/6a/United_States_presidential_election_in_Washington%2C_2016%2C_results_by_county.png/350px-United_States_presidential_election_in_Washington%2C_2016%2C_results_by_county.png\" srcset=\"//upload.wikimedia.org/wikipedia/commons/thumb/6/6a/United_States_presidential_election_in_Washington%2C_2016%2C_results_by_county.png/525px-United_States_presidential_election_in_Washington%2C_2016%2C_results_by_county.png 1.5x, //upload.wikimedia.org/wikipedia/commons/thumb/6/6a/United_States_presidential_election_in_Washington%2C_2016%2C_results_by_county.png/700px-United_States_presidential_election_in_Washington%2C_2016%2C_results_by_county.png 2x\" width=\"350\"/>]"
      ]
     },
     "execution_count": 6,
     "metadata": {},
     "output_type": "execute_result"
    }
   ],
   "source": [
    "images"
   ]
  },
  {
   "cell_type": "code",
   "execution_count": 7,
   "metadata": {
    "collapsed": true
   },
   "outputs": [],
   "source": [
    "def check_image_name(images, state, year):\n",
    "    images = [x for x in images if str(year) in x.get('alt').lower()]\n",
    "    if len(images) == 1:\n",
    "        return images[0]\n",
    "    print(state, year)\n",
    "    images = [x for x in images if str(state.split()[0]).lower() in x.get('alt').lower()]\n",
    "    if len(images) == 1:\n",
    "        return images[0]\n",
    "    if len(images) >= 2:\n",
    "        return images[-1]\n",
    "    print('    Double Fail')\n",
    "#     for x in images:\n",
    "#         im_name = x.get('alt').lower()\n",
    "# #         if 'presidential election' not in im_name:\n",
    "# #             continue\n",
    "# #         if 'results' not in im_name:\n",
    "# #             continue\n",
    "#         if str(year) in im_name:\n",
    "#             return x\n",
    "#         elif state.lower() in im_name:\n",
    "#             return x"
   ]
  },
  {
   "cell_type": "code",
   "execution_count": 15,
   "metadata": {},
   "outputs": [
    {
     "data": {
      "text/plain": [
       "[<img alt=\"Washington Presidential Election Results 2016.svg\" data-file-height=\"124\" data-file-width=\"166\" height=\"261\" src=\"//upload.wikimedia.org/wikipedia/commons/thumb/8/84/Washington_Presidential_Election_Results_2016.svg/350px-Washington_Presidential_Election_Results_2016.svg.png\" srcset=\"//upload.wikimedia.org/wikipedia/commons/thumb/8/84/Washington_Presidential_Election_Results_2016.svg/525px-Washington_Presidential_Election_Results_2016.svg.png 1.5x, //upload.wikimedia.org/wikipedia/commons/thumb/8/84/Washington_Presidential_Election_Results_2016.svg/700px-Washington_Presidential_Election_Results_2016.svg.png 2x\" width=\"350\"/>,\n",
       " <img alt=\"United States presidential election in Washington, 2016, results by county.png\" data-file-height=\"2381\" data-file-width=\"3633\" height=\"229\" src=\"//upload.wikimedia.org/wikipedia/commons/thumb/6/6a/United_States_presidential_election_in_Washington%2C_2016%2C_results_by_county.png/350px-United_States_presidential_election_in_Washington%2C_2016%2C_results_by_county.png\" srcset=\"//upload.wikimedia.org/wikipedia/commons/thumb/6/6a/United_States_presidential_election_in_Washington%2C_2016%2C_results_by_county.png/525px-United_States_presidential_election_in_Washington%2C_2016%2C_results_by_county.png 1.5x, //upload.wikimedia.org/wikipedia/commons/thumb/6/6a/United_States_presidential_election_in_Washington%2C_2016%2C_results_by_county.png/700px-United_States_presidential_election_in_Washington%2C_2016%2C_results_by_county.png 2x\" width=\"350\"/>,\n",
       " None,\n",
       " None,\n",
       " None,\n",
       " None,\n",
       " None,\n",
       " None,\n",
       " None]"
      ]
     },
     "execution_count": 15,
     "metadata": {},
     "output_type": "execute_result"
    }
   ],
   "source": [
    "[x.find('img') for x in soup.find_all('tr') if 'results' in x.text.lower()]"
   ]
  },
  {
   "cell_type": "code",
   "execution_count": 30,
   "metadata": {},
   "outputs": [
    {
     "data": {
      "text/plain": [
       "[<img alt=\"JohnAnderson.png\" data-file-height=\"579\" data-file-width=\"467\" height=\"164\" src=\"//upload.wikimedia.org/wikipedia/commons/thumb/c/ca/JohnAnderson.png/132px-JohnAnderson.png\" srcset=\"//upload.wikimedia.org/wikipedia/commons/thumb/c/ca/JohnAnderson.png/198px-JohnAnderson.png 1.5x, //upload.wikimedia.org/wikipedia/commons/thumb/c/ca/JohnAnderson.png/264px-JohnAnderson.png 2x\" width=\"132\"/>,\n",
       " <img alt=\"United States presidential election in Rhode Island, 1980 results by county.svg\" data-file-height=\"206\" data-file-width=\"140\" height=\"265\" src=\"//upload.wikimedia.org/wikipedia/commons/thumb/a/ae/United_States_presidential_election_in_Rhode_Island%2C_1980_results_by_county.svg/180px-United_States_presidential_election_in_Rhode_Island%2C_1980_results_by_county.svg.png\" srcset=\"//upload.wikimedia.org/wikipedia/commons/thumb/a/ae/United_States_presidential_election_in_Rhode_Island%2C_1980_results_by_county.svg/270px-United_States_presidential_election_in_Rhode_Island%2C_1980_results_by_county.svg.png 1.5x, //upload.wikimedia.org/wikipedia/commons/thumb/a/ae/United_States_presidential_election_in_Rhode_Island%2C_1980_results_by_county.svg/360px-United_States_presidential_election_in_Rhode_Island%2C_1980_results_by_county.svg.png 2x\" width=\"180\"/>]"
      ]
     },
     "execution_count": 30,
     "metadata": {},
     "output_type": "execute_result"
    }
   ],
   "source": [
    "soup.find('table', {'class': 'infobox vevent'}).find_all('img')[3:]"
   ]
  },
  {
   "cell_type": "code",
   "execution_count": 41,
   "metadata": {
    "scrolled": true
   },
   "outputs": [
    {
     "name": "stdout",
     "output_type": "stream",
     "text": [
      "https://en.wikipedia.org/wiki/United_States_presidential_election_in_Alaska,_2016\n",
      "https://en.wikipedia.org/wiki/United_States_presidential_election_in_Alabama,_2016\n",
      "https://en.wikipedia.org/wiki/United_States_presidential_election_in_Arkansas,_2016\n",
      "https://en.wikipedia.org/wiki/United_States_presidential_election_in_Arizona,_2016\n",
      "https://en.wikipedia.org/wiki/United_States_presidential_election_in_California,_2016\n",
      "https://en.wikipedia.org/wiki/United_States_presidential_election_in_Colorado,_2016\n",
      "https://en.wikipedia.org/wiki/United_States_presidential_election_in_Connecticut,_2016\n",
      "https://en.wikipedia.org/wiki/United_States_presidential_election_in_the_District_of_Columbia,_2016\n",
      "https://en.wikipedia.org/wiki/United_States_presidential_election_in_Delaware,_2016\n",
      "https://en.wikipedia.org/wiki/United_States_presidential_election_in_Florida,_2016\n",
      "https://en.wikipedia.org/wiki/United_States_presidential_election_in_Georgia,_2016\n",
      "https://en.wikipedia.org/wiki/United_States_presidential_election_in_Hawaii,_2016\n",
      "https://en.wikipedia.org/wiki/United_States_presidential_election_in_Iowa,_2016\n",
      "https://en.wikipedia.org/wiki/United_States_presidential_election_in_Idaho,_2016\n",
      "Idaho 2016\n",
      "https://en.wikipedia.org/wiki/United_States_presidential_election_in_Illinois,_2016\n",
      "https://en.wikipedia.org/wiki/United_States_presidential_election_in_Indiana,_2016\n",
      "https://en.wikipedia.org/wiki/United_States_presidential_election_in_Kansas,_2016\n",
      "https://en.wikipedia.org/wiki/United_States_presidential_election_in_Kentucky,_2016\n",
      "https://en.wikipedia.org/wiki/United_States_presidential_election_in_Louisiana,_2016\n",
      "https://en.wikipedia.org/wiki/United_States_presidential_election_in_Massachusetts,_2016\n",
      "https://en.wikipedia.org/wiki/United_States_presidential_election_in_Maryland,_2016\n",
      "https://en.wikipedia.org/wiki/United_States_presidential_election_in_Maine,_2016\n",
      "https://en.wikipedia.org/wiki/United_States_presidential_election_in_Michigan,_2016\n",
      "https://en.wikipedia.org/wiki/United_States_presidential_election_in_Minnesota,_2016\n",
      "https://en.wikipedia.org/wiki/United_States_presidential_election_in_Missouri,_2016\n",
      "https://en.wikipedia.org/wiki/United_States_presidential_election_in_Mississippi,_2016\n",
      "https://en.wikipedia.org/wiki/United_States_presidential_election_in_Montana,_2016\n",
      "https://en.wikipedia.org/wiki/United_States_presidential_election_in_North_Carolina,_2016\n",
      "https://en.wikipedia.org/wiki/United_States_presidential_election_in_North_Dakota,_2016\n",
      "https://en.wikipedia.org/wiki/United_States_presidential_election_in_Nebraska,_2016\n",
      "https://en.wikipedia.org/wiki/United_States_presidential_election_in_New_Hampshire,_2016\n",
      "https://en.wikipedia.org/wiki/United_States_presidential_election_in_New_Jersey,_2016\n",
      "https://en.wikipedia.org/wiki/United_States_presidential_election_in_New_Mexico,_2016\n",
      "https://en.wikipedia.org/wiki/United_States_presidential_election_in_Nevada,_2016\n",
      "https://en.wikipedia.org/wiki/United_States_presidential_election_in_New_York,_2016\n",
      "https://en.wikipedia.org/wiki/United_States_presidential_election_in_Ohio,_2016\n",
      "https://en.wikipedia.org/wiki/United_States_presidential_election_in_Oklahoma,_2016\n",
      "https://en.wikipedia.org/wiki/United_States_presidential_election_in_Oregon,_2016\n",
      "https://en.wikipedia.org/wiki/United_States_presidential_election_in_Pennsylvania,_2016\n",
      "https://en.wikipedia.org/wiki/United_States_presidential_election_in_Rhode_Island,_2016\n",
      "https://en.wikipedia.org/wiki/United_States_presidential_election_in_South_Carolina,_2016\n",
      "https://en.wikipedia.org/wiki/United_States_presidential_election_in_South_Dakota,_2016\n",
      "https://en.wikipedia.org/wiki/United_States_presidential_election_in_Tennessee,_2016\n",
      "https://en.wikipedia.org/wiki/United_States_presidential_election_in_Texas,_2016\n",
      "https://en.wikipedia.org/wiki/United_States_presidential_election_in_Utah,_2016\n",
      "https://en.wikipedia.org/wiki/United_States_presidential_election_in_Virginia,_2016\n",
      "https://en.wikipedia.org/wiki/United_States_presidential_election_in_Vermont,_2016\n",
      "https://en.wikipedia.org/wiki/United_States_presidential_election_in_Washington,_2016\n",
      "https://en.wikipedia.org/wiki/United_States_presidential_election_in_Wisconsin,_2016\n",
      "https://en.wikipedia.org/wiki/United_States_presidential_election_in_West_Virginia,_2016\n",
      "https://en.wikipedia.org/wiki/United_States_presidential_election_in_Wyoming,_2016\n"
     ]
    }
   ],
   "source": [
    "# for year in range(1968, 2017, 4):\n",
    "for year in (2016,):\n",
    "    for state in states:\n",
    "#         sleep(0.5)\n",
    "#     for state in ['Arkansas']:\n",
    "        joined_state = state.replace(' ', '_')\n",
    "        if state == 'District of Columbia':\n",
    "            joined_state = 'the_' + joined_state\n",
    "        url = base_url.format(joined_state, year)\n",
    "        print(url)\n",
    "        soup = bs4.BeautifulSoup(requests.get(url).content, 'html5lib')\n",
    "        image_set1 = [x.find('img') for x in soup.find_all('tr') if ('results' in x.text.lower() \n",
    "                                                                     and 'showing number of vote' not in x.text.lower())]\n",
    "        image_set2 = soup.find('table', {'class': 'infobox vevent'}).find_all('img')[3:]\n",
    "        images = list(set(image_set1) & set(image_set2))\n",
    "        if len(images) == 1:\n",
    "            image = images[0]\n",
    "        elif not images:\n",
    "            images = image_set2\n",
    "            image = check_image_name(images, state, year)\n",
    "        else:\n",
    "            image = check_image_name(images, state, year)\n",
    "    \n",
    "        if not image:\n",
    "            continue\n",
    "        image_url = 'https:' + image.get('src')\n",
    "\n",
    "        im_path = 'state_images/{}'.format(joined_state.lower())\n",
    "        if not os.path.exists(im_path):\n",
    "            os.makedirs(im_path)\n",
    "\n",
    "        with open('{}/{}_{}.png'.format(im_path, joined_state.lower(), year), 'wb') as f:\n",
    "            r = requests.get(image_url, stream=True)\n",
    "            if not r.ok:\n",
    "                print(r)\n",
    "            for block in r.iter_content(1024):\n",
    "                if not block:\n",
    "                    break\n",
    "                f.write(block)"
   ]
  },
  {
   "cell_type": "code",
   "execution_count": null,
   "metadata": {
    "collapsed": true
   },
   "outputs": [],
   "source": []
  },
  {
   "cell_type": "code",
   "execution_count": null,
   "metadata": {
    "collapsed": true
   },
   "outputs": [],
   "source": []
  }
 ],
 "metadata": {
  "kernelspec": {
   "display_name": "Python 3",
   "language": "python",
   "name": "python3"
  },
  "language_info": {
   "codemirror_mode": {
    "name": "ipython",
    "version": 3
   },
   "file_extension": ".py",
   "mimetype": "text/x-python",
   "name": "python",
   "nbconvert_exporter": "python",
   "pygments_lexer": "ipython3",
   "version": "3.6.2"
  }
 },
 "nbformat": 4,
 "nbformat_minor": 2
}
