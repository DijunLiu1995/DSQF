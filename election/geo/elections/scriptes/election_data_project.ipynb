{
 "cells": [
  {
   "cell_type": "code",
   "execution_count": 2,
   "metadata": {
    "collapsed": true
   },
   "outputs": [],
   "source": [
    "from datetime import datetime\n",
    "from time import sleep\n",
    "\n",
    "import numpy as np\n",
    "import pandas as pd\n",
    "import requests\n",
    "import bs4\n",
    "from selenium import webdriver\n",
    "\n",
    "phantomjs_path = '/Users/atakata/Documents/phantomjs-2.1.1-macosx/bin/phantomjs'"
   ]
  },
  {
   "cell_type": "code",
   "execution_count": 2,
   "metadata": {
    "collapsed": true
   },
   "outputs": [],
   "source": [
    "url_2016_primary = 'http://www.politico.com/mapdata-2016/2016-election/primary/results/map/president/'\n",
    "url_2016 = 'http://www.politico.com/2016-election/results/map/president/'"
   ]
  },
  {
   "cell_type": "markdown",
   "metadata": {},
   "source": [
    "Gather The Data\n",
    "Scrape the 2012 and 2016 state-county election results data from Politico, the 2008 data from\n",
    "the NYC website, and the 2004 and 2000 data from Wiki. For each year, put your results in a\n",
    "elections/YYYY folder, in the form of a .csv file containing the following columns:\n",
    "* state, county: state and county name\n",
    "* 1nd, 2nd, 3rd: the names of the top, second and third candidate (nan if no third candidate)\n",
    "* votes1, votes2, votes3: the number of votes for the top, second and third candidate\n",
    "* pct1, pct2, pct3: percentage votes of the top, second and third candidate\n",
    "* party1, party2, party3: party of the top 3 candidates e.g. D / R / O (democrats, republicans or other)"
   ]
  },
  {
   "cell_type": "code",
   "execution_count": 101,
   "metadata": {
    "collapsed": true
   },
   "outputs": [],
   "source": [
    "browser = webdriver.PhantomJS(executable_path=phantomjs_path)\n",
    "browser.set_window_size(1400,1000)"
   ]
  },
  {
   "cell_type": "code",
   "execution_count": 103,
   "metadata": {
    "collapsed": true
   },
   "outputs": [],
   "source": [
    "def clean_party(x):\n",
    "    if 'democrat' in x.lower():\n",
    "        return 'D'\n",
    "    elif 'republican' in x.lower():\n",
    "        return 'R'\n",
    "    else:\n",
    "        return 'O'"
   ]
  },
  {
   "cell_type": "markdown",
   "metadata": {
    "collapsed": true
   },
   "source": [
    "# 2016 General\n",
    "\n",
    "soup = bs4.BeautifulSoup(requests.get(url_2016).content, 'html5lib')\n",
    "state_data = soup.find_all('article', {'class': 'timeline-group'})\n",
    "\n",
    "det_result_links = []\n",
    "for s in state_data:\n",
    "    state = s.find('a').text.strip()\n",
    "    elections = s.find_all('li')\n",
    "    for e in elections:\n",
    "        det_result_links.append(e.find('a').get('href'))\n",
    "\n",
    "data = []\n",
    "for href in det_result_links:\n",
    "    state = href.split('/')[-2].replace('-', ' ').title()\n",
    "    print(state)\n",
    "    \n",
    "    browser.get(href)\n",
    "    sleep(1)\n",
    "    for _ in range(10):\n",
    "        browser.execute_script(\"window.scrollTo(0, document.body.scrollHeight);\")\n",
    "        sleep(0.1)\n",
    "#     soup = bs4.BeautifulSoup(requests.get(href).content, 'html5lib')\n",
    "    soup = bs4.BeautifulSoup(browser.page_source, 'html5lib')\n",
    "\n",
    "    county_elections = soup.find('section', {'class': 'content-group election-results'}).\\\n",
    "                    find_all('article', {'class': 'results-group'})    \n",
    "    for ce in county_elections:\n",
    "        county = ce.find('div', {'class': 'title'}).text\n",
    "        try:\n",
    "            results = ce.find('table', {'class': 'results-table'}).find_all('tr')[:3]\n",
    "        except AttributeError:\n",
    "            browser.execute_script(\"window.scrollTo(0, document.body.scrollHeight);\")\n",
    "            sleep(0.5)\n",
    "            results = ce.find('table', {'class': 'results-table'}).find_all('tr')[:3]\n",
    "        \n",
    "        data_row = np.array([None]*14)\n",
    "        data_row[[0,1]] = state, county\n",
    "        for ind, r in enumerate(results):\n",
    "            party = clean_party(r.get('class'))\n",
    "#             party = clean_party(r.find('span', {'class': 'name-combo'}).find('abbr').get('title'))\n",
    "            name = ' '.join([x for x in list(r.find('span', {'class': 'name-combo'}).children) if isinstance(x, str)]).strip().upper()\n",
    "            pct_votes = float(r.find('td', {'class': 'results-percentage'}).text.replace('%', '')) / 100\n",
    "            votes = int(r.find('td', {'class': 'results-popular'}).text.replace(',', ''))\n",
    "            \n",
    "            data_row[list(range(2+ind, 14, 3))] = (name, votes, pct_votes, party)\n",
    "        data.append(data_row)\n",
    "            \n",
    "#     break"
   ]
  },
  {
   "cell_type": "markdown",
   "metadata": {},
   "source": [
    "data_df = pd.DataFrame(columns=('state', 'county', '1st', '2nd', '3rd', 'votes1', 'votes2', 'votes3',\n",
    "                               'pct1', 'pct2', 'pct3', 'party1', 'party2', 'party3'),\n",
    "                      data=data)\n",
    "data_df.to_csv('elections/2016/general.csv')"
   ]
  },
  {
   "cell_type": "code",
   "execution_count": 139,
   "metadata": {
    "collapsed": true
   },
   "outputs": [],
   "source": [
    "del browser"
   ]
  },
  {
   "cell_type": "code",
   "execution_count": 140,
   "metadata": {
    "collapsed": true
   },
   "outputs": [],
   "source": [
    "browser = webdriver.PhantomJS(executable_path=phantomjs_path)\n",
    "browser.set_window_size(1400,1000)"
   ]
  },
  {
   "cell_type": "code",
   "execution_count": 145,
   "metadata": {
    "scrolled": true
   },
   "outputs": [
    {
     "name": "stdout",
     "output_type": "stream",
     "text": [
      "Alabama\n",
      "Alaska\n",
      "Arizona\n"
     ]
    },
    {
     "ename": "KeyboardInterrupt",
     "evalue": "",
     "output_type": "error",
     "traceback": [
      "\u001b[0;31m---------------------------------------------------------------------------\u001b[0m",
      "\u001b[0;31mKeyboardInterrupt\u001b[0m                         Traceback (most recent call last)",
      "\u001b[0;32m<ipython-input-145-38d7bd7c708f>\u001b[0m in \u001b[0;36m<module>\u001b[0;34m()\u001b[0m\n\u001b[1;32m     19\u001b[0m     \u001b[0msleep\u001b[0m\u001b[0;34m(\u001b[0m\u001b[0;36m0.5\u001b[0m\u001b[0;34m)\u001b[0m\u001b[0;34m\u001b[0m\u001b[0m\n\u001b[1;32m     20\u001b[0m     \u001b[0;32mfor\u001b[0m \u001b[0m_\u001b[0m \u001b[0;32min\u001b[0m \u001b[0mrange\u001b[0m\u001b[0;34m(\u001b[0m\u001b[0;36m10\u001b[0m\u001b[0;34m)\u001b[0m\u001b[0;34m:\u001b[0m\u001b[0;34m\u001b[0m\u001b[0m\n\u001b[0;32m---> 21\u001b[0;31m         \u001b[0mbrowser\u001b[0m\u001b[0;34m.\u001b[0m\u001b[0mexecute_script\u001b[0m\u001b[0;34m(\u001b[0m\u001b[0;34m\"window.scrollTo(0, document.body.scrollHeight);\"\u001b[0m\u001b[0;34m)\u001b[0m\u001b[0;34m\u001b[0m\u001b[0m\n\u001b[0m\u001b[1;32m     22\u001b[0m         \u001b[0msleep\u001b[0m\u001b[0;34m(\u001b[0m\u001b[0;36m0.1\u001b[0m\u001b[0;34m)\u001b[0m\u001b[0;34m\u001b[0m\u001b[0m\n\u001b[1;32m     23\u001b[0m \u001b[0;31m#     soup = bs4.BeautifulSoup(requests.get(href).content, 'html5lib')\u001b[0m\u001b[0;34m\u001b[0m\u001b[0;34m\u001b[0m\u001b[0m\n",
      "\u001b[0;32m~/miniconda3/envs/py3/lib/python3.6/site-packages/selenium/webdriver/remote/webdriver.py\u001b[0m in \u001b[0;36mexecute_script\u001b[0;34m(self, script, *args)\u001b[0m\n\u001b[1;32m    530\u001b[0m         return self.execute(command, {\n\u001b[1;32m    531\u001b[0m             \u001b[0;34m'script'\u001b[0m\u001b[0;34m:\u001b[0m \u001b[0mscript\u001b[0m\u001b[0;34m,\u001b[0m\u001b[0;34m\u001b[0m\u001b[0m\n\u001b[0;32m--> 532\u001b[0;31m             'args': converted_args})['value']\n\u001b[0m\u001b[1;32m    533\u001b[0m \u001b[0;34m\u001b[0m\u001b[0m\n\u001b[1;32m    534\u001b[0m     \u001b[0;32mdef\u001b[0m \u001b[0mexecute_async_script\u001b[0m\u001b[0;34m(\u001b[0m\u001b[0mself\u001b[0m\u001b[0;34m,\u001b[0m \u001b[0mscript\u001b[0m\u001b[0;34m,\u001b[0m \u001b[0;34m*\u001b[0m\u001b[0margs\u001b[0m\u001b[0;34m)\u001b[0m\u001b[0;34m:\u001b[0m\u001b[0;34m\u001b[0m\u001b[0m\n",
      "\u001b[0;32m~/miniconda3/envs/py3/lib/python3.6/site-packages/selenium/webdriver/remote/webdriver.py\u001b[0m in \u001b[0;36mexecute\u001b[0;34m(self, driver_command, params)\u001b[0m\n\u001b[1;32m    292\u001b[0m                 \u001b[0mparams\u001b[0m\u001b[0;34m[\u001b[0m\u001b[0;34m'sessionId'\u001b[0m\u001b[0;34m]\u001b[0m \u001b[0;34m=\u001b[0m \u001b[0mself\u001b[0m\u001b[0;34m.\u001b[0m\u001b[0msession_id\u001b[0m\u001b[0;34m\u001b[0m\u001b[0m\n\u001b[1;32m    293\u001b[0m \u001b[0;34m\u001b[0m\u001b[0m\n\u001b[0;32m--> 294\u001b[0;31m         \u001b[0mparams\u001b[0m \u001b[0;34m=\u001b[0m \u001b[0mself\u001b[0m\u001b[0;34m.\u001b[0m\u001b[0m_wrap_value\u001b[0m\u001b[0;34m(\u001b[0m\u001b[0mparams\u001b[0m\u001b[0;34m)\u001b[0m\u001b[0;34m\u001b[0m\u001b[0m\n\u001b[0m\u001b[1;32m    295\u001b[0m         \u001b[0mresponse\u001b[0m \u001b[0;34m=\u001b[0m \u001b[0mself\u001b[0m\u001b[0;34m.\u001b[0m\u001b[0mcommand_executor\u001b[0m\u001b[0;34m.\u001b[0m\u001b[0mexecute\u001b[0m\u001b[0;34m(\u001b[0m\u001b[0mdriver_command\u001b[0m\u001b[0;34m,\u001b[0m \u001b[0mparams\u001b[0m\u001b[0;34m)\u001b[0m\u001b[0;34m\u001b[0m\u001b[0m\n\u001b[1;32m    296\u001b[0m         \u001b[0;32mif\u001b[0m \u001b[0mresponse\u001b[0m\u001b[0;34m:\u001b[0m\u001b[0;34m\u001b[0m\u001b[0m\n",
      "\u001b[0;32m~/miniconda3/envs/py3/lib/python3.6/site-packages/selenium/webdriver/remote/webdriver.py\u001b[0m in \u001b[0;36m_wrap_value\u001b[0;34m(self, value)\u001b[0m\n\u001b[1;32m    245\u001b[0m             \u001b[0mconverted\u001b[0m \u001b[0;34m=\u001b[0m \u001b[0;34m{\u001b[0m\u001b[0;34m}\u001b[0m\u001b[0;34m\u001b[0m\u001b[0m\n\u001b[1;32m    246\u001b[0m             \u001b[0;32mfor\u001b[0m \u001b[0mkey\u001b[0m\u001b[0;34m,\u001b[0m \u001b[0mval\u001b[0m \u001b[0;32min\u001b[0m \u001b[0mvalue\u001b[0m\u001b[0;34m.\u001b[0m\u001b[0mitems\u001b[0m\u001b[0;34m(\u001b[0m\u001b[0;34m)\u001b[0m\u001b[0;34m:\u001b[0m\u001b[0;34m\u001b[0m\u001b[0m\n\u001b[0;32m--> 247\u001b[0;31m                 \u001b[0mconverted\u001b[0m\u001b[0;34m[\u001b[0m\u001b[0mkey\u001b[0m\u001b[0;34m]\u001b[0m \u001b[0;34m=\u001b[0m \u001b[0mself\u001b[0m\u001b[0;34m.\u001b[0m\u001b[0m_wrap_value\u001b[0m\u001b[0;34m(\u001b[0m\u001b[0mval\u001b[0m\u001b[0;34m)\u001b[0m\u001b[0;34m\u001b[0m\u001b[0m\n\u001b[0m\u001b[1;32m    248\u001b[0m             \u001b[0;32mreturn\u001b[0m \u001b[0mconverted\u001b[0m\u001b[0;34m\u001b[0m\u001b[0m\n\u001b[1;32m    249\u001b[0m         \u001b[0;32melif\u001b[0m \u001b[0misinstance\u001b[0m\u001b[0;34m(\u001b[0m\u001b[0mvalue\u001b[0m\u001b[0;34m,\u001b[0m \u001b[0mself\u001b[0m\u001b[0;34m.\u001b[0m\u001b[0m_web_element_cls\u001b[0m\u001b[0;34m)\u001b[0m\u001b[0;34m:\u001b[0m\u001b[0;34m\u001b[0m\u001b[0m\n",
      "\u001b[0;31mKeyboardInterrupt\u001b[0m: "
     ]
    }
   ],
   "source": [
    "# 2016 Primary\n",
    "\n",
    "# soup = bs4.BeautifulSoup(requests.get(url_2016).content, 'html5lib')\n",
    "soup = bs4.BeautifulSoup(requests.get(url_2016_primary).content, 'html5lib')\n",
    "state_data = soup.find_all('article', {'class': 'timeline-group'})\n",
    "\n",
    "det_result_links = []\n",
    "for s in state_data:\n",
    "    state = s.find('a').text.strip()\n",
    "    elections = s.find_all('li')\n",
    "    for e in elections:\n",
    "        det_result_links.append(e.find('a').get('href'))\n",
    "\n",
    "data = []\n",
    "for href in det_result_links:\n",
    "    state = href.split('/')[-2].replace('-', ' ').title()\n",
    "    print(state)\n",
    "    \n",
    "    browser.get(href)\n",
    "    sleep(0.5)\n",
    "    for _ in range(10):\n",
    "        browser.execute_script(\"window.scrollTo(0, document.body.scrollHeight);\")\n",
    "        sleep(0.1)\n",
    "#     soup = bs4.BeautifulSoup(requests.get(href).content, 'html5lib')\n",
    "    soup = bs4.BeautifulSoup(browser.page_source, 'html5lib')\n",
    "\n",
    "    county_elections = soup.find('section', {'class': 'content-group election-results'}).\\\n",
    "                    find_all('article', {'class': 'results-group'})    \n",
    "    for ce in county_elections:\n",
    "        county = ce.find('div', {'class': 'title'}).text\n",
    "        results_tables = ce.find_all('table', {'class': 'results-table'})\n",
    "        for rt in results_tables:\n",
    "            try:\n",
    "                results = rt.find_all('tr')[:3]\n",
    "            except AttributeError:\n",
    "                browser.execute_script(\"window.scrollTo(0, document.body.scrollHeight);\")\n",
    "                sleep(0.5)\n",
    "                results = rt.find_all('tr')[:3]\n",
    "            if len(results) == 0:\n",
    "                continue\n",
    "            \n",
    "            data_row = np.array([None]*14)\n",
    "            data_row[[0,1]] = state, county\n",
    "            for ind, r in enumerate(results):\n",
    "                party = clean_party(r.get('class')[0])\n",
    "    #             party = clean_party(r.find('span', {'class': 'name-combo'}).find('abbr').get('title'))\n",
    "                name = ' '.join([x for x in list(r.find('span', {'class': 'name-combo'}).children) if isinstance(x, str)]).strip().upper()\n",
    "                try:\n",
    "                    pct_votes = float(r.find('td', {'class': 'results-percentage'}).text.replace('%', '')) / 100\n",
    "                except AttributeError:\n",
    "                    pct_votes = np.nan\n",
    "                try:\n",
    "                    votes = int(r.find('td', {'class': 'results-popular'}).text.replace(',', ''))\n",
    "                except AttributeError:\n",
    "                    votes = np.nan\n",
    "                    \n",
    "                data_row[list(range(2+ind, 14, 3))] = (name, votes, pct_votes, party)\n",
    "            data.append(data_row)"
   ]
  },
  {
   "cell_type": "code",
   "execution_count": 142,
   "metadata": {
    "collapsed": true
   },
   "outputs": [],
   "source": [
    "data_df = pd.DataFrame(columns=('state', 'county', '1st', '2nd', '3rd', 'votes1', 'votes2', 'votes3',\n",
    "                               'pct1', 'pct2', 'pct3', 'party1', 'party2', 'party3'),\n",
    "                      data=data)"
   ]
  },
  {
   "cell_type": "code",
   "execution_count": 144,
   "metadata": {
    "collapsed": true
   },
   "outputs": [],
   "source": [
    "data_df.to_csv('elections/2016/primary.csv')"
   ]
  },
  {
   "cell_type": "code",
   "execution_count": null,
   "metadata": {
    "collapsed": true
   },
   "outputs": [],
   "source": []
  },
  {
   "cell_type": "code",
   "execution_count": 146,
   "metadata": {
    "collapsed": true
   },
   "outputs": [],
   "source": [
    "url_2012 = 'http://www.politico.com/story/2012/11/election-results-2012-by-state-083320'"
   ]
  },
  {
   "cell_type": "code",
   "execution_count": 158,
   "metadata": {
    "collapsed": true
   },
   "outputs": [],
   "source": [
    "soup = bs4.BeautifulSoup(requests.get(url_2012).content, 'html5lib')\n",
    "toc = soup.find('div', {'class': 'story-text'})"
   ]
  },
  {
   "cell_type": "code",
   "execution_count": 232,
   "metadata": {
    "collapsed": true
   },
   "outputs": [],
   "source": [
    "links = sorted(list(set([x.get('href') for x in toc.find_all('a') if x.text == 'President'])))"
   ]
  },
  {
   "cell_type": "code",
   "execution_count": 204,
   "metadata": {
    "collapsed": true
   },
   "outputs": [],
   "source": [
    "def clean_party(x):\n",
    "    if 'gop' in x.lower():\n",
    "        return 'R'\n",
    "    elif 'dem' in x.lower():\n",
    "        return 'D'\n",
    "    else:\n",
    "        return 'O'"
   ]
  },
  {
   "cell_type": "code",
   "execution_count": 253,
   "metadata": {
    "collapsed": true,
    "scrolled": false
   },
   "outputs": [],
   "source": [
    "states = [x.text.strip() for x in toc.find_all('a') if x.get('href') and x.get('href').startswith('#') \n",
    "             and len(x.get('href')) == 3]"
   ]
  },
  {
   "cell_type": "code",
   "execution_count": 255,
   "metadata": {
    "collapsed": true
   },
   "outputs": [],
   "source": [
    "base_2012_url = 'http://www.politico.com/2012-election/results/president/{}'"
   ]
  },
  {
   "cell_type": "code",
   "execution_count": 269,
   "metadata": {
    "scrolled": true
   },
   "outputs": [
    {
     "name": "stdout",
     "output_type": "stream",
     "text": [
      "Alabama\n",
      "Alaska\n",
      "Arizona\n",
      "Arkansas\n",
      "California\n",
      "Colorado\n",
      "Connecticut\n",
      "Delaware\n",
      "District of Columbia\n",
      "Florida\n",
      "Georgia\n",
      "Hawaii\n",
      "Idaho\n",
      "Illinois\n",
      "Indiana\n",
      "Iowa\n",
      "Kansas\n",
      "Kentucky\n",
      "Louisiana\n",
      "Maine\n",
      "Maryland\n",
      "Massachusetts\n",
      "Michigan\n",
      "Minnesota\n",
      "Mississippi\n",
      "Missouri\n",
      "Montana\n",
      "Nebraska\n",
      "Nevada\n",
      "New Hampshire\n",
      "New Jersey\n",
      "New Mexico\n",
      "New York\n",
      "North Carolina\n",
      "North Dakota\n",
      "Ohio\n",
      "Oklahoma\n",
      "Oregon\n",
      "Pennsylvania\n",
      "Rhode Island\n",
      "South Carolina\n",
      "South Dakota\n",
      "Tennessee\n",
      "Texas\n",
      "Utah\n",
      "Vermont\n",
      "Virginia\n",
      "Washington\n",
      "West Virginia\n",
      "Wisconsin\n",
      "Wyoming\n"
     ]
    }
   ],
   "source": [
    "data = []\n",
    "for state in states:\n",
    "    url = base_2012_url.format(state.lower().replace(' ', '-'))\n",
    "    soup = bs4.BeautifulSoup(requests.get(url).content, 'html5lib')\n",
    "    print(state)\n",
    "    results_tables = soup.find('div', {'id': 'mainContent'}).find_all('tbody')\n",
    "    if len(results_tables) > 1:\n",
    "        results_tables = results_tables[1:]\n",
    "    for rt in results_tables:\n",
    "        results = rt.find_all('tr')[:3]\n",
    "        try:\n",
    "            county = ' '.join([x for x in list(rt.find('th', {'class': 'results-county'}).children) if isinstance(x, str)]).strip()        \n",
    "        except AttributeError:\n",
    "            county = state\n",
    "        data_row = np.array([None]*14)\n",
    "        data_row[[0,1]] = state, county\n",
    "        for ind, r in enumerate(results):\n",
    "            name = ' '.join([x for x in list(r.find('th', {'class': 'results-candidate'}).children) if isinstance(x, str)]).split('(')[0].strip().upper()\n",
    "            party = clean_party(r.find('td', {'class': 'results-party'}).text)\n",
    "            pct_votes = float(r.find('td', {'class': 'results-percentage'}).text.replace('%', '')) / 100\n",
    "            votes = int(r.find('td', {'class': 'results-popular'}).text.replace(',', ''))\n",
    "            data_row[list(range(2+ind, 14, 3))] = (name, votes, pct_votes, party)\n",
    "        data.append(data_row)"
   ]
  },
  {
   "cell_type": "code",
   "execution_count": 270,
   "metadata": {
    "collapsed": true
   },
   "outputs": [],
   "source": [
    "data_df = pd.DataFrame(columns=('state', 'county', '1st', '2nd', '3rd', 'votes1', 'votes2', 'votes3',\n",
    "                               'pct1', 'pct2', 'pct3', 'party1', 'party2', 'party3'),\n",
    "                      data=data)"
   ]
  },
  {
   "cell_type": "code",
   "execution_count": 276,
   "metadata": {
    "collapsed": true
   },
   "outputs": [],
   "source": [
    "data_df.to_csv('elections/2012/general.csv')"
   ]
  },
  {
   "cell_type": "code",
   "execution_count": 3,
   "metadata": {},
   "outputs": [],
   "source": [
    "data_df = pd.read_csv('elections/2012/general.csv')"
   ]
  },
  {
   "cell_type": "code",
   "execution_count": null,
   "metadata": {
    "collapsed": true
   },
   "outputs": [],
   "source": []
  }
 ],
 "metadata": {
  "kernelspec": {
   "display_name": "Python 3",
   "language": "python",
   "name": "python3"
  },
  "language_info": {
   "codemirror_mode": {
    "name": "ipython",
    "version": 3
   },
   "file_extension": ".py",
   "mimetype": "text/x-python",
   "name": "python",
   "nbconvert_exporter": "python",
   "pygments_lexer": "ipython3",
   "version": "3.6.2"
  }
 },
 "nbformat": 4,
 "nbformat_minor": 2
}
