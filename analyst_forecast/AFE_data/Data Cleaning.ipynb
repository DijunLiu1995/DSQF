{
 "cells": [
  {
   "cell_type": "markdown",
   "metadata": {},
   "source": [
    "IBES, CRSP, COMPUSTAT data @author Tim Copeland"
   ]
  },
  {
   "cell_type": "code",
   "execution_count": 358,
   "metadata": {
    "collapsed": true
   },
   "outputs": [],
   "source": [
    "import pandas as pd\n",
    "import numpy as np\n",
    "from datetime import date, datetime, timedelta"
   ]
  },
  {
   "cell_type": "markdown",
   "metadata": {},
   "source": [
    "Cleaning constituents file"
   ]
  },
  {
   "cell_type": "code",
   "execution_count": 359,
   "metadata": {
    "collapsed": true
   },
   "outputs": [],
   "source": [
    "#use compustat to download sp500 constituents from 1970 to 2016.\n",
    "cons = pd.read_csv('data/cons_70_17.csv', low_memory=False)"
   ]
  },
  {
   "cell_type": "code",
   "execution_count": 360,
   "metadata": {
    "collapsed": true
   },
   "outputs": [],
   "source": [
    "#delete duplicate rows\n",
    "cons = cons[~cons.duplicated()]\n",
    "\n",
    "#delete rows with empty ticker/company_name\n",
    "cons = cons.dropna(subset=['co_tic'])\n",
    "\n",
    "cons = cons.sort_values(['co_tic'])"
   ]
  },
  {
   "cell_type": "code",
   "execution_count": 361,
   "metadata": {},
   "outputs": [
    {
     "data": {
      "text/html": [
       "<div>\n",
       "<style>\n",
       "    .dataframe thead tr:only-child th {\n",
       "        text-align: right;\n",
       "    }\n",
       "\n",
       "    .dataframe thead th {\n",
       "        text-align: left;\n",
       "    }\n",
       "\n",
       "    .dataframe tbody tr th {\n",
       "        vertical-align: top;\n",
       "    }\n",
       "</style>\n",
       "<table border=\"1\" class=\"dataframe\">\n",
       "  <thead>\n",
       "    <tr style=\"text-align: right;\">\n",
       "      <th></th>\n",
       "      <th>gvkey</th>\n",
       "      <th>gvkeyx</th>\n",
       "      <th>from</th>\n",
       "      <th>thru</th>\n",
       "      <th>conm</th>\n",
       "      <th>tic</th>\n",
       "      <th>co_conm</th>\n",
       "      <th>co_tic</th>\n",
       "      <th>co_cusip</th>\n",
       "    </tr>\n",
       "  </thead>\n",
       "  <tbody>\n",
       "    <tr>\n",
       "      <th>374</th>\n",
       "      <td>10507</td>\n",
       "      <td>3</td>\n",
       "      <td>19640331</td>\n",
       "      <td>20071009.0</td>\n",
       "      <td>S&amp;P 500 Comp-Ltd</td>\n",
       "      <td>I0003</td>\n",
       "      <td>ENERGY FUTURE HOLDINGS CORP</td>\n",
       "      <td>0033A</td>\n",
       "      <td>873168108</td>\n",
       "    </tr>\n",
       "    <tr>\n",
       "      <th>1253</th>\n",
       "      <td>12144</td>\n",
       "      <td>3</td>\n",
       "      <td>20020722</td>\n",
       "      <td>20050811.0</td>\n",
       "      <td>S&amp;P 500 Comp-Ltd</td>\n",
       "      <td>I0003</td>\n",
       "      <td>SUNGARD DATA SYSTEMS INC</td>\n",
       "      <td>0139A</td>\n",
       "      <td>867363103</td>\n",
       "    </tr>\n",
       "    <tr>\n",
       "      <th>296</th>\n",
       "      <td>2316</td>\n",
       "      <td>3</td>\n",
       "      <td>19640331</td>\n",
       "      <td>19941220.0</td>\n",
       "      <td>S&amp;P 500 Comp-Ltd</td>\n",
       "      <td>I0003</td>\n",
       "      <td>HEXION INC</td>\n",
       "      <td>0141A</td>\n",
       "      <td>428300107</td>\n",
       "    </tr>\n",
       "    <tr>\n",
       "      <th>1147</th>\n",
       "      <td>30095</td>\n",
       "      <td>3</td>\n",
       "      <td>19991116</td>\n",
       "      <td>20030925.0</td>\n",
       "      <td>S&amp;P 500 Comp-Ltd</td>\n",
       "      <td>I0003</td>\n",
       "      <td>QUINTILES TRANSNATIONAL CORP</td>\n",
       "      <td>0573B</td>\n",
       "      <td>748767100</td>\n",
       "    </tr>\n",
       "    <tr>\n",
       "      <th>484</th>\n",
       "      <td>7148</td>\n",
       "      <td>3</td>\n",
       "      <td>19681231</td>\n",
       "      <td>19750831.0</td>\n",
       "      <td>S&amp;P 500 Comp-Ltd</td>\n",
       "      <td>I0003</td>\n",
       "      <td>MCCRORY CORP</td>\n",
       "      <td>1219A</td>\n",
       "      <td>579865007</td>\n",
       "    </tr>\n",
       "  </tbody>\n",
       "</table>\n",
       "</div>"
      ],
      "text/plain": [
       "      gvkey  gvkeyx      from        thru              conm    tic  \\\n",
       "374   10507       3  19640331  20071009.0  S&P 500 Comp-Ltd  I0003   \n",
       "1253  12144       3  20020722  20050811.0  S&P 500 Comp-Ltd  I0003   \n",
       "296    2316       3  19640331  19941220.0  S&P 500 Comp-Ltd  I0003   \n",
       "1147  30095       3  19991116  20030925.0  S&P 500 Comp-Ltd  I0003   \n",
       "484    7148       3  19681231  19750831.0  S&P 500 Comp-Ltd  I0003   \n",
       "\n",
       "                           co_conm co_tic   co_cusip  \n",
       "374    ENERGY FUTURE HOLDINGS CORP  0033A  873168108  \n",
       "1253      SUNGARD DATA SYSTEMS INC  0139A  867363103  \n",
       "296                     HEXION INC  0141A  428300107  \n",
       "1147  QUINTILES TRANSNATIONAL CORP  0573B  748767100  \n",
       "484                   MCCRORY CORP  1219A  579865007  "
      ]
     },
     "execution_count": 361,
     "metadata": {},
     "output_type": "execute_result"
    }
   ],
   "source": [
    "cons.head()"
   ]
  },
  {
   "cell_type": "code",
   "execution_count": 362,
   "metadata": {},
   "outputs": [
    {
     "data": {
      "text/html": [
       "<div>\n",
       "<style>\n",
       "    .dataframe thead tr:only-child th {\n",
       "        text-align: right;\n",
       "    }\n",
       "\n",
       "    .dataframe thead th {\n",
       "        text-align: left;\n",
       "    }\n",
       "\n",
       "    .dataframe tbody tr th {\n",
       "        vertical-align: top;\n",
       "    }\n",
       "</style>\n",
       "<table border=\"1\" class=\"dataframe\">\n",
       "  <thead>\n",
       "    <tr style=\"text-align: right;\">\n",
       "      <th></th>\n",
       "      <th>gvkey</th>\n",
       "      <th>gvkeyx</th>\n",
       "      <th>from</th>\n",
       "      <th>thru</th>\n",
       "    </tr>\n",
       "  </thead>\n",
       "  <tbody>\n",
       "    <tr>\n",
       "      <th>count</th>\n",
       "      <td>1629.000000</td>\n",
       "      <td>1629.0</td>\n",
       "      <td>1.629000e+03</td>\n",
       "      <td>1.124000e+03</td>\n",
       "    </tr>\n",
       "    <tr>\n",
       "      <th>mean</th>\n",
       "      <td>25184.907919</td>\n",
       "      <td>3.0</td>\n",
       "      <td>1.985830e+07</td>\n",
       "      <td>1.995116e+07</td>\n",
       "    </tr>\n",
       "    <tr>\n",
       "      <th>std</th>\n",
       "      <td>44781.704220</td>\n",
       "      <td>0.0</td>\n",
       "      <td>1.810251e+05</td>\n",
       "      <td>1.357293e+05</td>\n",
       "    </tr>\n",
       "    <tr>\n",
       "      <th>min</th>\n",
       "      <td>1010.000000</td>\n",
       "      <td>3.0</td>\n",
       "      <td>1.964033e+07</td>\n",
       "      <td>1.970023e+07</td>\n",
       "    </tr>\n",
       "    <tr>\n",
       "      <th>25%</th>\n",
       "      <td>4839.000000</td>\n",
       "      <td>3.0</td>\n",
       "      <td>1.965033e+07</td>\n",
       "      <td>1.984063e+07</td>\n",
       "    </tr>\n",
       "    <tr>\n",
       "      <th>50%</th>\n",
       "      <td>8488.000000</td>\n",
       "      <td>3.0</td>\n",
       "      <td>1.985093e+07</td>\n",
       "      <td>1.997080e+07</td>\n",
       "    </tr>\n",
       "    <tr>\n",
       "      <th>75%</th>\n",
       "      <td>15084.000000</td>\n",
       "      <td>3.0</td>\n",
       "      <td>2.001080e+07</td>\n",
       "      <td>2.007022e+07</td>\n",
       "    </tr>\n",
       "    <tr>\n",
       "      <th>max</th>\n",
       "      <td>316056.000000</td>\n",
       "      <td>3.0</td>\n",
       "      <td>2.017101e+07</td>\n",
       "      <td>2.017101e+07</td>\n",
       "    </tr>\n",
       "  </tbody>\n",
       "</table>\n",
       "</div>"
      ],
      "text/plain": [
       "               gvkey  gvkeyx          from          thru\n",
       "count    1629.000000  1629.0  1.629000e+03  1.124000e+03\n",
       "mean    25184.907919     3.0  1.985830e+07  1.995116e+07\n",
       "std     44781.704220     0.0  1.810251e+05  1.357293e+05\n",
       "min      1010.000000     3.0  1.964033e+07  1.970023e+07\n",
       "25%      4839.000000     3.0  1.965033e+07  1.984063e+07\n",
       "50%      8488.000000     3.0  1.985093e+07  1.997080e+07\n",
       "75%     15084.000000     3.0  2.001080e+07  2.007022e+07\n",
       "max    316056.000000     3.0  2.017101e+07  2.017101e+07"
      ]
     },
     "execution_count": 362,
     "metadata": {},
     "output_type": "execute_result"
    }
   ],
   "source": [
    "cons.describe()"
   ]
  },
  {
   "cell_type": "code",
   "execution_count": 363,
   "metadata": {},
   "outputs": [
    {
     "name": "stdout",
     "output_type": "stream",
     "text": [
      "1543\n",
      "1629\n"
     ]
    }
   ],
   "source": [
    "print(len(cons['co_conm'].unique()))\n",
    "print(len(cons['co_conm']))"
   ]
  },
  {
   "cell_type": "code",
   "execution_count": 364,
   "metadata": {
    "collapsed": true
   },
   "outputs": [],
   "source": [
    "cons.to_csv('data/clean_cons_70_17.csv')"
   ]
  },
  {
   "cell_type": "code",
   "execution_count": 365,
   "metadata": {},
   "outputs": [
    {
     "name": "stdout",
     "output_type": "stream",
     "text": [
      "1543\n"
     ]
    }
   ],
   "source": [
    "#plaintext of gvkeys\n",
    "gvkeys = np.sort(cons['gvkey'].unique())\n",
    "np.savetxt('gvkey.txt', gvkeys[None,:], delimiter=\"\\r\\n\", fmt=\"%s\")\n",
    "print(len(gvkeys))"
   ]
  },
  {
   "cell_type": "markdown",
   "metadata": {},
   "source": [
    "Working with CRSP data"
   ]
  },
  {
   "cell_type": "code",
   "execution_count": 366,
   "metadata": {
    "collapsed": true
   },
   "outputs": [],
   "source": [
    "#use gvkeys to download gvkey -> lpermno link table from crsp. Read the resulting table.\n",
    "Compustat_CRSP_link_table = pd.read_csv('link_tables/Compustat_CRSP_link_table.csv')"
   ]
  },
  {
   "cell_type": "code",
   "execution_count": 367,
   "metadata": {},
   "outputs": [
    {
     "name": "stdout",
     "output_type": "stream",
     "text": [
      "25\n"
     ]
    }
   ],
   "source": [
    "print(len(gvkeys) - len(Compustat_CRSP_link_table['gvkey'].unique()))"
   ]
  },
  {
   "cell_type": "code",
   "execution_count": 368,
   "metadata": {},
   "outputs": [
    {
     "data": {
      "text/plain": [
       "200       3039\n",
       "214       3165\n",
       "319       4199\n",
       "380       4799\n",
       "557       6537\n",
       "752       8430\n",
       "774       8617\n",
       "881       9746\n",
       "1112     13353\n",
       "1129     14097\n",
       "1157     15448\n",
       "1252     27800\n",
       "1265     28192\n",
       "1275     28719\n",
       "1281     29004\n",
       "1287     29155\n",
       "1301     29819\n",
       "1325     31774\n",
       "1328     32106\n",
       "1329     32154\n",
       "1422    122147\n",
       "1530    186915\n",
       "1531    186932\n",
       "1539    265975\n",
       "1540    266101\n",
       "dtype: int64"
      ]
     },
     "execution_count": 368,
     "metadata": {},
     "output_type": "execute_result"
    }
   ],
   "source": [
    "#missing gvkeys\n",
    "gvkeys = pd.Series(gvkeys)\n",
    "missing_gvkey = gvkeys[~gvkeys.isin(Compustat_CRSP_link_table['gvkey'].unique())]\n",
    "missing_gvkey"
   ]
  },
  {
   "cell_type": "code",
   "execution_count": 369,
   "metadata": {},
   "outputs": [
    {
     "name": "stdout",
     "output_type": "stream",
     "text": [
      "1727\n"
     ]
    }
   ],
   "source": [
    "#plaintext of lpermnos\n",
    "lpermnos = np.sort(Compustat_CRSP_link_table['LPERMNO'].unique())\n",
    "np.savetxt('lpermno.txt', lpermnos[None,:], delimiter=\"\\r\\n\", fmt=\"%s\")\n",
    "print(len(lpermnos))"
   ]
  },
  {
   "cell_type": "code",
   "execution_count": 370,
   "metadata": {
    "collapsed": true
   },
   "outputs": [],
   "source": [
    "dtype_dic = {'PERMNO': np.int64,\n",
    "             'date': np.int64, \n",
    "             'NCUSIP': str, \n",
    "             'TICKER': object, \n",
    "             'COMNAM': str, \n",
    "             'CUSIP': object, \n",
    "             'DIVAMT': np.float64,\n",
    "             'BIDLO': np.float64, \n",
    "             'ASKHI':np.float64, \n",
    "             'PRC': np.float64, #np.int32, \n",
    "             'VOL': np.float64, #np.int32, \n",
    "             'RET': object, #np.int32,  \n",
    "             'SHROUT': np.float64, #np.int32, \n",
    "             'OPENPRC': np.float64, \n",
    "             'NUMTRD': np.float64, #np.int32, \n",
    "            }"
   ]
  },
  {
   "cell_type": "code",
   "execution_count": 371,
   "metadata": {
    "collapsed": true
   },
   "outputs": [],
   "source": [
    "#use lpermnos to download crsp data. Read the table.\n",
    "crsp = pd.read_csv('data/crsp_sp500_1970_2016.csv', chunksize=100000, low_memory = False,dtype=dtype_dic)"
   ]
  },
  {
   "cell_type": "code",
   "execution_count": 372,
   "metadata": {
    "collapsed": true
   },
   "outputs": [],
   "source": [
    "#save to hdf5 file (Makes it easier to access by slice later on)\n",
    "hdf = pd.HDFStore('data/crsp.h5', mode = 'a')\n",
    "for i in crsp: \n",
    "    hdf.append('df', i, data_columns=True, format = 'table')"
   ]
  },
  {
   "cell_type": "code",
   "execution_count": 373,
   "metadata": {
    "collapsed": true
   },
   "outputs": [],
   "source": [
    "hdf.close()"
   ]
  },
  {
   "cell_type": "markdown",
   "metadata": {},
   "source": [
    "IBES data"
   ]
  },
  {
   "cell_type": "code",
   "execution_count": 374,
   "metadata": {
    "collapsed": true
   },
   "outputs": [],
   "source": [
    "#use crsp lpermnos to download crsp lpermno->ibes ticker link table\n",
    "CRSP_IBES_link_table = pd.read_csv('link_tables/CRSP_IBES_link_table.csv')"
   ]
  },
  {
   "cell_type": "code",
   "execution_count": 375,
   "metadata": {},
   "outputs": [
    {
     "name": "stdout",
     "output_type": "stream",
     "text": [
      "99\n"
     ]
    }
   ],
   "source": [
    "print(len(lpermnos) - len(CRSP_IBES_link_table['PERMNO'].unique()))"
   ]
  },
  {
   "cell_type": "code",
   "execution_count": 376,
   "metadata": {},
   "outputs": [
    {
     "data": {
      "text/plain": [
       "0       10006\n",
       "17      10276\n",
       "25      10436\n",
       "30      10495\n",
       "32      10524\n",
       "40      10735\n",
       "41      10751\n",
       "52      11041\n",
       "54      11068\n",
       "56      11092\n",
       "70      11543\n",
       "76      11658\n",
       "78      11690\n",
       "80      11746\n",
       "82      11826\n",
       "87      11949\n",
       "104     12124\n",
       "106     12167\n",
       "107     12191\n",
       "110     12343\n",
       "112     12346\n",
       "117     12466\n",
       "128     12669\n",
       "133     12837\n",
       "143     13063\n",
       "154     13311\n",
       "159     13522\n",
       "165     13637\n",
       "179     13964\n",
       "184     14066\n",
       "        ...  \n",
       "893     48119\n",
       "915     49592\n",
       "938     51027\n",
       "971     53357\n",
       "993     55386\n",
       "996     56012\n",
       "1040    59221\n",
       "1052    59475\n",
       "1086    61890\n",
       "1105    63343\n",
       "1156    67791\n",
       "1167    69163\n",
       "1201    75038\n",
       "1206    75181\n",
       "1212    75255\n",
       "1277    77058\n",
       "1295    77459\n",
       "1388    80411\n",
       "1398    80783\n",
       "1457    83715\n",
       "1502    85658\n",
       "1509    85904\n",
       "1548    87030\n",
       "1583    88663\n",
       "1603    89155\n",
       "1609    89223\n",
       "1651    90379\n",
       "1658    90562\n",
       "1662    90740\n",
       "1688    91518\n",
       "Length: 141, dtype: int64"
      ]
     },
     "execution_count": 376,
     "metadata": {},
     "output_type": "execute_result"
    }
   ],
   "source": [
    "#missing lpermnos (that's a lot!!)\n",
    "lpermnos = pd.Series(lpermnos)\n",
    "missing_lpermnos = lpermnos[~lpermnos.isin(CRSP_IBES_link_table['PERMNO'].unique())]\n",
    "missing_lpermnos"
   ]
  },
  {
   "cell_type": "code",
   "execution_count": 377,
   "metadata": {},
   "outputs": [
    {
     "name": "stdout",
     "output_type": "stream",
     "text": [
      "1527\n"
     ]
    }
   ],
   "source": [
    "ibtic = np.sort(CRSP_IBES_link_table['TICKER'].unique())\n",
    "np.savetxt('tic.txt', ibtic[None,:], delimiter=\"\\r\\n\", fmt=\"%s\")\n",
    "print(len(ibtic))"
   ]
  },
  {
   "cell_type": "code",
   "execution_count": 378,
   "metadata": {},
   "outputs": [
    {
     "data": {
      "text/html": [
       "<div>\n",
       "<style>\n",
       "    .dataframe thead tr:only-child th {\n",
       "        text-align: right;\n",
       "    }\n",
       "\n",
       "    .dataframe thead th {\n",
       "        text-align: left;\n",
       "    }\n",
       "\n",
       "    .dataframe tbody tr th {\n",
       "        vertical-align: top;\n",
       "    }\n",
       "</style>\n",
       "<table border=\"1\" class=\"dataframe\">\n",
       "  <thead>\n",
       "    <tr style=\"text-align: right;\">\n",
       "      <th></th>\n",
       "      <th>OFTIC</th>\n",
       "      <th>TICKER</th>\n",
       "      <th>CUSIP</th>\n",
       "      <th>CNAME</th>\n",
       "      <th>ACTDATS</th>\n",
       "      <th>ANALYS</th>\n",
       "      <th>FPI</th>\n",
       "      <th>MEASURE</th>\n",
       "      <th>VALUE</th>\n",
       "      <th>FPEDATS</th>\n",
       "    </tr>\n",
       "  </thead>\n",
       "  <tbody>\n",
       "    <tr>\n",
       "      <th>0</th>\n",
       "      <td>FDC</td>\n",
       "      <td>00VP</td>\n",
       "      <td>32008D10</td>\n",
       "      <td>FIRST DATA</td>\n",
       "      <td>20160114</td>\n",
       "      <td>79876</td>\n",
       "      <td>1</td>\n",
       "      <td>EPS</td>\n",
       "      <td>0.34</td>\n",
       "      <td>20151231</td>\n",
       "    </tr>\n",
       "    <tr>\n",
       "      <th>1</th>\n",
       "      <td>FDC</td>\n",
       "      <td>00VP</td>\n",
       "      <td>32008D10</td>\n",
       "      <td>FIRST DATA</td>\n",
       "      <td>20160212</td>\n",
       "      <td>149615</td>\n",
       "      <td>1</td>\n",
       "      <td>EPS</td>\n",
       "      <td>1.55</td>\n",
       "      <td>20161231</td>\n",
       "    </tr>\n",
       "    <tr>\n",
       "      <th>2</th>\n",
       "      <td>FDC</td>\n",
       "      <td>00VP</td>\n",
       "      <td>32008D10</td>\n",
       "      <td>FIRST DATA</td>\n",
       "      <td>20160419</td>\n",
       "      <td>149615</td>\n",
       "      <td>1</td>\n",
       "      <td>EPS</td>\n",
       "      <td>1.49</td>\n",
       "      <td>20161231</td>\n",
       "    </tr>\n",
       "    <tr>\n",
       "      <th>3</th>\n",
       "      <td>FDC</td>\n",
       "      <td>00VP</td>\n",
       "      <td>32008D10</td>\n",
       "      <td>FIRST DATA</td>\n",
       "      <td>20160425</td>\n",
       "      <td>10258</td>\n",
       "      <td>1</td>\n",
       "      <td>EPS</td>\n",
       "      <td>1.85</td>\n",
       "      <td>20161231</td>\n",
       "    </tr>\n",
       "    <tr>\n",
       "      <th>4</th>\n",
       "      <td>FDC</td>\n",
       "      <td>00VP</td>\n",
       "      <td>32008D10</td>\n",
       "      <td>FIRST DATA</td>\n",
       "      <td>20160425</td>\n",
       "      <td>10258</td>\n",
       "      <td>1</td>\n",
       "      <td>EPS</td>\n",
       "      <td>1.14</td>\n",
       "      <td>20161231</td>\n",
       "    </tr>\n",
       "  </tbody>\n",
       "</table>\n",
       "</div>"
      ],
      "text/plain": [
       "  OFTIC TICKER     CUSIP       CNAME   ACTDATS  ANALYS  FPI MEASURE  VALUE  \\\n",
       "0   FDC   00VP  32008D10  FIRST DATA  20160114   79876    1     EPS   0.34   \n",
       "1   FDC   00VP  32008D10  FIRST DATA  20160212  149615    1     EPS   1.55   \n",
       "2   FDC   00VP  32008D10  FIRST DATA  20160419  149615    1     EPS   1.49   \n",
       "3   FDC   00VP  32008D10  FIRST DATA  20160425   10258    1     EPS   1.85   \n",
       "4   FDC   00VP  32008D10  FIRST DATA  20160425   10258    1     EPS   1.14   \n",
       "\n",
       "    FPEDATS  \n",
       "0  20151231  \n",
       "1  20161231  \n",
       "2  20161231  \n",
       "3  20161231  \n",
       "4  20161231  "
      ]
     },
     "execution_count": 378,
     "metadata": {},
     "output_type": "execute_result"
    }
   ],
   "source": [
    "estimates = pd.read_csv('data/estimates.csv')\n",
    "estimates.head()"
   ]
  },
  {
   "cell_type": "code",
   "execution_count": 379,
   "metadata": {},
   "outputs": [
    {
     "data": {
      "text/html": [
       "<div>\n",
       "<style>\n",
       "    .dataframe thead tr:only-child th {\n",
       "        text-align: right;\n",
       "    }\n",
       "\n",
       "    .dataframe thead th {\n",
       "        text-align: left;\n",
       "    }\n",
       "\n",
       "    .dataframe tbody tr th {\n",
       "        vertical-align: top;\n",
       "    }\n",
       "</style>\n",
       "<table border=\"1\" class=\"dataframe\">\n",
       "  <thead>\n",
       "    <tr style=\"text-align: right;\">\n",
       "      <th></th>\n",
       "      <th>ACTDATS</th>\n",
       "      <th>ANALYS</th>\n",
       "      <th>FPI</th>\n",
       "      <th>VALUE</th>\n",
       "      <th>FPEDATS</th>\n",
       "    </tr>\n",
       "  </thead>\n",
       "  <tbody>\n",
       "    <tr>\n",
       "      <th>count</th>\n",
       "      <td>1.251340e+05</td>\n",
       "      <td>125134.000000</td>\n",
       "      <td>125134.0</td>\n",
       "      <td>125134.000000</td>\n",
       "      <td>1.251340e+05</td>\n",
       "    </tr>\n",
       "    <tr>\n",
       "      <th>mean</th>\n",
       "      <td>2.010006e+07</td>\n",
       "      <td>78310.285022</td>\n",
       "      <td>1.0</td>\n",
       "      <td>-11.155375</td>\n",
       "      <td>2.010105e+07</td>\n",
       "    </tr>\n",
       "    <tr>\n",
       "      <th>std</th>\n",
       "      <td>4.816437e+04</td>\n",
       "      <td>45128.259632</td>\n",
       "      <td>0.0</td>\n",
       "      <td>1214.927431</td>\n",
       "      <td>4.793613e+04</td>\n",
       "    </tr>\n",
       "    <tr>\n",
       "      <th>min</th>\n",
       "      <td>1.992101e+07</td>\n",
       "      <td>0.000000</td>\n",
       "      <td>1.0</td>\n",
       "      <td>-111300.000000</td>\n",
       "      <td>1.992123e+07</td>\n",
       "    </tr>\n",
       "    <tr>\n",
       "      <th>25%</th>\n",
       "      <td>2.007081e+07</td>\n",
       "      <td>45147.000000</td>\n",
       "      <td>1.0</td>\n",
       "      <td>0.920000</td>\n",
       "      <td>2.007123e+07</td>\n",
       "    </tr>\n",
       "    <tr>\n",
       "      <th>50%</th>\n",
       "      <td>2.011012e+07</td>\n",
       "      <td>79582.000000</td>\n",
       "      <td>1.0</td>\n",
       "      <td>2.010000</td>\n",
       "      <td>2.011063e+07</td>\n",
       "    </tr>\n",
       "    <tr>\n",
       "      <th>75%</th>\n",
       "      <td>2.014042e+07</td>\n",
       "      <td>113313.750000</td>\n",
       "      <td>1.0</td>\n",
       "      <td>3.620000</td>\n",
       "      <td>2.014123e+07</td>\n",
       "    </tr>\n",
       "    <tr>\n",
       "      <th>max</th>\n",
       "      <td>2.017072e+07</td>\n",
       "      <td>188608.000000</td>\n",
       "      <td>1.0</td>\n",
       "      <td>45000.000000</td>\n",
       "      <td>2.018053e+07</td>\n",
       "    </tr>\n",
       "  </tbody>\n",
       "</table>\n",
       "</div>"
      ],
      "text/plain": [
       "            ACTDATS         ANALYS       FPI          VALUE       FPEDATS\n",
       "count  1.251340e+05  125134.000000  125134.0  125134.000000  1.251340e+05\n",
       "mean   2.010006e+07   78310.285022       1.0     -11.155375  2.010105e+07\n",
       "std    4.816437e+04   45128.259632       0.0    1214.927431  4.793613e+04\n",
       "min    1.992101e+07       0.000000       1.0 -111300.000000  1.992123e+07\n",
       "25%    2.007081e+07   45147.000000       1.0       0.920000  2.007123e+07\n",
       "50%    2.011012e+07   79582.000000       1.0       2.010000  2.011063e+07\n",
       "75%    2.014042e+07  113313.750000       1.0       3.620000  2.014123e+07\n",
       "max    2.017072e+07  188608.000000       1.0   45000.000000  2.018053e+07"
      ]
     },
     "execution_count": 379,
     "metadata": {},
     "output_type": "execute_result"
    }
   ],
   "source": [
    "estimates.describe()"
   ]
  },
  {
   "cell_type": "code",
   "execution_count": 380,
   "metadata": {},
   "outputs": [
    {
     "data": {
      "text/html": [
       "<div>\n",
       "<style>\n",
       "    .dataframe thead tr:only-child th {\n",
       "        text-align: right;\n",
       "    }\n",
       "\n",
       "    .dataframe thead th {\n",
       "        text-align: left;\n",
       "    }\n",
       "\n",
       "    .dataframe tbody tr th {\n",
       "        vertical-align: top;\n",
       "    }\n",
       "</style>\n",
       "<table border=\"1\" class=\"dataframe\">\n",
       "  <thead>\n",
       "    <tr style=\"text-align: right;\">\n",
       "      <th></th>\n",
       "      <th>TICKER</th>\n",
       "      <th>CUSIP</th>\n",
       "      <th>OFTIC</th>\n",
       "      <th>CNAME</th>\n",
       "      <th>PENDS</th>\n",
       "      <th>MEASURE</th>\n",
       "      <th>PDICITY</th>\n",
       "      <th>ANNDATS</th>\n",
       "      <th>ANNTIMS</th>\n",
       "      <th>ACTDATS</th>\n",
       "      <th>ACTTIMS</th>\n",
       "      <th>VALUE</th>\n",
       "      <th>CURR_ACT</th>\n",
       "    </tr>\n",
       "  </thead>\n",
       "  <tbody>\n",
       "    <tr>\n",
       "      <th>0</th>\n",
       "      <td>A</td>\n",
       "      <td>02742010</td>\n",
       "      <td>A</td>\n",
       "      <td>AMERN MEDIC BLDG</td>\n",
       "      <td>19881231</td>\n",
       "      <td>EPS</td>\n",
       "      <td>ANN</td>\n",
       "      <td>19890401</td>\n",
       "      <td>0:00:00</td>\n",
       "      <td>19890401</td>\n",
       "      <td>0:00:00</td>\n",
       "      <td>-0.47</td>\n",
       "      <td>USD</td>\n",
       "    </tr>\n",
       "    <tr>\n",
       "      <th>1</th>\n",
       "      <td>A</td>\n",
       "      <td>02742010</td>\n",
       "      <td>A</td>\n",
       "      <td>AMERN MEDIC BLDG</td>\n",
       "      <td>19891231</td>\n",
       "      <td>EPS</td>\n",
       "      <td>ANN</td>\n",
       "      <td>19900418</td>\n",
       "      <td>0:00:00</td>\n",
       "      <td>19900418</td>\n",
       "      <td>0:00:00</td>\n",
       "      <td>-0.09</td>\n",
       "      <td>USD</td>\n",
       "    </tr>\n",
       "    <tr>\n",
       "      <th>2</th>\n",
       "      <td>A</td>\n",
       "      <td>02742010</td>\n",
       "      <td>A</td>\n",
       "      <td>AMERN MEDIC BLDG</td>\n",
       "      <td>19901231</td>\n",
       "      <td>EPS</td>\n",
       "      <td>ANN</td>\n",
       "      <td>19920403</td>\n",
       "      <td>0:00:00</td>\n",
       "      <td>19920403</td>\n",
       "      <td>0:00:00</td>\n",
       "      <td>0.03</td>\n",
       "      <td>USD</td>\n",
       "    </tr>\n",
       "    <tr>\n",
       "      <th>3</th>\n",
       "      <td>AA</td>\n",
       "      <td>NaN</td>\n",
       "      <td>NaN</td>\n",
       "      <td>NaN</td>\n",
       "      <td>19741231</td>\n",
       "      <td>EPS</td>\n",
       "      <td>ANN</td>\n",
       "      <td>19760115</td>\n",
       "      <td>0:00:00</td>\n",
       "      <td>19760115</td>\n",
       "      <td>0:00:00</td>\n",
       "      <td>NaN</td>\n",
       "      <td>USD</td>\n",
       "    </tr>\n",
       "    <tr>\n",
       "      <th>4</th>\n",
       "      <td>AA</td>\n",
       "      <td>NaN</td>\n",
       "      <td>NaN</td>\n",
       "      <td>NaN</td>\n",
       "      <td>19751231</td>\n",
       "      <td>EPS</td>\n",
       "      <td>ANN</td>\n",
       "      <td>19760219</td>\n",
       "      <td>0:00:00</td>\n",
       "      <td>19760219</td>\n",
       "      <td>0:00:00</td>\n",
       "      <td>NaN</td>\n",
       "      <td>USD</td>\n",
       "    </tr>\n",
       "  </tbody>\n",
       "</table>\n",
       "</div>"
      ],
      "text/plain": [
       "  TICKER     CUSIP OFTIC             CNAME     PENDS MEASURE PDICITY  \\\n",
       "0      A  02742010     A  AMERN MEDIC BLDG  19881231     EPS     ANN   \n",
       "1      A  02742010     A  AMERN MEDIC BLDG  19891231     EPS     ANN   \n",
       "2      A  02742010     A  AMERN MEDIC BLDG  19901231     EPS     ANN   \n",
       "3     AA       NaN   NaN               NaN  19741231     EPS     ANN   \n",
       "4     AA       NaN   NaN               NaN  19751231     EPS     ANN   \n",
       "\n",
       "    ANNDATS  ANNTIMS   ACTDATS  ACTTIMS  VALUE CURR_ACT  \n",
       "0  19890401  0:00:00  19890401  0:00:00  -0.47      USD  \n",
       "1  19900418  0:00:00  19900418  0:00:00  -0.09      USD  \n",
       "2  19920403  0:00:00  19920403  0:00:00   0.03      USD  \n",
       "3  19760115  0:00:00  19760115  0:00:00    NaN      USD  \n",
       "4  19760219  0:00:00  19760219  0:00:00    NaN      USD  "
      ]
     },
     "execution_count": 380,
     "metadata": {},
     "output_type": "execute_result"
    }
   ],
   "source": [
    "actuals = pd.read_csv('data/actuals.csv')\n",
    "actuals.head()"
   ]
  },
  {
   "cell_type": "code",
   "execution_count": 381,
   "metadata": {
    "collapsed": true
   },
   "outputs": [],
   "source": [
    "#drop actuals rows with missing earnings values\n",
    "actuals = actuals.dropna(axis=0, subset=['VALUE'])"
   ]
  },
  {
   "cell_type": "code",
   "execution_count": 382,
   "metadata": {},
   "outputs": [
    {
     "data": {
      "text/html": [
       "<div>\n",
       "<style>\n",
       "    .dataframe thead tr:only-child th {\n",
       "        text-align: right;\n",
       "    }\n",
       "\n",
       "    .dataframe thead th {\n",
       "        text-align: left;\n",
       "    }\n",
       "\n",
       "    .dataframe tbody tr th {\n",
       "        vertical-align: top;\n",
       "    }\n",
       "</style>\n",
       "<table border=\"1\" class=\"dataframe\">\n",
       "  <thead>\n",
       "    <tr style=\"text-align: right;\">\n",
       "      <th></th>\n",
       "      <th>PENDS</th>\n",
       "      <th>ANNDATS</th>\n",
       "      <th>ACTDATS</th>\n",
       "      <th>VALUE</th>\n",
       "    </tr>\n",
       "  </thead>\n",
       "  <tbody>\n",
       "    <tr>\n",
       "      <th>count</th>\n",
       "      <td>1.353100e+04</td>\n",
       "      <td>1.353100e+04</td>\n",
       "      <td>1.353100e+04</td>\n",
       "      <td>13531.000000</td>\n",
       "    </tr>\n",
       "    <tr>\n",
       "      <th>mean</th>\n",
       "      <td>2.000087e+07</td>\n",
       "      <td>2.000748e+07</td>\n",
       "      <td>2.000749e+07</td>\n",
       "      <td>1.443553</td>\n",
       "    </tr>\n",
       "    <tr>\n",
       "      <th>std</th>\n",
       "      <td>9.374998e+04</td>\n",
       "      <td>9.371822e+04</td>\n",
       "      <td>9.371736e+04</td>\n",
       "      <td>9.323321</td>\n",
       "    </tr>\n",
       "    <tr>\n",
       "      <th>min</th>\n",
       "      <td>1.976123e+07</td>\n",
       "      <td>1.980012e+07</td>\n",
       "      <td>1.980012e+07</td>\n",
       "      <td>-554.799800</td>\n",
       "    </tr>\n",
       "    <tr>\n",
       "      <th>25%</th>\n",
       "      <td>1.992123e+07</td>\n",
       "      <td>1.993021e+07</td>\n",
       "      <td>1.993021e+07</td>\n",
       "      <td>0.395000</td>\n",
       "    </tr>\n",
       "    <tr>\n",
       "      <th>50%</th>\n",
       "      <td>2.000123e+07</td>\n",
       "      <td>2.001012e+07</td>\n",
       "      <td>2.001012e+07</td>\n",
       "      <td>1.150000</td>\n",
       "    </tr>\n",
       "    <tr>\n",
       "      <th>75%</th>\n",
       "      <td>2.008123e+07</td>\n",
       "      <td>2.009012e+07</td>\n",
       "      <td>2.009013e+07</td>\n",
       "      <td>2.270000</td>\n",
       "    </tr>\n",
       "    <tr>\n",
       "      <th>max</th>\n",
       "      <td>2.017053e+07</td>\n",
       "      <td>2.017063e+07</td>\n",
       "      <td>2.017063e+07</td>\n",
       "      <td>200.500000</td>\n",
       "    </tr>\n",
       "  </tbody>\n",
       "</table>\n",
       "</div>"
      ],
      "text/plain": [
       "              PENDS       ANNDATS       ACTDATS         VALUE\n",
       "count  1.353100e+04  1.353100e+04  1.353100e+04  13531.000000\n",
       "mean   2.000087e+07  2.000748e+07  2.000749e+07      1.443553\n",
       "std    9.374998e+04  9.371822e+04  9.371736e+04      9.323321\n",
       "min    1.976123e+07  1.980012e+07  1.980012e+07   -554.799800\n",
       "25%    1.992123e+07  1.993021e+07  1.993021e+07      0.395000\n",
       "50%    2.000123e+07  2.001012e+07  2.001012e+07      1.150000\n",
       "75%    2.008123e+07  2.009012e+07  2.009013e+07      2.270000\n",
       "max    2.017053e+07  2.017063e+07  2.017063e+07    200.500000"
      ]
     },
     "execution_count": 382,
     "metadata": {},
     "output_type": "execute_result"
    }
   ],
   "source": [
    "actuals.describe()"
   ]
  },
  {
   "cell_type": "code",
   "execution_count": 383,
   "metadata": {},
   "outputs": [
    {
     "data": {
      "text/plain": [
       "2"
      ]
     },
     "execution_count": 383,
     "metadata": {},
     "output_type": "execute_result"
    }
   ],
   "source": [
    "#given a date (in YYYYMMDD format), returns quarter number\n",
    "def quarter_num(date):\n",
    "    a = datetime.strptime(str(date), '%Y%m%d')\n",
    "    return (a.month-1)//3\n",
    "\n",
    "quarter_num('20060801')"
   ]
  },
  {
   "cell_type": "code",
   "execution_count": 384,
   "metadata": {
    "collapsed": true
   },
   "outputs": [],
   "source": [
    "#add quarternum column to actuals and estimates\n",
    "estimates['quarternum'] = estimates['FPEDATS'].apply(quarter_num)\n",
    "actuals['quarternum']   = actuals['ANNDATS'].apply(quarter_num)"
   ]
  },
  {
   "cell_type": "code",
   "execution_count": 385,
   "metadata": {
    "collapsed": true
   },
   "outputs": [],
   "source": [
    "#save clean estimates\n",
    "estimates.to_csv('ibes/clean_estimates.csv')\n",
    "actuals.to_csv('ibes/clean_actuals.csv')"
   ]
  },
  {
   "cell_type": "code",
   "execution_count": 386,
   "metadata": {
    "collapsed": true
   },
   "outputs": [],
   "source": [
    "#analyst forecast and actual earnings dataframes\n",
    "df_aforecast   = estimates.set_index(['TICKER', 'FPEDATS', 'quarternum', 'ANALYS'])['VALUE']\n",
    "df_actual_ern = actuals.set_index(['TICKER', 'ANNDATS', 'quarternum'])['VALUE']"
   ]
  },
  {
   "cell_type": "code",
   "execution_count": 387,
   "metadata": {
    "collapsed": true
   },
   "outputs": [],
   "source": [
    "df_aforecast.to_csv('ibes/df_aforecast.csv')\n",
    "df_actual_ern.to_csv('ibes/df_actual_ern.csv')"
   ]
  },
  {
   "cell_type": "markdown",
   "metadata": {},
   "source": [
    "Generate price distribution dataframe"
   ]
  },
  {
   "cell_type": "code",
   "execution_count": 388,
   "metadata": {
    "collapsed": true
   },
   "outputs": [],
   "source": [
    "#fill na's in cons thru with max date (assumed to be nov 1st 2017)\n",
    "max_date = 20171101.0\n",
    "cons['thru'] = cons['thru'].fillna(max_date)\n",
    "cons['thru'] = pd.to_numeric(cons['thru'])\n",
    "cons['from'] = pd.to_numeric(cons['from'])"
   ]
  },
  {
   "cell_type": "code",
   "execution_count": 389,
   "metadata": {
    "collapsed": true
   },
   "outputs": [],
   "source": [
    "#clean up missing values in CRSP_IBES_linktable\n",
    "CRSP_IBES_link_table = CRSP_IBES_link_table.fillna(method='ffill')"
   ]
  },
  {
   "cell_type": "code",
   "execution_count": 390,
   "metadata": {
    "collapsed": true
   },
   "outputs": [],
   "source": [
    "class df_handler:\n",
    "    #actuals = actuals dataframe\n",
    "    def __init__(self,actuals, X=30): \n",
    "        self.actuals = actuals\n",
    "        self.X = X #denotes range of prices [-X days, +Xdays] from target date\n",
    "        \n",
    "    def gen_df(self):\n",
    "        \n",
    "        prc_range = [str(i) for i in range(-X,X+1)]\n",
    "        col_names = ['TICKER', 'ANNDATS', 'quarternum'] + prc_range\n",
    "        df = pd.DataFrame(columns = col_names)\n",
    "        for i in range(0,len(self.actuals['TICKER'])):\n",
    "            row = self.actuals.iloc[i]\n",
    "            if self.check_SP500(row): \n",
    "                data = [row['TICKER'] , row['ANNDATS'] , row['quarternum']] + [i for i in self.crsp_prices(row)]\n",
    "                tmp = dict(zip(col_names,data))\n",
    "                df = df.append(tmp, ignore_index = True) \n",
    "            \n",
    "        return df\n",
    "        \n",
    "        \n",
    "    #function that accepts a row of actuals data and checks if this earnings belongs in the S&P500 at that time or not.\n",
    "    def check_SP500(self,actual_entry):\n",
    "        dt = actual_entry['ACTDATS']\n",
    "\n",
    "        #match this ibtic to corresponding lpermno via CRSP_IBES_link_table\n",
    "        ibtic   = actual_entry['TICKER']\n",
    "        lpermno = CRSP_IBES_link_table[CRSP_IBES_link_table['TICKER'] == ibtic]['PERMNO'].unique()\n",
    "        if lpermno.size == 0: return False\n",
    "\n",
    "        #use lpermno to match with compustat gvkey using Compustat_CRSP_link_table. \"lpermno[0]\" the zero index is because \n",
    "        #    .unique( ) returns a numpy array of size 1. We need it as a number instead. Dangerous!!\n",
    "        gvkey = Compustat_CRSP_link_table[Compustat_CRSP_link_table['LPERMNO'] == lpermno[0]]['gvkey'].unique()\n",
    "        if gvkey.size == 0: return False\n",
    "\n",
    "        #use gvkey to access corresponding date ranges in constituents file\n",
    "        dt_from = cons[cons['gvkey'] == gvkey[0]]['from']\n",
    "        dt_thru = cons[cons['gvkey'] == gvkey[0]]['thru']\n",
    "\n",
    "        #check if actual earnings announcement date is within the (or one of the) date ranges\n",
    "        for i in range(0,len(dt_from)):\n",
    "            if dt >= dt_from.values[i] and dt <= dt_thru.values[i]: return True\n",
    "\n",
    "        return False #no match - return false\n",
    "    \n",
    "    #given a row of actuals data, match it to crsp data and generate [-X,X] days of price\n",
    "    #data. Prices are normalized such that the earnings date price is 1.\n",
    "    #     NOTE: there are duplicate dates entries for the same permno. No idea why this is. I just deleted them.\n",
    "    #This part can definitely be sped up. Some redundant operations..\n",
    "    #  1. linking ibtics and permnos\n",
    "    #  2. slicing crsp and manipulating slice.\n",
    "    def crsp_prices(self,actual_entry):\n",
    "        dt = actual_entry['ACTDATS']\n",
    "        X = self.X\n",
    "\n",
    "        #match this ibtic to corresponding lpermno via CRSP_IBES_link_table\n",
    "        ibtic   = actual_entry['TICKER']\n",
    "        lpermno = CRSP_IBES_link_table[CRSP_IBES_link_table['TICKER'] == ibtic]['PERMNO'].unique()\n",
    "        if lpermno.size == 0: return []\n",
    "\n",
    "        #grab crsp prices associated with this ticker\n",
    "        crsp = pd.read_hdf('data/crsp.h5', 'df', where='PERMNO in ' + str(lpermno[0]))\n",
    "                    \n",
    "        #delete duplicate rows\n",
    "        crsp = crsp[~crsp.duplicated()]\n",
    "        \n",
    "        #delete duplicate dates (Why do these exist in the first place? Is this correct??)\n",
    "        crsp = crsp[~crsp['date'].duplicated()]\n",
    "        \n",
    "        #delete entries with missing dates\n",
    "        crsp = crsp.dropna(subset=['date'])\n",
    "        \n",
    "        #find date price date closest to earnings date\n",
    "        data     = crsp.sort_values(['date']).reset_index(drop=True)\n",
    "        prc_date = pd.Index(data['date']).get_loc(dt, method='nearest')\n",
    "        \n",
    "        #take slice of dates X days after dt and X days before dt \n",
    "        date_range = [datetime.strptime(str(data['date'][prc_date]), '%Y%m%d') + timedelta(days=j) for j in range(-X, X+1)]\n",
    "        prices = []\n",
    "        for i in date_range:\n",
    "            tar_prc = data[data['date'] == int(i.strftime('%Y%m%d'))]['PRC']\n",
    "\n",
    "            if tar_prc.empty: prices.append('NaN')\n",
    "            else:             prices.append(tar_prc.values[0])\n",
    "                \n",
    "        #normalize prices such that target date = 1 (ie each price / target date price)\n",
    "        for i in range(0,len(prices)): \n",
    "            if type(prices[i]) == str: continue\n",
    "            else:                      prices[i] = prices[i]/prices[X]\n",
    "                       \n",
    "        return prices"
   ]
  },
  {
   "cell_type": "code",
   "execution_count": 391,
   "metadata": {},
   "outputs": [
    {
     "name": "stdout",
     "output_type": "stream",
     "text": [
      "TICKER                       A\n",
      "CUSIP                 02742010\n",
      "OFTIC                        A\n",
      "CNAME         AMERN MEDIC BLDG\n",
      "PENDS                 19881231\n",
      "MEASURE                    EPS\n",
      "PDICITY                    ANN\n",
      "ANNDATS               19890401\n",
      "ANNTIMS                0:00:00\n",
      "ACTDATS               19890401\n",
      "ACTTIMS                0:00:00\n",
      "VALUE                    -0.47\n",
      "CURR_ACT                   USD\n",
      "quarternum                   1\n",
      "Name: 0, dtype: object\n",
      "False\n",
      " \n",
      "TICKER              AA\n",
      "CUSIP         02224910\n",
      "OFTIC               AA\n",
      "CNAME            ALCOA\n",
      "PENDS         19881231\n",
      "MEASURE            EPS\n",
      "PDICITY            ANN\n",
      "ANNDATS       19890119\n",
      "ANNTIMS        0:00:00\n",
      "ACTDATS       19890119\n",
      "ACTTIMS        0:00:00\n",
      "VALUE           3.6525\n",
      "CURR_ACT           USD\n",
      "quarternum           0\n",
      "Name: 10, dtype: object\n",
      "True\n"
     ]
    }
   ],
   "source": [
    "#test check_SP500\n",
    "test = df_handler(actuals)\n",
    "print(actuals.iloc[0])\n",
    "print(test.check_SP500(actuals.iloc[0])) #should be false\n",
    "print(' ')\n",
    "print(actuals.iloc[8])\n",
    "print(test.check_SP500(actuals.iloc[8])) #should be true"
   ]
  },
  {
   "cell_type": "code",
   "execution_count": 392,
   "metadata": {
    "scrolled": true
   },
   "outputs": [
    {
     "name": "stdout",
     "output_type": "stream",
     "text": [
      "[0.90204081632653066, 0.88775510204081631, 0.88367346938775515, 0.88979591836734695, 'NaN', 'NaN', 'NaN', 0.89183673469387759, 0.89591836734693875, 0.90816326530612246, 0.91428571428571426, 'NaN', 'NaN', 'NaN', 0.91224489795918362, 0.92448979591836733, 0.9408163265306122, 0.9408163265306122, 'NaN', 'NaN', 0.94897959183673475, 0.95714285714285718, 0.97959183673469385, 0.97959183673469385, 0.97346938775510206, 'NaN', 'NaN', 0.97551020408163269, 0.97755102040816322, 0.99591836734693873, 1.0, 61.875, 'NaN', 'NaN', 61.75, 61.25, 61.25, 61.625, 62.875, 'NaN', 'NaN', 62.875, 64.625, 64.875, 63.875, 63.5, 'NaN', 'NaN', 62.875, 63.875, 64.25, 63.375, 61.5, 'NaN', 'NaN', 61.375, 61.25, 61.125, 62.0, 63.0, 'NaN']\n"
     ]
    }
   ],
   "source": [
    "#test crsp_rets\n",
    "print(test.crsp_prices(actuals.iloc[8])) "
   ]
  },
  {
   "cell_type": "code",
   "execution_count": 393,
   "metadata": {
    "collapsed": true
   },
   "outputs": [],
   "source": [
    "#generate dataframe\n",
    "df_prc_dist = test.gen_df()"
   ]
  },
  {
   "cell_type": "code",
   "execution_count": 394,
   "metadata": {},
   "outputs": [
    {
     "data": {
      "text/html": [
       "<div>\n",
       "<style>\n",
       "    .dataframe thead tr:only-child th {\n",
       "        text-align: right;\n",
       "    }\n",
       "\n",
       "    .dataframe thead th {\n",
       "        text-align: left;\n",
       "    }\n",
       "\n",
       "    .dataframe tbody tr th {\n",
       "        vertical-align: top;\n",
       "    }\n",
       "</style>\n",
       "<table border=\"1\" class=\"dataframe\">\n",
       "  <thead>\n",
       "    <tr style=\"text-align: right;\">\n",
       "      <th></th>\n",
       "      <th>TICKER</th>\n",
       "      <th>ANNDATS</th>\n",
       "      <th>quarternum</th>\n",
       "      <th>-30</th>\n",
       "      <th>-29</th>\n",
       "      <th>-28</th>\n",
       "      <th>-27</th>\n",
       "      <th>-26</th>\n",
       "      <th>-25</th>\n",
       "      <th>-24</th>\n",
       "      <th>...</th>\n",
       "      <th>21</th>\n",
       "      <th>22</th>\n",
       "      <th>23</th>\n",
       "      <th>24</th>\n",
       "      <th>25</th>\n",
       "      <th>26</th>\n",
       "      <th>27</th>\n",
       "      <th>28</th>\n",
       "      <th>29</th>\n",
       "      <th>30</th>\n",
       "    </tr>\n",
       "  </thead>\n",
       "  <tbody>\n",
       "    <tr>\n",
       "      <th>0</th>\n",
       "      <td>AA</td>\n",
       "      <td>19840124</td>\n",
       "      <td>0</td>\n",
       "      <td>NaN</td>\n",
       "      <td>NaN</td>\n",
       "      <td>1.0084</td>\n",
       "      <td>1.0056</td>\n",
       "      <td>1.0084</td>\n",
       "      <td>1.0056</td>\n",
       "      <td>NaN</td>\n",
       "      <td>...</td>\n",
       "      <td>38.5</td>\n",
       "      <td>38.875</td>\n",
       "      <td>39.25</td>\n",
       "      <td>39</td>\n",
       "      <td>NaN</td>\n",
       "      <td>NaN</td>\n",
       "      <td>NaN</td>\n",
       "      <td>38.375</td>\n",
       "      <td>37.75</td>\n",
       "      <td>37.25</td>\n",
       "    </tr>\n",
       "    <tr>\n",
       "      <th>1</th>\n",
       "      <td>AA</td>\n",
       "      <td>19850121</td>\n",
       "      <td>0</td>\n",
       "      <td>NaN</td>\n",
       "      <td>NaN</td>\n",
       "      <td>0.970395</td>\n",
       "      <td>NaN</td>\n",
       "      <td>0.967105</td>\n",
       "      <td>0.963816</td>\n",
       "      <td>0.970395</td>\n",
       "      <td>...</td>\n",
       "      <td>38.875</td>\n",
       "      <td>39</td>\n",
       "      <td>39.125</td>\n",
       "      <td>38.75</td>\n",
       "      <td>38.125</td>\n",
       "      <td>NaN</td>\n",
       "      <td>NaN</td>\n",
       "      <td>NaN</td>\n",
       "      <td>38.125</td>\n",
       "      <td>37.875</td>\n",
       "    </tr>\n",
       "    <tr>\n",
       "      <th>2</th>\n",
       "      <td>AA</td>\n",
       "      <td>19860122</td>\n",
       "      <td>0</td>\n",
       "      <td>1.01967</td>\n",
       "      <td>1.03279</td>\n",
       "      <td>NaN</td>\n",
       "      <td>1.03607</td>\n",
       "      <td>1.03934</td>\n",
       "      <td>NaN</td>\n",
       "      <td>NaN</td>\n",
       "      <td>...</td>\n",
       "      <td>45.375</td>\n",
       "      <td>44.625</td>\n",
       "      <td>44.5</td>\n",
       "      <td>NaN</td>\n",
       "      <td>NaN</td>\n",
       "      <td>NaN</td>\n",
       "      <td>44.75</td>\n",
       "      <td>43.75</td>\n",
       "      <td>43.875</td>\n",
       "      <td>45.75</td>\n",
       "    </tr>\n",
       "    <tr>\n",
       "      <th>3</th>\n",
       "      <td>AA</td>\n",
       "      <td>19870122</td>\n",
       "      <td>0</td>\n",
       "      <td>0.860317</td>\n",
       "      <td>0.857143</td>\n",
       "      <td>NaN</td>\n",
       "      <td>0.857143</td>\n",
       "      <td>NaN</td>\n",
       "      <td>NaN</td>\n",
       "      <td>0.857143</td>\n",
       "      <td>...</td>\n",
       "      <td>43</td>\n",
       "      <td>44.125</td>\n",
       "      <td>NaN</td>\n",
       "      <td>NaN</td>\n",
       "      <td>NaN</td>\n",
       "      <td>45</td>\n",
       "      <td>43.875</td>\n",
       "      <td>43.375</td>\n",
       "      <td>43.75</td>\n",
       "      <td>NaN</td>\n",
       "    </tr>\n",
       "    <tr>\n",
       "      <th>4</th>\n",
       "      <td>AA</td>\n",
       "      <td>19880122</td>\n",
       "      <td>0</td>\n",
       "      <td>1.18475</td>\n",
       "      <td>1.18768</td>\n",
       "      <td>NaN</td>\n",
       "      <td>NaN</td>\n",
       "      <td>NaN</td>\n",
       "      <td>1.13196</td>\n",
       "      <td>1.12317</td>\n",
       "      <td>...</td>\n",
       "      <td>44.625</td>\n",
       "      <td>NaN</td>\n",
       "      <td>NaN</td>\n",
       "      <td>NaN</td>\n",
       "      <td>46.5</td>\n",
       "      <td>45.625</td>\n",
       "      <td>44.875</td>\n",
       "      <td>45.25</td>\n",
       "      <td>NaN</td>\n",
       "      <td>NaN</td>\n",
       "    </tr>\n",
       "  </tbody>\n",
       "</table>\n",
       "<p>5 rows × 64 columns</p>\n",
       "</div>"
      ],
      "text/plain": [
       "  TICKER   ANNDATS quarternum       -30       -29       -28       -27  \\\n",
       "0     AA  19840124          0       NaN       NaN    1.0084    1.0056   \n",
       "1     AA  19850121          0       NaN       NaN  0.970395       NaN   \n",
       "2     AA  19860122          0   1.01967   1.03279       NaN   1.03607   \n",
       "3     AA  19870122          0  0.860317  0.857143       NaN  0.857143   \n",
       "4     AA  19880122          0   1.18475   1.18768       NaN       NaN   \n",
       "\n",
       "        -26       -25       -24   ...        21      22      23     24  \\\n",
       "0    1.0084    1.0056       NaN   ...      38.5  38.875   39.25     39   \n",
       "1  0.967105  0.963816  0.970395   ...    38.875      39  39.125  38.75   \n",
       "2   1.03934       NaN       NaN   ...    45.375  44.625    44.5    NaN   \n",
       "3       NaN       NaN  0.857143   ...        43  44.125     NaN    NaN   \n",
       "4       NaN   1.13196   1.12317   ...    44.625     NaN     NaN    NaN   \n",
       "\n",
       "       25      26      27      28      29      30  \n",
       "0     NaN     NaN     NaN  38.375   37.75   37.25  \n",
       "1  38.125     NaN     NaN     NaN  38.125  37.875  \n",
       "2     NaN     NaN   44.75   43.75  43.875   45.75  \n",
       "3     NaN      45  43.875  43.375   43.75     NaN  \n",
       "4    46.5  45.625  44.875   45.25     NaN     NaN  \n",
       "\n",
       "[5 rows x 64 columns]"
      ]
     },
     "execution_count": 394,
     "metadata": {},
     "output_type": "execute_result"
    }
   ],
   "source": [
    "df_prc_dist.head()"
   ]
  },
  {
   "cell_type": "code",
   "execution_count": 395,
   "metadata": {},
   "outputs": [
    {
     "data": {
      "text/html": [
       "<div>\n",
       "<style>\n",
       "    .dataframe thead tr:only-child th {\n",
       "        text-align: right;\n",
       "    }\n",
       "\n",
       "    .dataframe thead th {\n",
       "        text-align: left;\n",
       "    }\n",
       "\n",
       "    .dataframe tbody tr th {\n",
       "        vertical-align: top;\n",
       "    }\n",
       "</style>\n",
       "<table border=\"1\" class=\"dataframe\">\n",
       "  <thead>\n",
       "    <tr style=\"text-align: right;\">\n",
       "      <th></th>\n",
       "      <th>0</th>\n",
       "    </tr>\n",
       "  </thead>\n",
       "  <tbody>\n",
       "    <tr>\n",
       "      <th>count</th>\n",
       "      <td>7640.0</td>\n",
       "    </tr>\n",
       "    <tr>\n",
       "      <th>mean</th>\n",
       "      <td>1.0</td>\n",
       "    </tr>\n",
       "    <tr>\n",
       "      <th>std</th>\n",
       "      <td>0.0</td>\n",
       "    </tr>\n",
       "    <tr>\n",
       "      <th>min</th>\n",
       "      <td>1.0</td>\n",
       "    </tr>\n",
       "    <tr>\n",
       "      <th>25%</th>\n",
       "      <td>1.0</td>\n",
       "    </tr>\n",
       "    <tr>\n",
       "      <th>50%</th>\n",
       "      <td>1.0</td>\n",
       "    </tr>\n",
       "    <tr>\n",
       "      <th>75%</th>\n",
       "      <td>1.0</td>\n",
       "    </tr>\n",
       "    <tr>\n",
       "      <th>max</th>\n",
       "      <td>1.0</td>\n",
       "    </tr>\n",
       "  </tbody>\n",
       "</table>\n",
       "</div>"
      ],
      "text/plain": [
       "            0\n",
       "count  7640.0\n",
       "mean      1.0\n",
       "std       0.0\n",
       "min       1.0\n",
       "25%       1.0\n",
       "50%       1.0\n",
       "75%       1.0\n",
       "max       1.0"
      ]
     },
     "execution_count": 395,
     "metadata": {},
     "output_type": "execute_result"
    }
   ],
   "source": [
    "df_prc_dist.describe()"
   ]
  },
  {
   "cell_type": "code",
   "execution_count": 396,
   "metadata": {
    "collapsed": true
   },
   "outputs": [],
   "source": [
    "df_prc_dist.to_csv('df_prc_dist.csv')"
   ]
  }
 ],
 "metadata": {
  "kernelspec": {
   "display_name": "Python 2",
   "language": "python",
   "name": "python2"
  },
  "language_info": {
   "codemirror_mode": {
    "name": "ipython",
    "version": 2
   },
   "file_extension": ".py",
   "mimetype": "text/x-python",
   "name": "python",
   "nbconvert_exporter": "python",
   "pygments_lexer": "ipython2",
   "version": "2.7.13"
  }
 },
 "nbformat": 4,
 "nbformat_minor": 2
}
