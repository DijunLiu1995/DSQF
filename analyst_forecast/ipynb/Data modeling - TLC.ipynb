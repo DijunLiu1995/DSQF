{
 "cells": [
  {
   "cell_type": "markdown",
   "metadata": {},
   "source": [
    "Pipelines for model trainng @author Tim Copeland"
   ]
  },
  {
   "cell_type": "code",
   "execution_count": 9,
   "metadata": {},
   "outputs": [],
   "source": [
    "from sklearn.linear_model import SGDClassifier\n",
    "from sklearn.preprocessing import Imputer, StandardScaler\n",
    "from sklearn.base import BaseEstimator, TransformerMixin\n",
    "from sklearn.pipeline import Pipeline"
   ]
  },
  {
   "cell_type": "code",
   "execution_count": 10,
   "metadata": {},
   "outputs": [],
   "source": [
    "ommit  = ('id','type','bond_id','trade_price')\n",
    "target = '20151'\n",
    "# Create a class to select numerical columns\n",
    "class DataFrameSelector(BaseEstimator, TransformerMixin):\n",
    "    def __init__(self, ommit):\n",
    "        self.ommit = ommit\n",
    "    def fit(self, X, y=None):\n",
    "        return self\n",
    "    def transform(self, X):\n",
    "        #add year_qnum column\n",
    "        X['year_qnum'] = X['date'].apply(lambda x: int(str(x[0:4]) + str(X['qnum'])))\n",
    "        \n",
    "        ret_X = X[X['year_qnum'] < target]\n",
    "        attribute_names = [i for i in list(X.columns) if i not in ommit]\n",
    "        return ret_X[attribute_names].values"
   ]
  },
  {
   "cell_type": "markdown",
   "metadata": {},
   "source": [
    "SGDClassifier with both hinge loss (SVM) and log loss (logistic regression)"
   ]
  },
  {
   "cell_type": "code",
   "execution_count": 11,
   "metadata": {},
   "outputs": [],
   "source": [
    "#pre processes data for regression\n",
    "full_pipeline = Pipeline([        \n",
    "        ('selector', DataFrameSelector(ommit)),\n",
    "        ('imputer', Imputer(strategy=\"median\")),\n",
    "        ('std_scaler', StandardScaler())\n",
    "    ])\n",
    "\n",
    "def svd_create_full_pipeline_with_predictor(predictor):\n",
    "    pipe = Pipeline([\n",
    "        (\"preparation\", full_pipeline),\n",
    "        (\"linear\", predictor)\n",
    "    ])\n",
    "    return pipe\n",
    "\n",
    "def svd_run_describe_predictors(predictors, X, y):\n",
    "    res = pd.DataFrame()\n",
    "    for name, predictor in predictors.items():\n",
    "        pipe = svd_create_full_pipeline_with_predictor(predictor)\n",
    "        scores = cross_val_score(pipe, X, y,scoring='neg_mean_squared_error', cv=10) #10-fold cross-validation\n",
    "        print(pd.Series(scores).describe())\n",
    "        print('')\n",
    "        res[str(name)] = pd.Series(scores).describe()\n",
    "    return res"
   ]
  },
  {
   "cell_type": "code",
   "execution_count": null,
   "metadata": {},
   "outputs": [],
   "source": [
    "predictors = {'SGD_log':  SGDClassifier(loss = 'log')}\n",
    "res = run_describe_predictors(predictors, X, y)\n",
    "print(res)"
   ]
  },
  {
   "cell_type": "code",
   "execution_count": null,
   "metadata": {},
   "outputs": [],
   "source": [
    "predictors = {'SGD_hinge':SGDClassifier()}\n",
    "res = run_describe_predictors(predictors, X, y)\n",
    "print(res)"
   ]
  }
 ],
 "metadata": {
  "kernelspec": {
   "display_name": "Python 3",
   "language": "python",
   "name": "python3"
  },
  "language_info": {
   "codemirror_mode": {
    "name": "ipython",
    "version": 3
   },
   "file_extension": ".py",
   "mimetype": "text/x-python",
   "name": "python",
   "nbconvert_exporter": "python",
   "pygments_lexer": "ipython3",
   "version": "3.4.5"
  }
 },
 "nbformat": 4,
 "nbformat_minor": 2
}
