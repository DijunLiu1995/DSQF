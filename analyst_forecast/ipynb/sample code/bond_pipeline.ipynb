{
 "cells": [
  {
   "cell_type": "code",
   "execution_count": 11,
   "metadata": {},
   "outputs": [],
   "source": [
    "import pickle\n",
    "import os\n",
    "import time\n",
    "\n",
    "import numpy as np\n",
    "import pandas as pd\n",
    "import scipy as sp\n",
    "\n",
    "from numpy import linalg as LA\n",
    "\n",
    "from sklearn.pipeline import Pipeline\n",
    "from sklearn import svm\n",
    "from sklearn.preprocessing import Imputer\n",
    "from sklearn.preprocessing import StandardScaler\n",
    "from sklearn.base import BaseEstimator, TransformerMixin\n",
    "from sklearn.linear_model import LinearRegression\n",
    "from sklearn.linear_model import Ridge\n",
    "from sklearn.linear_model import ElasticNet\n",
    "from sklearn.model_selection import GridSearchCV\n",
    "\n",
    "\n",
    "from sklearn.metrics import mean_squared_error\n",
    "from sklearn.model_selection import cross_val_score\n",
    "from sklearn.decomposition import TruncatedSVD\n",
    "\n",
    "from scipy import optimize\n",
    "from scipy.sparse import csr_matrix\n",
    "import matplotlib.pyplot as plt\n",
    "import gc"
   ]
  },
  {
   "cell_type": "markdown",
   "metadata": {},
   "source": [
    "Pipeline and OLS Benchmark"
   ]
  },
  {
   "cell_type": "code",
   "execution_count": 12,
   "metadata": {
    "scrolled": true
   },
   "outputs": [
    {
     "data": {
      "text/html": [
       "<div>\n",
       "<style>\n",
       "    .dataframe thead tr:only-child th {\n",
       "        text-align: right;\n",
       "    }\n",
       "\n",
       "    .dataframe thead th {\n",
       "        text-align: left;\n",
       "    }\n",
       "\n",
       "    .dataframe tbody tr th {\n",
       "        vertical-align: top;\n",
       "    }\n",
       "</style>\n",
       "<table border=\"1\" class=\"dataframe\">\n",
       "  <thead>\n",
       "    <tr style=\"text-align: right;\">\n",
       "      <th></th>\n",
       "      <th>id</th>\n",
       "      <th>type</th>\n",
       "      <th>bond_id</th>\n",
       "      <th>trade_price</th>\n",
       "      <th>weight</th>\n",
       "      <th>current_coupon</th>\n",
       "      <th>time_to_maturity</th>\n",
       "      <th>is_callable</th>\n",
       "      <th>reporting_delay</th>\n",
       "      <th>trade_size</th>\n",
       "      <th>...</th>\n",
       "      <th>duration_last1</th>\n",
       "      <th>duration_last2</th>\n",
       "      <th>duration_last3</th>\n",
       "      <th>duration_last4</th>\n",
       "      <th>duration_last5</th>\n",
       "      <th>duration_last6</th>\n",
       "      <th>duration_last7</th>\n",
       "      <th>duration_last8</th>\n",
       "      <th>duration_last9</th>\n",
       "      <th>duration_last10</th>\n",
       "    </tr>\n",
       "  </thead>\n",
       "  <tbody>\n",
       "    <tr>\n",
       "      <th>0</th>\n",
       "      <td>1</td>\n",
       "      <td>train</td>\n",
       "      <td>1.0</td>\n",
       "      <td>128.596</td>\n",
       "      <td>11.316404</td>\n",
       "      <td>5.95</td>\n",
       "      <td>26.031126</td>\n",
       "      <td>0</td>\n",
       "      <td>1.731</td>\n",
       "      <td>120000</td>\n",
       "      <td>...</td>\n",
       "      <td>35.642227</td>\n",
       "      <td>NaN</td>\n",
       "      <td>NaN</td>\n",
       "      <td>NaN</td>\n",
       "      <td>NaN</td>\n",
       "      <td>NaN</td>\n",
       "      <td>NaN</td>\n",
       "      <td>NaN</td>\n",
       "      <td>NaN</td>\n",
       "      <td>NaN</td>\n",
       "    </tr>\n",
       "    <tr>\n",
       "      <th>1</th>\n",
       "      <td>2</td>\n",
       "      <td>train</td>\n",
       "      <td>1.0</td>\n",
       "      <td>126.673</td>\n",
       "      <td>8.763446</td>\n",
       "      <td>5.95</td>\n",
       "      <td>26.016697</td>\n",
       "      <td>0</td>\n",
       "      <td>30.518</td>\n",
       "      <td>85000</td>\n",
       "      <td>...</td>\n",
       "      <td>35.728989</td>\n",
       "      <td>35.642227</td>\n",
       "      <td>NaN</td>\n",
       "      <td>NaN</td>\n",
       "      <td>NaN</td>\n",
       "      <td>NaN</td>\n",
       "      <td>NaN</td>\n",
       "      <td>NaN</td>\n",
       "      <td>NaN</td>\n",
       "      <td>NaN</td>\n",
       "    </tr>\n",
       "    <tr>\n",
       "      <th>2</th>\n",
       "      <td>3</td>\n",
       "      <td>train</td>\n",
       "      <td>1.0</td>\n",
       "      <td>126.880</td>\n",
       "      <td>6.499730</td>\n",
       "      <td>5.95</td>\n",
       "      <td>26.008760</td>\n",
       "      <td>0</td>\n",
       "      <td>4.424</td>\n",
       "      <td>4200000</td>\n",
       "      <td>...</td>\n",
       "      <td>36.233816</td>\n",
       "      <td>35.728989</td>\n",
       "      <td>35.642227</td>\n",
       "      <td>NaN</td>\n",
       "      <td>NaN</td>\n",
       "      <td>NaN</td>\n",
       "      <td>NaN</td>\n",
       "      <td>NaN</td>\n",
       "      <td>NaN</td>\n",
       "      <td>NaN</td>\n",
       "    </tr>\n",
       "    <tr>\n",
       "      <th>3</th>\n",
       "      <td>4</td>\n",
       "      <td>train</td>\n",
       "      <td>1.0</td>\n",
       "      <td>126.362</td>\n",
       "      <td>0.865854</td>\n",
       "      <td>5.95</td>\n",
       "      <td>26.008619</td>\n",
       "      <td>0</td>\n",
       "      <td>43.059</td>\n",
       "      <td>5000001</td>\n",
       "      <td>...</td>\n",
       "      <td>36.159652</td>\n",
       "      <td>36.233816</td>\n",
       "      <td>35.728989</td>\n",
       "      <td>35.642227</td>\n",
       "      <td>NaN</td>\n",
       "      <td>NaN</td>\n",
       "      <td>NaN</td>\n",
       "      <td>NaN</td>\n",
       "      <td>NaN</td>\n",
       "      <td>NaN</td>\n",
       "    </tr>\n",
       "    <tr>\n",
       "      <th>4</th>\n",
       "      <td>5</td>\n",
       "      <td>train</td>\n",
       "      <td>1.0</td>\n",
       "      <td>124.918</td>\n",
       "      <td>11.938543</td>\n",
       "      <td>5.95</td>\n",
       "      <td>25.981840</td>\n",
       "      <td>0</td>\n",
       "      <td>6.332</td>\n",
       "      <td>10000</td>\n",
       "      <td>...</td>\n",
       "      <td>36.305280</td>\n",
       "      <td>36.159652</td>\n",
       "      <td>36.233816</td>\n",
       "      <td>35.728989</td>\n",
       "      <td>35.642227</td>\n",
       "      <td>NaN</td>\n",
       "      <td>NaN</td>\n",
       "      <td>NaN</td>\n",
       "      <td>NaN</td>\n",
       "      <td>NaN</td>\n",
       "    </tr>\n",
       "  </tbody>\n",
       "</table>\n",
       "<p>5 rows × 87 columns</p>\n",
       "</div>"
      ],
      "text/plain": [
       "   id   type  bond_id  trade_price     weight  current_coupon  \\\n",
       "0   1  train      1.0      128.596  11.316404            5.95   \n",
       "1   2  train      1.0      126.673   8.763446            5.95   \n",
       "2   3  train      1.0      126.880   6.499730            5.95   \n",
       "3   4  train      1.0      126.362   0.865854            5.95   \n",
       "4   5  train      1.0      124.918  11.938543            5.95   \n",
       "\n",
       "   time_to_maturity  is_callable  reporting_delay  trade_size  \\\n",
       "0         26.031126            0            1.731      120000   \n",
       "1         26.016697            0           30.518       85000   \n",
       "2         26.008760            0            4.424     4200000   \n",
       "3         26.008619            0           43.059     5000001   \n",
       "4         25.981840            0            6.332       10000   \n",
       "\n",
       "        ...         duration_last1  duration_last2  duration_last3  \\\n",
       "0       ...              35.642227             NaN             NaN   \n",
       "1       ...              35.728989       35.642227             NaN   \n",
       "2       ...              36.233816       35.728989       35.642227   \n",
       "3       ...              36.159652       36.233816       35.728989   \n",
       "4       ...              36.305280       36.159652       36.233816   \n",
       "\n",
       "   duration_last4  duration_last5  duration_last6  duration_last7  \\\n",
       "0             NaN             NaN             NaN             NaN   \n",
       "1             NaN             NaN             NaN             NaN   \n",
       "2             NaN             NaN             NaN             NaN   \n",
       "3       35.642227             NaN             NaN             NaN   \n",
       "4       35.728989       35.642227             NaN             NaN   \n",
       "\n",
       "   duration_last8  duration_last9  duration_last10  \n",
       "0             NaN             NaN              NaN  \n",
       "1             NaN             NaN              NaN  \n",
       "2             NaN             NaN              NaN  \n",
       "3             NaN             NaN              NaN  \n",
       "4             NaN             NaN              NaN  \n",
       "\n",
       "[5 rows x 87 columns]"
      ]
     },
     "execution_count": 12,
     "metadata": {},
     "output_type": "execute_result"
    }
   ],
   "source": [
    "fname = \"yield.pkl\"\n",
    "raw_text_dataset = pd.read_pickle( fname )\n",
    "raw_text_dataset.head(5)"
   ]
  },
  {
   "cell_type": "code",
   "execution_count": 13,
   "metadata": {},
   "outputs": [],
   "source": [
    "#add RPD column\n",
    "raw_text_dataset['RPD'] = (raw_text_dataset['trade_price'] - raw_text_dataset['curve_based_price']) / raw_text_dataset['curve_based_price']"
   ]
  },
  {
   "cell_type": "code",
   "execution_count": 14,
   "metadata": {},
   "outputs": [],
   "source": [
    "#test and train datasets\n",
    "train = raw_text_dataset[raw_text_dataset['type'] == 'train'].drop('type', axis=1)\n",
    "test  = raw_text_dataset[raw_text_dataset['type'] == 'test'].drop('type',axis=1)\n",
    "del raw_text_dataset"
   ]
  },
  {
   "cell_type": "code",
   "execution_count": 15,
   "metadata": {},
   "outputs": [
    {
     "data": {
      "text/plain": [
       "0.9768329491607205"
      ]
     },
     "execution_count": 15,
     "metadata": {},
     "output_type": "execute_result"
    }
   ],
   "source": [
    "#data preserved if NaN removed\n",
    "train.dropna(subset=['trade_price_last10','curve_based_price_last10']).describe()['id'][0]/train.describe()['id'][0]"
   ]
  },
  {
   "cell_type": "code",
   "execution_count": 16,
   "metadata": {},
   "outputs": [],
   "source": [
    "#adjust train to drop NaN\n",
    "train = train.dropna(subset=['trade_price_last10','curve_based_price_last10'])\n",
    "#test = test.dropna(subset=['trade_price_last10','curve_based_price_last10'])"
   ]
  },
  {
   "cell_type": "code",
   "execution_count": 7,
   "metadata": {},
   "outputs": [
    {
     "data": {
      "image/png": "[encoded data removed]",
      "text/plain": [
       "<matplotlib.figure.Figure at 0x1f831c32fd0>"
      ]
     },
     "metadata": {},
     "output_type": "display_data"
    },
    {
     "data": {
      "image/png": "[encoded data removed]",
      "text/plain": [
       "<matplotlib.figure.Figure at 0x1f8003adf60>"
      ]
     },
     "metadata": {},
     "output_type": "display_data"
    }
   ],
   "source": [
    "#maturity * yield for entire training dataset\n",
    "plt.figure()\n",
    "plt.scatter(train['time_to_maturity'], train['yield_discrete'])\n",
    "plt.title('discrete yield')\n",
    "plt.xlabel('maturity (years)')\n",
    "plt.ylabel('discrete yield')\n",
    "\n",
    "plt.figure()\n",
    "plt.scatter(train['time_to_maturity'], train['yield'])\n",
    "plt.title('continuous yield')\n",
    "plt.xlabel('maturity (years)')\n",
    "plt.ylabel('discrete yield')\n",
    "plt.show()\n",
    "plt.close()"
   ]
  },
  {
   "cell_type": "code",
   "execution_count": null,
   "metadata": {},
   "outputs": [],
   "source": [
    "#feature histograms\n",
    "path = 'hist/'\n",
    "for i in train.columns:\n",
    "    if i == 'type': continue\n",
    "    train.hist(column = str(i), bins=100)\n",
    "    plt.savefig(path + str(i) + '.png')\n",
    "    plt.close()\n",
    "    \n",
    "gc.collect()"
   ]
  },
  {
   "cell_type": "markdown",
   "metadata": {},
   "source": [
    "--- Pipeline and Baseline model"
   ]
  },
  {
   "cell_type": "code",
   "execution_count": 17,
   "metadata": {},
   "outputs": [],
   "source": [
    "ommit = ('id','type','bond_id','trade_price')\n",
    "# Create a class to select numerical columns\n",
    "class DataFrameSelector(BaseEstimator, TransformerMixin):\n",
    "    def __init__(self, ommit):\n",
    "        self.ommit = ommit\n",
    "    def fit(self, X, y=None):\n",
    "        return self\n",
    "    def transform(self, X):\n",
    "        attribute_names = [i for i in list(X.columns) if i not in ommit]\n",
    "        return X[attribute_names].values\n",
    "\n",
    "#computes condition number of X\n",
    "class ConditionNumber(BaseEstimator, TransformerMixin):\n",
    "    def fit(self,X, y=None): return self\n",
    "    def transform(self, X):\n",
    "        return LA.cond(X)\n",
    "\n",
    "#pre processes data and computes condition number\n",
    "cond_pipe  = Pipeline([        \n",
    "        ('selector', DataFrameSelector(ommit)),\n",
    "        ('imputer', Imputer(strategy=\"median\")),\n",
    "        ('std_scaler', StandardScaler()),\n",
    "        ('cond_num', ConditionNumber())\n",
    "    ])\n",
    "\n",
    "#pre processes data for regression\n",
    "full_pipeline = Pipeline([        \n",
    "        ('selector', DataFrameSelector(ommit)),\n",
    "        ('imputer', Imputer(strategy=\"median\")),\n",
    "        ('std_scaler', StandardScaler())\n",
    "    ])\n",
    "\n",
    "def create_full_pipeline_with_predictor(predictor):\n",
    "    pipe = Pipeline([\n",
    "        (\"preparation\", full_pipeline),\n",
    "        (\"linear\", predictor)\n",
    "    ])\n",
    "    return pipe\n",
    "\n",
    "def run_describe_predictors(predictors, X, y):\n",
    "    res = pd.DataFrame()\n",
    "    for name, predictor in predictors.items():\n",
    "        print(name)\n",
    "        pipe = create_full_pipeline_with_predictor(predictor)\n",
    "        scores = cross_val_score(pipe, X, y, scoring=\"neg_mean_squared_error\", cv=10) #10-fold cross-validation\n",
    "        res[str(name)] = pd.Series(scores).describe()\n",
    "    return res"
   ]
  },
  {
   "cell_type": "markdown",
   "metadata": {},
   "source": [
    "Constructing baseline model"
   ]
  },
  {
   "cell_type": "code",
   "execution_count": 18,
   "metadata": {},
   "outputs": [],
   "source": [
    "#drop trade price and curve based price columns because of RPD\n",
    "X = train.drop(['RPD', 'trade_price', 'curve_based_price'],axis=1)\n",
    "y = train['RPD']"
   ]
  },
  {
   "cell_type": "code",
   "execution_count": 19,
   "metadata": {},
   "outputs": [
    {
     "name": "stdout",
     "output_type": "stream",
     "text": [
      "310.251591466\n"
     ]
    }
   ],
   "source": [
    "#condition number\n",
    "base_cond = cond_pipe.fit_transform(X)\n",
    "print(base_cond)"
   ]
  },
  {
   "cell_type": "code",
   "execution_count": 20,
   "metadata": {},
   "outputs": [
    {
     "name": "stdout",
     "output_type": "stream",
     "text": [
      "Linear Regression\n",
      "       Linear Regression\n",
      "count          10.000000\n",
      "mean           -0.000357\n",
      "std             0.001051\n",
      "min            -0.003349\n",
      "25%            -0.000048\n",
      "50%            -0.000015\n",
      "75%            -0.000012\n",
      "max            -0.000008\n"
     ]
    }
   ],
   "source": [
    "predictors = {'Linear Regression':LinearRegression()}\n",
    "res = run_describe_predictors(predictors, X, y)\n",
    "print(res)\n",
    "model_stats_df = res.copy()"
   ]
  },
  {
   "cell_type": "code",
   "execution_count": null,
   "metadata": {
    "scrolled": false
   },
   "outputs": [],
   "source": [
    "#Grid search ridge\n",
    "predictor = Ridge()\n",
    "param_grid = [\n",
    "    # try varying the penalty and tolerance\n",
    "    {\n",
    "        'alpha': [0.01, 14000, 15000, 16000],\n",
    "    },\n",
    "  ]\n",
    "grid_search = GridSearchCV(predictor, param_grid, cv=10, scoring='neg_mean_squared_error', n_jobs = 1)\n",
    "grid_search.fit(full_pipeline.fit_transform(X), y)\n",
    "grid_search.best_params_"
   ]
  },
  {
   "cell_type": "code",
   "execution_count": 16,
   "metadata": {},
   "outputs": [
    {
     "name": "stdout",
     "output_type": "stream",
     "text": [
      "Ridge\n",
      "           Ridge\n",
      "count  10.000000\n",
      "mean   -0.000321\n",
      "std     0.000963\n",
      "min    -0.003062\n",
      "25%    -0.000038\n",
      "50%    -0.000007\n",
      "75%    -0.000003\n",
      "max    -0.000001\n"
     ]
    }
   ],
   "source": [
    "predictors = {'Ridge':Ridge(alpha = 1)} #-.000569\n",
    "res = run_describe_predictors(predictors, X, y)\n",
    "print(res)\n",
    "model_stats_df = model_stats_df.join(res)"
   ]
  },
  {
   "cell_type": "code",
   "execution_count": 32,
   "metadata": {},
   "outputs": [
    {
     "data": {
      "text/plain": [
       "{'l1_ratio': 0.125}"
      ]
     },
     "execution_count": 32,
     "metadata": {},
     "output_type": "execute_result"
    }
   ],
   "source": [
    "#Grid search elastic net\n",
    "predictor = ElasticNet(alpha = 0.01,random_state=0)\n",
    "param_grid = [\n",
    "    # try varying the ll_ratio and tolerance\n",
    "    {\n",
    "        'l1_ratio': [ 0.125, 0.25, 0.5, 0.75, 0.875],\n",
    "    },\n",
    "  ]\n",
    "grid_search = GridSearchCV(predictor, param_grid, cv=10, scoring='neg_mean_squared_error', n_jobs = 1)\n",
    "grid_search.fit(full_pipeline.fit_transform(X), y)\n",
    "grid_search.best_params_"
   ]
  },
  {
   "cell_type": "code",
   "execution_count": 34,
   "metadata": {},
   "outputs": [
    {
     "name": "stdout",
     "output_type": "stream",
     "text": [
      "Elastic Net\n",
      "       Elastic Net\n",
      "count    10.000000\n",
      "mean     -0.000241\n",
      "std       0.000166\n",
      "min      -0.000695\n",
      "25%      -0.000246\n",
      "50%      -0.000195\n",
      "75%      -0.000153\n",
      "max      -0.000134\n"
     ]
    }
   ],
   "source": [
    "predictors = {'Elastic Net': ElasticNet(alpha = 0.01, l1_ratio = grid_search.best_params_['l1_ratio'])}\n",
    "res = run_describe_predictors(predictors, X, y)\n",
    "print(res)\n",
    "model_stats_df = model_stats_df.join(res) "
   ]
  },
  {
   "cell_type": "markdown",
   "metadata": {},
   "source": [
    "Linear regression has the lowest MSE, so we will use it as our baseline."
   ]
  },
  {
   "cell_type": "code",
   "execution_count": 132,
   "metadata": {
    "scrolled": true
   },
   "outputs": [
    {
     "data": {
      "image/png": "[encoded data removed]",
      "text/plain": [
       "<matplotlib.figure.Figure at 0x1f8212c1a20>"
      ]
     },
     "metadata": {},
     "output_type": "display_data"
    },
    {
     "data": {
      "text/plain": [
       "4511"
      ]
     },
     "execution_count": 132,
     "metadata": {},
     "output_type": "execute_result"
    }
   ],
   "source": [
    "#make a prediction using the benchmark\n",
    "model = create_full_pipeline_with_predictor(LinearRegression())\n",
    "reg = model.fit(X,y)\n",
    "base_predict = reg.predict(test.drop('RPD',axis=1))\n",
    "\n",
    "plt.figure()\n",
    "plt.scatter(test['time_to_maturity'],base_predict)\n",
    "plt.show()\n",
    "plt.close()\n",
    "\n",
    "gc.collect()"
   ]
  },
  {
   "cell_type": "code",
   "execution_count": 120,
   "metadata": {},
   "outputs": [
    {
     "data": {
      "image/png": "[encoded data removed]",
      "text/plain": [
       "<matplotlib.figure.Figure at 0x1f821481550>"
      ]
     },
     "metadata": {},
     "output_type": "display_data"
    }
   ],
   "source": [
    "plt.plot(reg.named_steps['linear'].coef_ )\n",
    "plt.show()"
   ]
  },
  {
   "cell_type": "code",
   "execution_count": 177,
   "metadata": {},
   "outputs": [
    {
     "data": {
      "text/plain": [
       "(array([7], dtype=int64),)"
      ]
     },
     "execution_count": 177,
     "metadata": {},
     "output_type": "execute_result"
    }
   ],
   "source": [
    "aux=(reg.named_steps['linear'].coef_ < -0.015)\n",
    "np.where(aux==True)\n"
   ]
  },
  {
   "cell_type": "code",
   "execution_count": 181,
   "metadata": {},
   "outputs": [
    {
     "data": {
      "text/plain": [
       "('yield', 'yield_discrete8', 'reporting_delay')"
      ]
     },
     "execution_count": 181,
     "metadata": {},
     "output_type": "execute_result"
    }
   ],
   "source": [
    "list(X)[61],list(X)[72],list(X)[7]"
   ]
  },
  {
   "cell_type": "code",
   "execution_count": 191,
   "metadata": {
    "scrolled": true
   },
   "outputs": [
    {
     "data": {
      "text/plain": [
       "['id',\n",
       " 'bond_id',\n",
       " 'trade_price',\n",
       " 'weight',\n",
       " 'current_coupon',\n",
       " 'time_to_maturity',\n",
       " 'is_callable',\n",
       " 'reporting_delay',\n",
       " 'trade_size',\n",
       " 'trade_type',\n",
       " 'curve_based_price',\n",
       " 'received_time_diff_last1',\n",
       " 'trade_price_last1',\n",
       " 'trade_size_last1',\n",
       " 'trade_type_last1',\n",
       " 'curve_based_price_last1',\n",
       " 'received_time_diff_last2',\n",
       " 'trade_price_last2',\n",
       " 'trade_size_last2',\n",
       " 'trade_type_last2',\n",
       " 'curve_based_price_last2',\n",
       " 'received_time_diff_last3',\n",
       " 'trade_price_last3',\n",
       " 'trade_size_last3',\n",
       " 'trade_type_last3',\n",
       " 'curve_based_price_last3',\n",
       " 'received_time_diff_last4',\n",
       " 'trade_price_last4',\n",
       " 'trade_size_last4',\n",
       " 'trade_type_last4',\n",
       " 'curve_based_price_last4',\n",
       " 'received_time_diff_last5',\n",
       " 'trade_price_last5',\n",
       " 'trade_size_last5',\n",
       " 'trade_type_last5',\n",
       " 'curve_based_price_last5',\n",
       " 'received_time_diff_last6',\n",
       " 'trade_price_last6',\n",
       " 'trade_size_last6',\n",
       " 'trade_type_last6',\n",
       " 'curve_based_price_last6',\n",
       " 'received_time_diff_last7',\n",
       " 'trade_price_last7',\n",
       " 'trade_size_last7',\n",
       " 'trade_type_last7',\n",
       " 'curve_based_price_last7',\n",
       " 'received_time_diff_last8',\n",
       " 'trade_price_last8',\n",
       " 'trade_size_last8',\n",
       " 'trade_type_last8',\n",
       " 'curve_based_price_last8',\n",
       " 'received_time_diff_last9',\n",
       " 'trade_price_last9',\n",
       " 'trade_size_last9',\n",
       " 'trade_type_last9',\n",
       " 'curve_based_price_last9',\n",
       " 'received_time_diff_last10',\n",
       " 'trade_price_last10',\n",
       " 'trade_size_last10',\n",
       " 'trade_type_last10',\n",
       " 'curve_based_price_last10',\n",
       " 'yield',\n",
       " 'yield_discrete',\n",
       " 'price_cont',\n",
       " 'price_disc',\n",
       " 'yield_discrete1',\n",
       " 'yield_discrete2',\n",
       " 'yield_discrete3',\n",
       " 'yield_discrete4',\n",
       " 'yield_discrete5',\n",
       " 'yield_discrete6',\n",
       " 'yield_discrete7',\n",
       " 'yield_discrete8',\n",
       " 'yield_discrete9',\n",
       " 'yield_discrete10',\n",
       " 'duration',\n",
       " 'duration_last1',\n",
       " 'duration_last2',\n",
       " 'duration_last3',\n",
       " 'duration_last4',\n",
       " 'duration_last5',\n",
       " 'duration_last6',\n",
       " 'duration_last7',\n",
       " 'duration_last8',\n",
       " 'duration_last9',\n",
       " 'duration_last10']"
      ]
     },
     "execution_count": 191,
     "metadata": {},
     "output_type": "execute_result"
    }
   ],
   "source": [
    "list(X)"
   ]
  },
  {
   "cell_type": "code",
   "execution_count": 124,
   "metadata": {},
   "outputs": [
    {
     "data": {
      "image/png": "[encoded data removed]",
      "text/plain": [
       "<matplotlib.figure.Figure at 0x1f821605908>"
      ]
     },
     "metadata": {},
     "output_type": "display_data"
    },
    {
     "data": {
      "text/plain": [
       "4466"
      ]
     },
     "execution_count": 124,
     "metadata": {},
     "output_type": "execute_result"
    }
   ],
   "source": [
    "model = create_full_pipeline_with_predictor(ElasticNet(alpha = 0.01, l1_ratio = 0.125))\n",
    "reg = model.fit(X,y)\n",
    "base_predict = reg.predict(test.drop('RPD',axis=1))\n",
    "\n",
    "plt.figure()\n",
    "plt.scatter(test['time_to_maturity'],base_predict)\n",
    "plt.show()\n",
    "plt.close()\n",
    "\n",
    "gc.collect()"
   ]
  },
  {
   "cell_type": "code",
   "execution_count": 130,
   "metadata": {
    "scrolled": true
   },
   "outputs": [
    {
     "data": {
      "text/plain": [
       "array([ -0.00000000e+00,   0.00000000e+00,   0.00000000e+00,\n",
       "         0.00000000e+00,  -0.00000000e+00,  -0.00000000e+00,\n",
       "         1.11619262e-05,  -1.09893623e-03,  -0.00000000e+00,\n",
       "        -0.00000000e+00,  -0.00000000e+00,   0.00000000e+00,\n",
       "        -0.00000000e+00,  -0.00000000e+00,  -0.00000000e+00,\n",
       "        -0.00000000e+00,   0.00000000e+00,  -0.00000000e+00,\n",
       "        -0.00000000e+00,  -0.00000000e+00,  -0.00000000e+00,\n",
       "         0.00000000e+00,  -0.00000000e+00,  -0.00000000e+00,\n",
       "        -0.00000000e+00,  -0.00000000e+00,   0.00000000e+00,\n",
       "        -0.00000000e+00,  -0.00000000e+00,  -0.00000000e+00,\n",
       "        -0.00000000e+00,   0.00000000e+00,  -0.00000000e+00,\n",
       "        -0.00000000e+00,  -0.00000000e+00,  -0.00000000e+00,\n",
       "         0.00000000e+00,  -0.00000000e+00,  -0.00000000e+00,\n",
       "        -0.00000000e+00,  -0.00000000e+00,   0.00000000e+00,\n",
       "        -0.00000000e+00,  -0.00000000e+00,  -0.00000000e+00,\n",
       "        -0.00000000e+00,   0.00000000e+00,  -0.00000000e+00,\n",
       "        -0.00000000e+00,  -0.00000000e+00,  -0.00000000e+00,\n",
       "         0.00000000e+00,  -0.00000000e+00,  -0.00000000e+00,\n",
       "        -0.00000000e+00,  -0.00000000e+00,   0.00000000e+00,\n",
       "        -0.00000000e+00,  -2.01285554e-03,  -0.00000000e+00,\n",
       "         0.00000000e+00,   0.00000000e+00,  -0.00000000e+00,\n",
       "        -0.00000000e+00,  -0.00000000e+00,   0.00000000e+00,\n",
       "         0.00000000e+00,   0.00000000e+00,   0.00000000e+00,\n",
       "         0.00000000e+00,   0.00000000e+00,   0.00000000e+00,\n",
       "         0.00000000e+00,   0.00000000e+00,   0.00000000e+00,\n",
       "         0.00000000e+00,   0.00000000e+00,   0.00000000e+00,\n",
       "         0.00000000e+00,   0.00000000e+00,   0.00000000e+00,\n",
       "         0.00000000e+00,   0.00000000e+00])"
      ]
     },
     "execution_count": 130,
     "metadata": {},
     "output_type": "execute_result"
    }
   ],
   "source": [
    "reg.named_steps['linear'].coef_ "
   ]
  },
  {
   "cell_type": "markdown",
   "metadata": {},
   "source": [
    "Bond feature aggregations"
   ]
  },
  {
   "cell_type": "markdown",
   "metadata": {},
   "source": [
    "Try it without level dependent data"
   ]
  },
  {
   "cell_type": "code",
   "execution_count": 41,
   "metadata": {},
   "outputs": [
    {
     "name": "stdout",
     "output_type": "stream",
     "text": [
      "OLS Level-less\n",
      "       OLS Level-less\n",
      "count       10.000000\n",
      "mean        -0.002699\n",
      "std          0.008049\n",
      "min         -0.025606\n",
      "25%         -0.000196\n",
      "50%         -0.000152\n",
      "75%         -0.000127\n",
      "max         -0.000110\n"
     ]
    },
    {
     "data": {
      "text/plain": [
       "135"
      ]
     },
     "execution_count": 41,
     "metadata": {},
     "output_type": "execute_result"
    }
   ],
   "source": [
    "level_cols = ['trade_price', 'current_coupon', 'trade_size', 'curve_based_price',\n",
    "        'trade_price_last1', 'trade_size_last1', 'trade_type_last1',\n",
    "       'curve_based_price_last1', 'received_time_diff_last2',\n",
    "       'trade_price_last2', 'trade_size_last2', 'trade_type_last2',\n",
    "       'curve_based_price_last2', 'received_time_diff_last3',\n",
    "       'trade_price_last3', 'trade_size_last3', 'trade_type_last3',\n",
    "       'curve_based_price_last3', 'received_time_diff_last4',\n",
    "       'trade_price_last4', 'trade_size_last4', 'trade_type_last4',\n",
    "       'curve_based_price_last4', 'received_time_diff_last5',\n",
    "       'trade_price_last5', 'trade_size_last5', 'trade_type_last5',\n",
    "       'curve_based_price_last5', 'received_time_diff_last6',\n",
    "       'trade_price_last6', 'trade_size_last6', 'trade_type_last6',\n",
    "       'curve_based_price_last6', 'received_time_diff_last7',\n",
    "       'trade_price_last7', 'trade_size_last7', 'trade_type_last7',\n",
    "       'curve_based_price_last7', 'received_time_diff_last8',\n",
    "       'trade_price_last8', 'trade_size_last8', 'trade_type_last8',\n",
    "       'curve_based_price_last8', 'received_time_diff_last9',\n",
    "       'trade_price_last9', 'trade_size_last9', 'trade_type_last9',\n",
    "       'curve_based_price_last9', 'received_time_diff_last10',\n",
    "       'trade_price_last10', 'trade_size_last10', 'trade_type_last10',\n",
    "       'curve_based_price_last10']\n",
    "X_leveless = X.drop(level_cols,axis=1)\n",
    "\n",
    "predictors = {'OLS Level-less':LinearRegression()}\n",
    "res = run_describe_predictors(predictors, X_leveless, y)\n",
    "print(res)\n",
    "\n",
    "model_stats_df = model_stats_df.join(res)\n",
    "gc.collect()"
   ]
  },
  {
   "cell_type": "markdown",
   "metadata": {},
   "source": [
    "Try it without past trades."
   ]
  },
  {
   "cell_type": "code",
   "execution_count": 42,
   "metadata": {
    "collapsed": true
   },
   "outputs": [],
   "source": [
    "past_cols = ['received_time_diff_last1',\n",
    "       'trade_price_last1', 'trade_size_last1', 'trade_type_last1',\n",
    "       'curve_based_price_last1', 'received_time_diff_last2',\n",
    "       'trade_price_last2', 'trade_size_last2', 'trade_type_last2',\n",
    "       'curve_based_price_last2', 'received_time_diff_last3',\n",
    "       'trade_price_last3', 'trade_size_last3', 'trade_type_last3',\n",
    "       'curve_based_price_last3', 'received_time_diff_last4',\n",
    "       'trade_price_last4', 'trade_size_last4', 'trade_type_last4',\n",
    "       'curve_based_price_last4', 'received_time_diff_last5',\n",
    "       'trade_price_last5', 'trade_size_last5', 'trade_type_last5',\n",
    "       'curve_based_price_last5', 'received_time_diff_last6',\n",
    "       'trade_price_last6', 'trade_size_last6', 'trade_type_last6',\n",
    "       'curve_based_price_last6', 'received_time_diff_last7',\n",
    "       'trade_price_last7', 'trade_size_last7', 'trade_type_last7',\n",
    "       'curve_based_price_last7', 'received_time_diff_last8',\n",
    "       'trade_price_last8', 'trade_size_last8', 'trade_type_last8',\n",
    "       'curve_based_price_last8', 'received_time_diff_last9',\n",
    "       'trade_price_last9', 'trade_size_last9', 'trade_type_last9',\n",
    "       'curve_based_price_last9', 'received_time_diff_last10',\n",
    "       'trade_price_last10', 'trade_size_last10', 'trade_type_last10',\n",
    "       'curve_based_price_last10']\n",
    "X_pastless = X.drop(past_cols,axis=1)"
   ]
  },
  {
   "cell_type": "code",
   "execution_count": 44,
   "metadata": {},
   "outputs": [
    {
     "name": "stdout",
     "output_type": "stream",
     "text": [
      "OLS Past-less\n",
      "       OLS Past-less\n",
      "count      10.000000\n",
      "mean       -0.000219\n",
      "std         0.000643\n",
      "min        -0.002049\n",
      "25%        -0.000037\n",
      "50%        -0.000007\n",
      "75%        -0.000003\n",
      "max        -0.000001\n"
     ]
    }
   ],
   "source": [
    "predictors = {'OLS Past-less':LinearRegression()}\n",
    "res = run_describe_predictors(predictors, X_pastless, y)\n",
    "print(res)\n",
    "model_stats_df = model_stats_df.join(res)\n"
   ]
  },
  {
   "cell_type": "markdown",
   "metadata": {},
   "source": [
    "Regress with liquidity category"
   ]
  },
  {
   "cell_type": "code",
   "execution_count": 45,
   "metadata": {
    "collapsed": true
   },
   "outputs": [],
   "source": [
    "#trade_size\n",
    "result=[]\n",
    "liq_aux = X.groupby('bond_id')['trade_size'].sum()\n",
    "liq = (liq_aux> liq_aux.median()).astype(int).to_frame()\n",
    "result = X.join(liq,on='bond_id',rsuffix= '_liquidity')\n",
    "X_liq = result.copy()"
   ]
  },
  {
   "cell_type": "code",
   "execution_count": 46,
   "metadata": {},
   "outputs": [
    {
     "name": "stdout",
     "output_type": "stream",
     "text": [
      "-0.0158258349709\n"
     ]
    }
   ],
   "source": [
    "#change in condition number\n",
    "liq_cond = cond_pipe.fit_transform(X_liq)\n",
    "print(base_cond - liq_cond)"
   ]
  },
  {
   "cell_type": "code",
   "execution_count": 47,
   "metadata": {},
   "outputs": [
    {
     "name": "stdout",
     "output_type": "stream",
     "text": [
      "OLS Liquidity\n",
      "       OLS Liquidity\n",
      "count      10.000000\n",
      "mean       -0.000321\n",
      "std         0.000963\n",
      "min        -0.003061\n",
      "25%        -0.000038\n",
      "50%        -0.000007\n",
      "75%        -0.000003\n",
      "max        -0.000001\n"
     ]
    },
    {
     "data": {
      "text/plain": [
       "276"
      ]
     },
     "execution_count": 47,
     "metadata": {},
     "output_type": "execute_result"
    }
   ],
   "source": [
    "predictors = {'OLS Liquidity':LinearRegression()}\n",
    "res = run_describe_predictors(predictors, X_liq, y)\n",
    "print(res)\n",
    "\n",
    "model_stats_df = model_stats_df.join(res)\n",
    "gc.collect()"
   ]
  },
  {
   "cell_type": "markdown",
   "metadata": {},
   "source": [
    "Regress with trade frequency category"
   ]
  },
  {
   "cell_type": "code",
   "execution_count": 48,
   "metadata": {
    "collapsed": true
   },
   "outputs": [],
   "source": [
    "#frequency\n",
    "freq=train['bond_id'].value_counts().to_frame()\n",
    "freq['freq'] = pd.qcut(freq,3,labels=False)\n",
    "result = result.join(freq, on='bond_id',rsuffix='_frequency')\n",
    "del result['bond_id_frequency']\n",
    "X_freq = result.drop('trade_size_liquidity', axis=1)"
   ]
  },
  {
   "cell_type": "code",
   "execution_count": 49,
   "metadata": {},
   "outputs": [
    {
     "name": "stdout",
     "output_type": "stream",
     "text": [
      "-0.49551046597\n"
     ]
    }
   ],
   "source": [
    "#change in condition number\n",
    "freq_cond = cond_pipe.fit_transform(X_freq)\n",
    "print(base_cond - freq_cond)"
   ]
  },
  {
   "cell_type": "code",
   "execution_count": 50,
   "metadata": {},
   "outputs": [
    {
     "name": "stdout",
     "output_type": "stream",
     "text": [
      "OLS Frequency\n",
      "       OLS Frequency\n",
      "count      10.000000\n",
      "mean       -0.000321\n",
      "std         0.000963\n",
      "min        -0.003061\n",
      "25%        -0.000038\n",
      "50%        -0.000007\n",
      "75%        -0.000003\n",
      "max        -0.000001\n"
     ]
    },
    {
     "data": {
      "text/plain": [
       "339"
      ]
     },
     "execution_count": 50,
     "metadata": {},
     "output_type": "execute_result"
    }
   ],
   "source": [
    "predictors = {'OLS Frequency':LinearRegression()}\n",
    "res = run_describe_predictors(predictors, X_freq, y)\n",
    "print(res)\n",
    "\n",
    "model_stats_df = model_stats_df.join(res)\n",
    "gc.collect()"
   ]
  },
  {
   "cell_type": "markdown",
   "metadata": {},
   "source": [
    "Regress with price volatility category"
   ]
  },
  {
   "cell_type": "code",
   "execution_count": 51,
   "metadata": {
    "collapsed": true
   },
   "outputs": [],
   "source": [
    "#volatile \n",
    "aux_col = [col for col in result.columns if 'trade_price_' in col]\n",
    "result['vol'] = (result[aux_col].std(ddof=0,axis=1)>0.1).astype(int)\n",
    "X_vol = result.drop('freq',axis=1)"
   ]
  },
  {
   "cell_type": "code",
   "execution_count": 52,
   "metadata": {},
   "outputs": [
    {
     "name": "stdout",
     "output_type": "stream",
     "text": [
      "-0.0257588709457\n"
     ]
    }
   ],
   "source": [
    "#change in condition number\n",
    "vol_cond = cond_pipe.fit_transform(X_vol)\n",
    "print(base_cond - vol_cond)"
   ]
  },
  {
   "cell_type": "code",
   "execution_count": 53,
   "metadata": {
    "scrolled": true
   },
   "outputs": [
    {
     "name": "stdout",
     "output_type": "stream",
     "text": [
      "OLS Volatility\n",
      "       OLS Volatility\n",
      "count       10.000000\n",
      "mean        -0.000321\n",
      "std          0.000964\n",
      "min         -0.003063\n",
      "25%         -0.000038\n",
      "50%         -0.000007\n",
      "75%         -0.000003\n",
      "max         -0.000001\n"
     ]
    },
    {
     "data": {
      "text/plain": [
       "326"
      ]
     },
     "execution_count": 53,
     "metadata": {},
     "output_type": "execute_result"
    }
   ],
   "source": [
    "predictors = {'OLS Volatility':LinearRegression()}\n",
    "res = run_describe_predictors(predictors, X_vol, y)\n",
    "print(res)\n",
    "\n",
    "model_stats_df = model_stats_df.join(res)\n",
    "gc.collect()"
   ]
  },
  {
   "cell_type": "markdown",
   "metadata": {},
   "source": [
    "Callable vs non-callable"
   ]
  },
  {
   "cell_type": "code",
   "execution_count": 54,
   "metadata": {
    "collapsed": true
   },
   "outputs": [],
   "source": [
    "#non callable bonds\n",
    "train_no_callable = train[train['is_callable'] != 1]\n",
    "\n",
    "#callable bonds\n",
    "train_is_callable = train[train['is_callable'] == 1]"
   ]
  },
  {
   "cell_type": "code",
   "execution_count": 55,
   "metadata": {},
   "outputs": [
    {
     "data": {
      "image/png": "[encoded data removed]",
      "text/plain": [
       "<matplotlib.figure.Figure at 0x1f8013fbf60>"
      ]
     },
     "metadata": {},
     "output_type": "display_data"
    },
    {
     "data": {
      "image/png": "[encoded data removed]",
      "text/plain": [
       "<matplotlib.figure.Figure at 0x1f8014d46a0>"
      ]
     },
     "metadata": {},
     "output_type": "display_data"
    },
    {
     "data": {
      "image/png": "[encoded data removed]",
      "text/plain": [
       "<matplotlib.figure.Figure at 0x1f8211b2e48>"
      ]
     },
     "metadata": {},
     "output_type": "display_data"
    },
    {
     "data": {
      "image/png": "[encoded data removed]",
      "text/plain": [
       "<matplotlib.figure.Figure at 0x1f821229fd0>"
      ]
     },
     "metadata": {},
     "output_type": "display_data"
    },
    {
     "data": {
      "image/png": "[encoded data removed]",
      "text/plain": [
       "<matplotlib.figure.Figure at 0x1f8215a0320>"
      ]
     },
     "metadata": {},
     "output_type": "display_data"
    }
   ],
   "source": [
    "#maturity * yield for non callable bonds\n",
    "plt.figure()\n",
    "plt.scatter(train_no_callable['time_to_maturity'], train_no_callable['yield_discrete'])\n",
    "plt.title('non callable discrete yield')\n",
    "plt.xlabel('maturity (years)')\n",
    "plt.ylabel('discrete yield')\n",
    "\n",
    "plt.figure()\n",
    "plt.scatter(train_no_callable['time_to_maturity'], train_no_callable['yield'])\n",
    "plt.title('non callable continuous yield')\n",
    "plt.xlabel('maturity (years)')\n",
    "plt.ylabel('continuous yield')\n",
    "\n",
    "#maturity * duration for non callable bonds\n",
    "plt.figure()\n",
    "plt.scatter(train_no_callable['time_to_maturity'], train_no_callable['duration'])\n",
    "plt.title('non callable discrete yield')\n",
    "plt.xlabel('maturity (years)')\n",
    "plt.ylabel('discrete yield')\n",
    "\n",
    "plt.figure()\n",
    "plt.scatter(train_no_callable['time_to_maturity'], train_no_callable['duration'])\n",
    "plt.title('non callable duration')\n",
    "plt.xlabel('maturity (years)')\n",
    "plt.ylabel('duration')\n",
    "\n",
    "#yield * price\n",
    "plt.figure()\n",
    "plt.scatter(train_no_callable['yield'], train_no_callable['trade_price'])\n",
    "plt.title('non callable discrete yield * trade price curve')\n",
    "plt.xlabel('yield')\n",
    "plt.ylabel('trade_price')\n",
    "\n",
    "plt.show()\n",
    "plt.close()"
   ]
  },
  {
   "cell_type": "code",
   "execution_count": 56,
   "metadata": {
    "collapsed": true
   },
   "outputs": [],
   "source": [
    "X_no_callable = train_no_callable.drop('RPD', axis=1)\n",
    "y_no_callable = train_no_callable['RPD']"
   ]
  },
  {
   "cell_type": "code",
   "execution_count": 57,
   "metadata": {},
   "outputs": [
    {
     "name": "stdout",
     "output_type": "stream",
     "text": [
      "-8.53000509527e+16\n"
     ]
    }
   ],
   "source": [
    "#change in condition number\n",
    "no_callable_cond = cond_pipe.fit_transform(X_no_callable)\n",
    "print(base_cond - no_callable_cond)"
   ]
  },
  {
   "cell_type": "code",
   "execution_count": 58,
   "metadata": {},
   "outputs": [
    {
     "name": "stdout",
     "output_type": "stream",
     "text": [
      "OLS Non-callable\n",
      "       OLS Non-callable\n",
      "count      1.000000e+01\n",
      "mean      -9.481099e-06\n",
      "std        1.506061e-05\n",
      "min       -5.008184e-05\n",
      "25%       -9.859415e-06\n",
      "50%       -2.924783e-06\n",
      "75%       -1.886705e-06\n",
      "max       -7.847022e-07\n"
     ]
    }
   ],
   "source": [
    "predictors = {'OLS Non-callable':LinearRegression()}\n",
    "res = run_describe_predictors(predictors, X_no_callable, y_no_callable)\n",
    "print(res)\n",
    "model_stats_df = model_stats_df.join(res)"
   ]
  },
  {
   "cell_type": "code",
   "execution_count": 59,
   "metadata": {},
   "outputs": [
    {
     "data": {
      "image/png": "[encoded data removed]",
      "text/plain": [
       "<matplotlib.figure.Figure at 0x1f8315cf2b0>"
      ]
     },
     "metadata": {},
     "output_type": "display_data"
    },
    {
     "data": {
      "image/png": "[encoded data removed]",
      "text/plain": [
       "<matplotlib.figure.Figure at 0x1f8211b89e8>"
      ]
     },
     "metadata": {},
     "output_type": "display_data"
    },
    {
     "data": {
      "image/png": "[encoded data removed]",
      "text/plain": [
       "<matplotlib.figure.Figure at 0x1f821656518>"
      ]
     },
     "metadata": {},
     "output_type": "display_data"
    },
    {
     "data": {
      "image/png": "[encoded data removed]",
      "text/plain": [
       "<matplotlib.figure.Figure at 0x1f8215c70f0>"
      ]
     },
     "metadata": {},
     "output_type": "display_data"
    }
   ],
   "source": [
    "#model_stats_df = model_stats_df.add(res)\n",
    "gc.collect()\n",
    "\n",
    "#maturity * yield for callable bonds (note weird yields around 6 year maturity)\n",
    "plt.figure()\n",
    "plt.scatter(train_is_callable['time_to_maturity'], train_is_callable['yield_discrete'])\n",
    "plt.title('callable discrete yield')\n",
    "plt.xlabel('maturity (years)')\n",
    "plt.ylabel('discrete yield')\n",
    "\n",
    "plt.figure()\n",
    "plt.scatter(train_is_callable['time_to_maturity'], train_is_callable['yield'])\n",
    "plt.title('callable continuous yield')\n",
    "plt.xlabel('maturity (years)')\n",
    "plt.ylabel('discrete yield')\n",
    "\n",
    "#maturity * duration\n",
    "plt.figure()\n",
    "plt.scatter(train_is_callable['time_to_maturity'], train_is_callable['duration'])\n",
    "plt.title('callable duration')\n",
    "plt.xlabel('maturity (years)')\n",
    "plt.ylabel('duration')\n",
    "\n",
    "#yield * price\n",
    "plt.figure()\n",
    "plt.scatter(train_is_callable['yield'], train_is_callable['trade_price'])\n",
    "plt.title('callable discrete yield * trade price curve')\n",
    "plt.xlabel('yield')\n",
    "plt.ylabel('trade price')\n",
    "\n",
    "\n",
    "plt.show()\n",
    "plt.close()"
   ]
  },
  {
   "cell_type": "code",
   "execution_count": 60,
   "metadata": {
    "collapsed": true
   },
   "outputs": [],
   "source": [
    "X_is_callable = train_is_callable.drop('RPD', axis=1)\n",
    "y_is_callable = train_is_callable['RPD']"
   ]
  },
  {
   "cell_type": "code",
   "execution_count": 61,
   "metadata": {},
   "outputs": [
    {
     "name": "stdout",
     "output_type": "stream",
     "text": [
      "-3.89769052118e+16\n"
     ]
    }
   ],
   "source": [
    "#change in condition number\n",
    "is_callable_cond = cond_pipe.fit_transform(X_is_callable)\n",
    "print(base_cond - is_callable_cond)"
   ]
  },
  {
   "cell_type": "code",
   "execution_count": 62,
   "metadata": {},
   "outputs": [
    {
     "name": "stdout",
     "output_type": "stream",
     "text": [
      "OLS Callable\n",
      "       OLS Callable\n",
      "count     10.000000\n",
      "mean      -0.016035\n",
      "std        0.050471\n",
      "min       -0.159677\n",
      "25%       -0.000050\n",
      "50%       -0.000031\n",
      "75%       -0.000008\n",
      "max       -0.000003\n"
     ]
    }
   ],
   "source": [
    "predictors = {'OLS Callable':LinearRegression()}\n",
    "res = run_describe_predictors(predictors, X_is_callable, y_is_callable)\n",
    "\n",
    "print(res)\n",
    "model_stats_df = model_stats_df.join(res)"
   ]
  },
  {
   "cell_type": "markdown",
   "metadata": {},
   "source": [
    "Yield categorical variable"
   ]
  },
  {
   "cell_type": "code",
   "execution_count": 63,
   "metadata": {
    "collapsed": true
   },
   "outputs": [],
   "source": [
    "#categorizes bonds in  X into n_buckets evenly distributed buckets by discrete yield\n",
    "def bucket(col, n_buckets):\n",
    "    step = 1/n_buckets\n",
    "    buckets = []\n",
    "\n",
    "    quantiles = [col.quantile(i) for i in np.arange(0, 1+step, step)]\n",
    "    \n",
    "    bucket = []\n",
    "    for i in range (0, col.shape[0]):\n",
    "        for j in range(0,n_buckets):\n",
    "            if quantiles[j] <= col[i] <= quantiles[j+1]:\n",
    "                buckets.append(j)\n",
    "                continue\n",
    "        \n",
    "    return bucket"
   ]
  },
  {
   "cell_type": "code",
   "execution_count": 64,
   "metadata": {},
   "outputs": [
    {
     "data": {
      "text/plain": [
       "0"
      ]
     },
     "execution_count": 64,
     "metadata": {},
     "output_type": "execute_result"
    }
   ],
   "source": [
    "train['yield_discrete'].isnull().sum()"
   ]
  },
  {
   "cell_type": "code",
   "execution_count": 65,
   "metadata": {
    "collapsed": true
   },
   "outputs": [],
   "source": [
    "#five buckets\n",
    "b = pd.qcut(train['yield_discrete'],5,labels=False)\n",
    "X_yield = train.drop('RPD',axis=1)\n",
    "X_yield['yield_bucket'] = b"
   ]
  },
  {
   "cell_type": "code",
   "execution_count": 66,
   "metadata": {},
   "outputs": [
    {
     "name": "stdout",
     "output_type": "stream",
     "text": [
      "-2.75768192985\n"
     ]
    }
   ],
   "source": [
    "#change in condition number\n",
    "yield_cond = cond_pipe.fit_transform(X_yield)\n",
    "print(base_cond - yield_cond)"
   ]
  },
  {
   "cell_type": "code",
   "execution_count": 67,
   "metadata": {},
   "outputs": [
    {
     "data": {
      "text/plain": [
       "{'alpha': 200}"
      ]
     },
     "execution_count": 67,
     "metadata": {},
     "output_type": "execute_result"
    }
   ],
   "source": [
    "predictor = Ridge()\n",
    "param_grid = [\n",
    "    # try varying the penalty and tolerance\n",
    "    {\n",
    "        'alpha': [1, 2, 3, 4, 5,10,50,100,200],\n",
    "    },\n",
    "  ]\n",
    "grid_search = GridSearchCV(predictor, param_grid, cv=5,\n",
    "                           scoring='neg_mean_squared_error',\n",
    "                            n_jobs = -1)\n",
    "grid_search.fit(full_pipeline.fit_transform(X_yield), y)\n",
    "grid_search.best_params_"
   ]
  },
  {
   "cell_type": "code",
   "execution_count": 68,
   "metadata": {},
   "outputs": [
    {
     "name": "stdout",
     "output_type": "stream",
     "text": [
      "OLS Yield\n",
      "       OLS Yield\n",
      "count  10.000000\n",
      "mean   -0.000321\n",
      "std     0.000963\n",
      "min    -0.003060\n",
      "25%    -0.000038\n",
      "50%    -0.000007\n",
      "75%    -0.000003\n",
      "max    -0.000001\n"
     ]
    },
    {
     "data": {
      "text/plain": [
       "202"
      ]
     },
     "execution_count": 68,
     "metadata": {},
     "output_type": "execute_result"
    }
   ],
   "source": [
    "predictors = {'OLS Yield':LinearRegression()}\n",
    "res = run_describe_predictors(predictors, X_yield, y)\n",
    "print(res)\n",
    "\n",
    "model_stats_df = model_stats_df.join(res)\n",
    "gc.collect()"
   ]
  },
  {
   "cell_type": "markdown",
   "metadata": {},
   "source": [
    "Trade price to curve based price discrepancy categorical variable"
   ]
  },
  {
   "cell_type": "code",
   "execution_count": 69,
   "metadata": {
    "collapsed": true
   },
   "outputs": [],
   "source": [
    "discrepancy = train['trade_price'] - train['curve_based_price']\n",
    "b = pd.qcut(discrepancy,5,labels=False)\n",
    "X_disc = X.copy()\n",
    "X_disc['price discrepancy'] = b"
   ]
  },
  {
   "cell_type": "code",
   "execution_count": 70,
   "metadata": {},
   "outputs": [
    {
     "name": "stdout",
     "output_type": "stream",
     "text": [
      "-0.273249559074\n"
     ]
    }
   ],
   "source": [
    "#change in condition number\n",
    "disc_cond = cond_pipe.fit_transform(X_disc)\n",
    "print(base_cond - disc_cond)"
   ]
  },
  {
   "cell_type": "code",
   "execution_count": 71,
   "metadata": {},
   "outputs": [
    {
     "name": "stdout",
     "output_type": "stream",
     "text": [
      "OLS Discrepancy\n",
      "       OLS Discrepancy\n",
      "count        10.000000\n",
      "mean         -0.000319\n",
      "std           0.000959\n",
      "min          -0.003048\n",
      "25%          -0.000038\n",
      "50%          -0.000007\n",
      "75%          -0.000003\n",
      "max          -0.000001\n"
     ]
    }
   ],
   "source": [
    "predictors = {'OLS Discrepancy':LinearRegression()}\n",
    "res = run_describe_predictors(predictors, X_disc, y)\n",
    "print(res)\n",
    "model_stats_df = model_stats_df.join(res)"
   ]
  },
  {
   "cell_type": "markdown",
   "metadata": {},
   "source": [
    "Duration categorical variable"
   ]
  },
  {
   "cell_type": "code",
   "execution_count": 72,
   "metadata": {},
   "outputs": [
    {
     "data": {
      "text/plain": [
       "274"
      ]
     },
     "execution_count": 72,
     "metadata": {},
     "output_type": "execute_result"
    }
   ],
   "source": [
    "gc.collect()"
   ]
  },
  {
   "cell_type": "code",
   "execution_count": 73,
   "metadata": {
    "collapsed": true
   },
   "outputs": [],
   "source": [
    "b=[]\n",
    "b = pd.qcut(X['duration'],5,labels=False)\n",
    "X_dur = X.copy()\n",
    "X_dur['duration bucket'] = b"
   ]
  },
  {
   "cell_type": "code",
   "execution_count": 74,
   "metadata": {
    "scrolled": false
   },
   "outputs": [
    {
     "name": "stdout",
     "output_type": "stream",
     "text": [
      "-1.17036572363\n"
     ]
    }
   ],
   "source": [
    "#change in condition number\n",
    "dur_cond = cond_pipe.fit_transform(X_dur)\n",
    "print(base_cond - dur_cond)\n"
   ]
  },
  {
   "cell_type": "code",
   "execution_count": 75,
   "metadata": {
    "scrolled": false
   },
   "outputs": [
    {
     "name": "stdout",
     "output_type": "stream",
     "text": [
      "OLS Duration bucket\n",
      "       OLS Duration bucket\n",
      "count            10.000000\n",
      "mean             -0.000321\n",
      "std               0.000964\n",
      "min              -0.003064\n",
      "25%              -0.000038\n",
      "50%              -0.000007\n",
      "75%              -0.000003\n",
      "max              -0.000001\n"
     ]
    }
   ],
   "source": [
    "predictors = {'OLS Duration bucket':LinearRegression()}\n",
    "res = run_describe_predictors(predictors, X_dur, y)\n",
    "print(res)\n",
    "model_stats_df = model_stats_df.join(res)\n"
   ]
  },
  {
   "cell_type": "markdown",
   "metadata": {},
   "source": [
    "20 component truncated SVD"
   ]
  },
  {
   "cell_type": "code",
   "execution_count": 76,
   "metadata": {
    "collapsed": true
   },
   "outputs": [],
   "source": [
    "#add truncated svd to pipeline\n",
    "svd_full_pipeline = Pipeline([        \n",
    "        ('selector', DataFrameSelector(ommit)),\n",
    "        ('imputer', Imputer(strategy=\"median\")),\n",
    "        ('std_scaler', StandardScaler()),\n",
    "        ('trunc_svd', TruncatedSVD(n_components=20))\n",
    "    ])\n",
    "\n",
    "svd_cond_pipeline = Pipeline([        \n",
    "        ('selector', DataFrameSelector(ommit)),\n",
    "        ('imputer', Imputer(strategy=\"median\")),\n",
    "        ('std_scaler', StandardScaler()),\n",
    "        ('trunc_svd', TruncatedSVD(n_components=20)),\n",
    "        ('cond_num', ConditionNumber())\n",
    "    ])\n",
    "\n",
    "def svd_create_full_pipeline_with_predictor(predictor):\n",
    "    pipe = Pipeline([\n",
    "        (\"preparation\", svd_full_pipeline),\n",
    "        (\"linear\", predictor)\n",
    "    ])\n",
    "    return pipe\n",
    "\n",
    "def svd_run_describe_predictors(predictors, X, y):\n",
    "    res = pd.DataFrame()\n",
    "    for name, predictor in predictors.items():\n",
    "        pipe = svd_create_full_pipeline_with_predictor(predictor)\n",
    "        scores = cross_val_score(pipe, X, y,scoring='neg_mean_squared_error', cv=10) #10-fold cross-validation\n",
    "        print(pd.Series(scores).describe())\n",
    "        print('')\n",
    "        res[str(name)] = pd.Series(scores).describe()\n",
    "    return res"
   ]
  },
  {
   "cell_type": "code",
   "execution_count": 77,
   "metadata": {},
   "outputs": [
    {
     "data": {
      "text/plain": [
       "297"
      ]
     },
     "execution_count": 77,
     "metadata": {},
     "output_type": "execute_result"
    }
   ],
   "source": [
    "X_all = train.drop(['RPD'],axis=1)\n",
    "X_all['trade_size_liquidity'] = X_liq['trade_size_liquidity']\n",
    "X_all['freq']                 = X_freq['freq']\n",
    "X_all['vol']                  = X_vol['vol']\n",
    "X_all['price_discrepancy']    = X_disc['price discrepancy']\n",
    "X_all['duration_bucket']      = X_dur['duration bucket'] \n",
    "X_all['yield_bucket']         = X_yield['yield_bucket']\n",
    "del X_liq; del X_freq; del X_vol; del X_disc; del X_dur; del X_yield\n",
    "gc.collect()"
   ]
  },
  {
   "cell_type": "code",
   "execution_count": 78,
   "metadata": {},
   "outputs": [
    {
     "name": "stdout",
     "output_type": "stream",
     "text": [
      "count    10.000000\n",
      "mean     -0.000170\n",
      "std       0.000165\n",
      "min      -0.000627\n",
      "25%      -0.000164\n",
      "50%      -0.000112\n",
      "75%      -0.000089\n",
      "max      -0.000077\n",
      "dtype: float64\n",
      "\n"
     ]
    }
   ],
   "source": [
    "predictors = {'OLS Truncated SVD':LinearRegression()}\n",
    "res = svd_run_describe_predictors(predictors, X_all, y)\n",
    "model_stats_df = model_stats_df.join(res)"
   ]
  },
  {
   "cell_type": "code",
   "execution_count": 192,
   "metadata": {},
   "outputs": [
    {
     "ename": "ValueError",
     "evalue": "X has 83 features per sample, expected 89",
     "output_type": "error",
     "traceback": [
      "\u001b[1;31m---------------------------------------------------------------------------\u001b[0m",
      "\u001b[1;31mValueError\u001b[0m                                Traceback (most recent call last)",
      "\u001b[1;32m<ipython-input-192-cce0b42612d0>\u001b[0m in \u001b[0;36m<module>\u001b[1;34m()\u001b[0m\n\u001b[0;32m      2\u001b[0m \u001b[0mmodel\u001b[0m \u001b[1;33m=\u001b[0m \u001b[0msvd_create_full_pipeline_with_predictor\u001b[0m\u001b[1;33m(\u001b[0m\u001b[0mLinearRegression\u001b[0m\u001b[1;33m(\u001b[0m\u001b[1;33m)\u001b[0m\u001b[1;33m)\u001b[0m\u001b[1;33m\u001b[0m\u001b[0m\n\u001b[0;32m      3\u001b[0m \u001b[0mreg\u001b[0m \u001b[1;33m=\u001b[0m \u001b[0mmodel\u001b[0m\u001b[1;33m.\u001b[0m\u001b[0mfit\u001b[0m\u001b[1;33m(\u001b[0m\u001b[0mX_all\u001b[0m\u001b[1;33m,\u001b[0m\u001b[0my\u001b[0m\u001b[1;33m)\u001b[0m\u001b[1;33m\u001b[0m\u001b[0m\n\u001b[1;32m----> 4\u001b[1;33m \u001b[0mbase_predict\u001b[0m \u001b[1;33m=\u001b[0m \u001b[0mreg\u001b[0m\u001b[1;33m.\u001b[0m\u001b[0mpredict\u001b[0m\u001b[1;33m(\u001b[0m\u001b[0mtest\u001b[0m\u001b[1;33m.\u001b[0m\u001b[0mdrop\u001b[0m\u001b[1;33m(\u001b[0m\u001b[1;34m'RPD'\u001b[0m\u001b[1;33m,\u001b[0m\u001b[0maxis\u001b[0m\u001b[1;33m=\u001b[0m\u001b[1;36m1\u001b[0m\u001b[1;33m)\u001b[0m\u001b[1;33m)\u001b[0m\u001b[1;33m\u001b[0m\u001b[0m\n\u001b[0m\u001b[0;32m      5\u001b[0m \u001b[1;33m\u001b[0m\u001b[0m\n\u001b[0;32m      6\u001b[0m \u001b[0mplt\u001b[0m\u001b[1;33m.\u001b[0m\u001b[0mfigure\u001b[0m\u001b[1;33m(\u001b[0m\u001b[1;33m)\u001b[0m\u001b[1;33m\u001b[0m\u001b[0m\n",
      "\u001b[1;32m~\\Anaconda2\\envs\\py36\\lib\\site-packages\\sklearn\\utils\\metaestimators.py\u001b[0m in \u001b[0;36m<lambda>\u001b[1;34m(*args, **kwargs)\u001b[0m\n\u001b[0;32m    113\u001b[0m \u001b[1;33m\u001b[0m\u001b[0m\n\u001b[0;32m    114\u001b[0m         \u001b[1;31m# lambda, but not partial, allows help() to work with update_wrapper\u001b[0m\u001b[1;33m\u001b[0m\u001b[1;33m\u001b[0m\u001b[0m\n\u001b[1;32m--> 115\u001b[1;33m         \u001b[0mout\u001b[0m \u001b[1;33m=\u001b[0m \u001b[1;32mlambda\u001b[0m \u001b[1;33m*\u001b[0m\u001b[0margs\u001b[0m\u001b[1;33m,\u001b[0m \u001b[1;33m**\u001b[0m\u001b[0mkwargs\u001b[0m\u001b[1;33m:\u001b[0m \u001b[0mself\u001b[0m\u001b[1;33m.\u001b[0m\u001b[0mfn\u001b[0m\u001b[1;33m(\u001b[0m\u001b[0mobj\u001b[0m\u001b[1;33m,\u001b[0m \u001b[1;33m*\u001b[0m\u001b[0margs\u001b[0m\u001b[1;33m,\u001b[0m \u001b[1;33m**\u001b[0m\u001b[0mkwargs\u001b[0m\u001b[1;33m)\u001b[0m\u001b[1;33m\u001b[0m\u001b[0m\n\u001b[0m\u001b[0;32m    116\u001b[0m         \u001b[1;31m# update the docstring of the returned function\u001b[0m\u001b[1;33m\u001b[0m\u001b[1;33m\u001b[0m\u001b[0m\n\u001b[0;32m    117\u001b[0m         \u001b[0mupdate_wrapper\u001b[0m\u001b[1;33m(\u001b[0m\u001b[0mout\u001b[0m\u001b[1;33m,\u001b[0m \u001b[0mself\u001b[0m\u001b[1;33m.\u001b[0m\u001b[0mfn\u001b[0m\u001b[1;33m)\u001b[0m\u001b[1;33m\u001b[0m\u001b[0m\n",
      "\u001b[1;32m~\\Anaconda2\\envs\\py36\\lib\\site-packages\\sklearn\\pipeline.py\u001b[0m in \u001b[0;36mpredict\u001b[1;34m(self, X)\u001b[0m\n\u001b[0;32m    304\u001b[0m         \u001b[1;32mfor\u001b[0m \u001b[0mname\u001b[0m\u001b[1;33m,\u001b[0m \u001b[0mtransform\u001b[0m \u001b[1;32min\u001b[0m \u001b[0mself\u001b[0m\u001b[1;33m.\u001b[0m\u001b[0msteps\u001b[0m\u001b[1;33m[\u001b[0m\u001b[1;33m:\u001b[0m\u001b[1;33m-\u001b[0m\u001b[1;36m1\u001b[0m\u001b[1;33m]\u001b[0m\u001b[1;33m:\u001b[0m\u001b[1;33m\u001b[0m\u001b[0m\n\u001b[0;32m    305\u001b[0m             \u001b[1;32mif\u001b[0m \u001b[0mtransform\u001b[0m \u001b[1;32mis\u001b[0m \u001b[1;32mnot\u001b[0m \u001b[1;32mNone\u001b[0m\u001b[1;33m:\u001b[0m\u001b[1;33m\u001b[0m\u001b[0m\n\u001b[1;32m--> 306\u001b[1;33m                 \u001b[0mXt\u001b[0m \u001b[1;33m=\u001b[0m \u001b[0mtransform\u001b[0m\u001b[1;33m.\u001b[0m\u001b[0mtransform\u001b[0m\u001b[1;33m(\u001b[0m\u001b[0mXt\u001b[0m\u001b[1;33m)\u001b[0m\u001b[1;33m\u001b[0m\u001b[0m\n\u001b[0m\u001b[0;32m    307\u001b[0m         \u001b[1;32mreturn\u001b[0m \u001b[0mself\u001b[0m\u001b[1;33m.\u001b[0m\u001b[0msteps\u001b[0m\u001b[1;33m[\u001b[0m\u001b[1;33m-\u001b[0m\u001b[1;36m1\u001b[0m\u001b[1;33m]\u001b[0m\u001b[1;33m[\u001b[0m\u001b[1;33m-\u001b[0m\u001b[1;36m1\u001b[0m\u001b[1;33m]\u001b[0m\u001b[1;33m.\u001b[0m\u001b[0mpredict\u001b[0m\u001b[1;33m(\u001b[0m\u001b[0mXt\u001b[0m\u001b[1;33m)\u001b[0m\u001b[1;33m\u001b[0m\u001b[0m\n\u001b[0;32m    308\u001b[0m \u001b[1;33m\u001b[0m\u001b[0m\n",
      "\u001b[1;32m~\\Anaconda2\\envs\\py36\\lib\\site-packages\\sklearn\\pipeline.py\u001b[0m in \u001b[0;36m_transform\u001b[1;34m(self, X)\u001b[0m\n\u001b[0;32m    424\u001b[0m         \u001b[1;32mfor\u001b[0m \u001b[0mname\u001b[0m\u001b[1;33m,\u001b[0m \u001b[0mtransform\u001b[0m \u001b[1;32min\u001b[0m \u001b[0mself\u001b[0m\u001b[1;33m.\u001b[0m\u001b[0msteps\u001b[0m\u001b[1;33m:\u001b[0m\u001b[1;33m\u001b[0m\u001b[0m\n\u001b[0;32m    425\u001b[0m             \u001b[1;32mif\u001b[0m \u001b[0mtransform\u001b[0m \u001b[1;32mis\u001b[0m \u001b[1;32mnot\u001b[0m \u001b[1;32mNone\u001b[0m\u001b[1;33m:\u001b[0m\u001b[1;33m\u001b[0m\u001b[0m\n\u001b[1;32m--> 426\u001b[1;33m                 \u001b[0mXt\u001b[0m \u001b[1;33m=\u001b[0m \u001b[0mtransform\u001b[0m\u001b[1;33m.\u001b[0m\u001b[0mtransform\u001b[0m\u001b[1;33m(\u001b[0m\u001b[0mXt\u001b[0m\u001b[1;33m)\u001b[0m\u001b[1;33m\u001b[0m\u001b[0m\n\u001b[0m\u001b[0;32m    427\u001b[0m         \u001b[1;32mreturn\u001b[0m \u001b[0mXt\u001b[0m\u001b[1;33m\u001b[0m\u001b[0m\n\u001b[0;32m    428\u001b[0m \u001b[1;33m\u001b[0m\u001b[0m\n",
      "\u001b[1;32m~\\Anaconda2\\envs\\py36\\lib\\site-packages\\sklearn\\preprocessing\\imputation.py\u001b[0m in \u001b[0;36mtransform\u001b[1;34m(self, X)\u001b[0m\n\u001b[0;32m    314\u001b[0m             \u001b[1;32mif\u001b[0m \u001b[0mX\u001b[0m\u001b[1;33m.\u001b[0m\u001b[0mshape\u001b[0m\u001b[1;33m[\u001b[0m\u001b[1;36m1\u001b[0m\u001b[1;33m]\u001b[0m \u001b[1;33m!=\u001b[0m \u001b[0mstatistics\u001b[0m\u001b[1;33m.\u001b[0m\u001b[0mshape\u001b[0m\u001b[1;33m[\u001b[0m\u001b[1;36m0\u001b[0m\u001b[1;33m]\u001b[0m\u001b[1;33m:\u001b[0m\u001b[1;33m\u001b[0m\u001b[0m\n\u001b[0;32m    315\u001b[0m                 raise ValueError(\"X has %d features per sample, expected %d\"\n\u001b[1;32m--> 316\u001b[1;33m                                  % (X.shape[1], self.statistics_.shape[0]))\n\u001b[0m\u001b[0;32m    317\u001b[0m \u001b[1;33m\u001b[0m\u001b[0m\n\u001b[0;32m    318\u001b[0m         \u001b[1;31m# Since two different arrays can be provided in fit(X) and\u001b[0m\u001b[1;33m\u001b[0m\u001b[1;33m\u001b[0m\u001b[0m\n",
      "\u001b[1;31mValueError\u001b[0m: X has 83 features per sample, expected 89"
     ]
    }
   ],
   "source": [
    "#make a prediction using the benchmark\n",
    "model = svd_create_full_pipeline_with_predictor(LinearRegression())\n",
    "reg = model.fit(X_all,y)\n",
    "base_predict = reg.predict(test.drop('RPD',axis=1))\n",
    "\n",
    "plt.figure()\n",
    "plt.scatter(test['time_to_maturity'],base_predict)\n",
    "plt.show()\n",
    "plt.close()\n"
   ]
  },
  {
   "cell_type": "markdown",
   "metadata": {},
   "source": [
    "Choose condition number that results in a reasonable degree of multicollinearity (i.e. condition number <=30)"
   ]
  },
  {
   "cell_type": "code",
   "execution_count": 80,
   "metadata": {},
   "outputs": [
    {
     "name": "stdout",
     "output_type": "stream",
     "text": [
      "5.35986518391\n"
     ]
    }
   ],
   "source": [
    "trunc_cond = svd_cond_pipeline.fit_transform(X_all)\n",
    "print(trunc_cond)"
   ]
  },
  {
   "cell_type": "markdown",
   "metadata": {},
   "source": [
    "for i in range(10,len(X_all.columns)-10,10):\n",
    "    print(str(i) + ' components')\n",
    "    svd_cond_pipeline.set_params(trunc_svd__n_components=i)\n",
    "    print(svd_cond_pipeline.fit_transform(X_all))"
   ]
  },
  {
   "cell_type": "markdown",
   "metadata": {},
   "source": [
    "50 components achieves a desirable amount of collinearity, so let's try truncated SVD regression with 50 components."
   ]
  },
  {
   "cell_type": "markdown",
   "metadata": {},
   "source": [
    "Generate best fitting model (all categorical variables that improve MSE and variance) and generate prediction. "
   ]
  },
  {
   "cell_type": "code",
   "execution_count": 81,
   "metadata": {
    "collapsed": true
   },
   "outputs": [],
   "source": [
    "y_callable = train_is_callable['RPD']\n",
    "y_non_callable = train_no_callable['RPD']"
   ]
  },
  {
   "cell_type": "code",
   "execution_count": 82,
   "metadata": {},
   "outputs": [
    {
     "name": "stdout",
     "output_type": "stream",
     "text": [
      "6.157291855e+15\n"
     ]
    }
   ],
   "source": [
    "#best callable \n",
    "best_callable = train_is_callable.drop(past_cols,axis=1)\n",
    "best_callable = best_callable.drop('RPD',axis=1)\n",
    "discrepancy = best_callable['trade_price'] - best_callable['curve_based_price']\n",
    "b = pd.qcut(discrepancy,5,labels=False)\n",
    "best_callable['price discrepancy'] = b\n",
    "\n",
    "#condition number (Suggests A LOT of multicollinearity)\n",
    "print(cond_pipe.fit_transform(best_callable))"
   ]
  },
  {
   "cell_type": "code",
   "execution_count": 83,
   "metadata": {},
   "outputs": [
    {
     "name": "stdout",
     "output_type": "stream",
     "text": [
      "1.15883215023e+16\n"
     ]
    }
   ],
   "source": [
    "#best non callable\n",
    "best_non_callable = train_no_callable.drop(past_cols,axis=1)\n",
    "best_non_callable = best_non_callable.drop('RPD',axis=1)\n",
    "\n",
    "discrepancy = best_non_callable['trade_price'] - best_non_callable['curve_based_price']\n",
    "b = pd.qcut(discrepancy,5,labels=False)\n",
    "best_non_callable['price discrepancy'] = b\n",
    "\n",
    "#condition number (Suggests A LOT of multicollinearity)\n",
    "print(cond_pipe.fit_transform(best_non_callable))"
   ]
  },
  {
   "cell_type": "code",
   "execution_count": 84,
   "metadata": {},
   "outputs": [
    {
     "name": "stdout",
     "output_type": "stream",
     "text": [
      "count    10.000000\n",
      "mean     -0.000062\n",
      "std       0.000026\n",
      "min      -0.000123\n",
      "25%      -0.000074\n",
      "50%      -0.000051\n",
      "75%      -0.000048\n",
      "max      -0.000041\n",
      "dtype: float64\n",
      "\n"
     ]
    }
   ],
   "source": [
    "#truncated non callable svd regression with 22 components\n",
    "svd_cond_pipeline.set_params(trunc_svd__n_components=20)\n",
    "predictors = {'OLS Truncated SVD non call 20':LinearRegression()}\n",
    "res = svd_run_describe_predictors(predictors, best_non_callable, y_non_callable)\n",
    "model_stats_df = model_stats_df.join(res)"
   ]
  },
  {
   "cell_type": "code",
   "execution_count": 85,
   "metadata": {},
   "outputs": [
    {
     "name": "stdout",
     "output_type": "stream",
     "text": [
      "count    10.000000\n",
      "mean     -0.012981\n",
      "std       0.040422\n",
      "min      -0.128022\n",
      "25%      -0.000277\n",
      "50%      -0.000127\n",
      "75%      -0.000088\n",
      "max      -0.000055\n",
      "dtype: float64\n",
      "\n"
     ]
    }
   ],
   "source": [
    "#truncated callable svd regression\n",
    "svd_cond_pipeline.set_params(trunc_svd__n_components=20)\n",
    "predictors = {'OLS Truncated SVD call 20':LinearRegression()}\n",
    "res = svd_run_describe_predictors(predictors, best_callable, y_callable)\n",
    "model_stats_df = model_stats_df.join(res)"
   ]
  },
  {
   "cell_type": "code",
   "execution_count": 86,
   "metadata": {},
   "outputs": [
    {
     "name": "stdout",
     "output_type": "stream",
     "text": [
      "Linear Regression best non callable\n",
      "       Linear Regression best non callable\n",
      "count                         1.000000e+01\n",
      "mean                         -9.278876e-06\n",
      "std                           1.514328e-05\n",
      "min                          -5.037776e-05\n",
      "25%                          -7.682216e-06\n",
      "50%                          -3.001133e-06\n",
      "75%                          -1.880874e-06\n",
      "max                          -7.940873e-07\n"
     ]
    }
   ],
   "source": [
    "#linear regression non callable\n",
    "predictors = {'Linear Regression best non callable':LinearRegression()}\n",
    "res = run_describe_predictors(predictors, best_non_callable, y_non_callable)\n",
    "print(res)"
   ]
  },
  {
   "cell_type": "code",
   "execution_count": 87,
   "metadata": {},
   "outputs": [
    {
     "name": "stdout",
     "output_type": "stream",
     "text": [
      "Linear Regression best callable\n",
      "       Linear Regression best callable\n",
      "count                        10.000000\n",
      "mean                         -0.014250\n",
      "std                           0.044831\n",
      "min                          -0.141842\n",
      "25%                          -0.000044\n",
      "50%                          -0.000021\n",
      "75%                          -0.000009\n",
      "max                          -0.000004\n"
     ]
    }
   ],
   "source": [
    "#linear regression callable\n",
    "predictors = {'Linear Regression best callable':LinearRegression()}\n",
    "res = run_describe_predictors(predictors, best_callable, y_callable)\n",
    "print(res)"
   ]
  },
  {
   "cell_type": "code",
   "execution_count": 88,
   "metadata": {
    "collapsed": true
   },
   "outputs": [],
   "source": [
    "model_stats_df.to_csv('model_stats_elastic.csv')"
   ]
  },
  {
   "cell_type": "code",
   "execution_count": 92,
   "metadata": {},
   "outputs": [
    {
     "data": {
      "text/html": [
       "<div>\n",
       "<style>\n",
       "    .dataframe thead tr:only-child th {\n",
       "        text-align: right;\n",
       "    }\n",
       "\n",
       "    .dataframe thead th {\n",
       "        text-align: left;\n",
       "    }\n",
       "\n",
       "    .dataframe tbody tr th {\n",
       "        vertical-align: top;\n",
       "    }\n",
       "</style>\n",
       "<table border=\"1\" class=\"dataframe\">\n",
       "  <thead>\n",
       "    <tr style=\"text-align: right;\">\n",
       "      <th></th>\n",
       "      <th>count</th>\n",
       "      <th>mean</th>\n",
       "      <th>std</th>\n",
       "      <th>min</th>\n",
       "      <th>25%</th>\n",
       "      <th>50%</th>\n",
       "      <th>75%</th>\n",
       "      <th>max</th>\n",
       "    </tr>\n",
       "  </thead>\n",
       "  <tbody>\n",
       "    <tr>\n",
       "      <th>Linear Regression</th>\n",
       "      <td>10.0</td>\n",
       "      <td>-0.000321</td>\n",
       "      <td>0.000963</td>\n",
       "      <td>-0.003061</td>\n",
       "      <td>-0.000038</td>\n",
       "      <td>-0.000007</td>\n",
       "      <td>-0.000003</td>\n",
       "      <td>-1.371397e-06</td>\n",
       "    </tr>\n",
       "    <tr>\n",
       "      <th>Ridge</th>\n",
       "      <td>10.0</td>\n",
       "      <td>-0.000321</td>\n",
       "      <td>0.000963</td>\n",
       "      <td>-0.003062</td>\n",
       "      <td>-0.000038</td>\n",
       "      <td>-0.000007</td>\n",
       "      <td>-0.000003</td>\n",
       "      <td>-1.366445e-06</td>\n",
       "    </tr>\n",
       "    <tr>\n",
       "      <th>Elastic Net</th>\n",
       "      <td>10.0</td>\n",
       "      <td>-0.000443</td>\n",
       "      <td>0.000161</td>\n",
       "      <td>-0.000681</td>\n",
       "      <td>-0.000251</td>\n",
       "      <td>-0.000199</td>\n",
       "      <td>-0.000156</td>\n",
       "      <td>-1.373426e-04</td>\n",
       "    </tr>\n",
       "    <tr>\n",
       "      <th>OLS Level-less</th>\n",
       "      <td>10.0</td>\n",
       "      <td>-0.002699</td>\n",
       "      <td>0.008049</td>\n",
       "      <td>-0.025606</td>\n",
       "      <td>-0.000196</td>\n",
       "      <td>-0.000152</td>\n",
       "      <td>-0.000127</td>\n",
       "      <td>-1.104274e-04</td>\n",
       "    </tr>\n",
       "    <tr>\n",
       "      <th>OLS Past-less</th>\n",
       "      <td>10.0</td>\n",
       "      <td>-0.000219</td>\n",
       "      <td>0.000643</td>\n",
       "      <td>-0.002049</td>\n",
       "      <td>-0.000037</td>\n",
       "      <td>-0.000007</td>\n",
       "      <td>-0.000003</td>\n",
       "      <td>-1.251652e-06</td>\n",
       "    </tr>\n",
       "    <tr>\n",
       "      <th>OLS Liquidity</th>\n",
       "      <td>10.0</td>\n",
       "      <td>-0.000321</td>\n",
       "      <td>0.000963</td>\n",
       "      <td>-0.003061</td>\n",
       "      <td>-0.000038</td>\n",
       "      <td>-0.000007</td>\n",
       "      <td>-0.000003</td>\n",
       "      <td>-1.373332e-06</td>\n",
       "    </tr>\n",
       "    <tr>\n",
       "      <th>OLS Frequency</th>\n",
       "      <td>10.0</td>\n",
       "      <td>-0.000321</td>\n",
       "      <td>0.000963</td>\n",
       "      <td>-0.003061</td>\n",
       "      <td>-0.000038</td>\n",
       "      <td>-0.000007</td>\n",
       "      <td>-0.000003</td>\n",
       "      <td>-1.359904e-06</td>\n",
       "    </tr>\n",
       "    <tr>\n",
       "      <th>OLS Volatility</th>\n",
       "      <td>10.0</td>\n",
       "      <td>-0.000321</td>\n",
       "      <td>0.000964</td>\n",
       "      <td>-0.003063</td>\n",
       "      <td>-0.000038</td>\n",
       "      <td>-0.000007</td>\n",
       "      <td>-0.000003</td>\n",
       "      <td>-1.376408e-06</td>\n",
       "    </tr>\n",
       "    <tr>\n",
       "      <th>OLS Non-callable</th>\n",
       "      <td>10.0</td>\n",
       "      <td>-0.000009</td>\n",
       "      <td>0.000015</td>\n",
       "      <td>-0.000050</td>\n",
       "      <td>-0.000010</td>\n",
       "      <td>-0.000003</td>\n",
       "      <td>-0.000002</td>\n",
       "      <td>-7.847022e-07</td>\n",
       "    </tr>\n",
       "    <tr>\n",
       "      <th>OLS Callable</th>\n",
       "      <td>10.0</td>\n",
       "      <td>-0.016035</td>\n",
       "      <td>0.050471</td>\n",
       "      <td>-0.159677</td>\n",
       "      <td>-0.000050</td>\n",
       "      <td>-0.000031</td>\n",
       "      <td>-0.000008</td>\n",
       "      <td>-2.843459e-06</td>\n",
       "    </tr>\n",
       "    <tr>\n",
       "      <th>OLS Yield</th>\n",
       "      <td>10.0</td>\n",
       "      <td>-0.000321</td>\n",
       "      <td>0.000963</td>\n",
       "      <td>-0.003060</td>\n",
       "      <td>-0.000038</td>\n",
       "      <td>-0.000007</td>\n",
       "      <td>-0.000003</td>\n",
       "      <td>-1.347044e-06</td>\n",
       "    </tr>\n",
       "    <tr>\n",
       "      <th>OLS Discrepancy</th>\n",
       "      <td>10.0</td>\n",
       "      <td>-0.000319</td>\n",
       "      <td>0.000959</td>\n",
       "      <td>-0.003048</td>\n",
       "      <td>-0.000038</td>\n",
       "      <td>-0.000007</td>\n",
       "      <td>-0.000003</td>\n",
       "      <td>-1.365537e-06</td>\n",
       "    </tr>\n",
       "    <tr>\n",
       "      <th>OLS Duration bucket</th>\n",
       "      <td>10.0</td>\n",
       "      <td>-0.000321</td>\n",
       "      <td>0.000964</td>\n",
       "      <td>-0.003064</td>\n",
       "      <td>-0.000038</td>\n",
       "      <td>-0.000007</td>\n",
       "      <td>-0.000003</td>\n",
       "      <td>-1.420628e-06</td>\n",
       "    </tr>\n",
       "    <tr>\n",
       "      <th>OLS Truncated SVD</th>\n",
       "      <td>10.0</td>\n",
       "      <td>-0.000170</td>\n",
       "      <td>0.000165</td>\n",
       "      <td>-0.000627</td>\n",
       "      <td>-0.000164</td>\n",
       "      <td>-0.000112</td>\n",
       "      <td>-0.000089</td>\n",
       "      <td>-7.678046e-05</td>\n",
       "    </tr>\n",
       "    <tr>\n",
       "      <th>OLS Truncated SVD non call 20</th>\n",
       "      <td>10.0</td>\n",
       "      <td>-0.000062</td>\n",
       "      <td>0.000026</td>\n",
       "      <td>-0.000123</td>\n",
       "      <td>-0.000074</td>\n",
       "      <td>-0.000051</td>\n",
       "      <td>-0.000048</td>\n",
       "      <td>-4.082178e-05</td>\n",
       "    </tr>\n",
       "    <tr>\n",
       "      <th>OLS Truncated SVD call 20</th>\n",
       "      <td>10.0</td>\n",
       "      <td>-0.012981</td>\n",
       "      <td>0.040422</td>\n",
       "      <td>-0.128022</td>\n",
       "      <td>-0.000277</td>\n",
       "      <td>-0.000127</td>\n",
       "      <td>-0.000088</td>\n",
       "      <td>-5.547198e-05</td>\n",
       "    </tr>\n",
       "  </tbody>\n",
       "</table>\n",
       "</div>"
      ],
      "text/plain": [
       "                               count      mean       std       min       25%  \\\n",
       "Linear Regression               10.0 -0.000321  0.000963 -0.003061 -0.000038   \n",
       "Ridge                           10.0 -0.000321  0.000963 -0.003062 -0.000038   \n",
       "Elastic Net                     10.0 -0.000443  0.000161 -0.000681 -0.000251   \n",
       "OLS Level-less                  10.0 -0.002699  0.008049 -0.025606 -0.000196   \n",
       "OLS Past-less                   10.0 -0.000219  0.000643 -0.002049 -0.000037   \n",
       "OLS Liquidity                   10.0 -0.000321  0.000963 -0.003061 -0.000038   \n",
       "OLS Frequency                   10.0 -0.000321  0.000963 -0.003061 -0.000038   \n",
       "OLS Volatility                  10.0 -0.000321  0.000964 -0.003063 -0.000038   \n",
       "OLS Non-callable                10.0 -0.000009  0.000015 -0.000050 -0.000010   \n",
       "OLS Callable                    10.0 -0.016035  0.050471 -0.159677 -0.000050   \n",
       "OLS Yield                       10.0 -0.000321  0.000963 -0.003060 -0.000038   \n",
       "OLS Discrepancy                 10.0 -0.000319  0.000959 -0.003048 -0.000038   \n",
       "OLS Duration bucket             10.0 -0.000321  0.000964 -0.003064 -0.000038   \n",
       "OLS Truncated SVD               10.0 -0.000170  0.000165 -0.000627 -0.000164   \n",
       "OLS Truncated SVD non call 20   10.0 -0.000062  0.000026 -0.000123 -0.000074   \n",
       "OLS Truncated SVD call 20       10.0 -0.012981  0.040422 -0.128022 -0.000277   \n",
       "\n",
       "                                    50%       75%           max  \n",
       "Linear Regression             -0.000007 -0.000003 -1.371397e-06  \n",
       "Ridge                         -0.000007 -0.000003 -1.366445e-06  \n",
       "Elastic Net                   -0.000199 -0.000156 -1.373426e-04  \n",
       "OLS Level-less                -0.000152 -0.000127 -1.104274e-04  \n",
       "OLS Past-less                 -0.000007 -0.000003 -1.251652e-06  \n",
       "OLS Liquidity                 -0.000007 -0.000003 -1.373332e-06  \n",
       "OLS Frequency                 -0.000007 -0.000003 -1.359904e-06  \n",
       "OLS Volatility                -0.000007 -0.000003 -1.376408e-06  \n",
       "OLS Non-callable              -0.000003 -0.000002 -7.847022e-07  \n",
       "OLS Callable                  -0.000031 -0.000008 -2.843459e-06  \n",
       "OLS Yield                     -0.000007 -0.000003 -1.347044e-06  \n",
       "OLS Discrepancy               -0.000007 -0.000003 -1.365537e-06  \n",
       "OLS Duration bucket           -0.000007 -0.000003 -1.420628e-06  \n",
       "OLS Truncated SVD             -0.000112 -0.000089 -7.678046e-05  \n",
       "OLS Truncated SVD non call 20 -0.000051 -0.000048 -4.082178e-05  \n",
       "OLS Truncated SVD call 20     -0.000127 -0.000088 -5.547198e-05  "
      ]
     },
     "execution_count": 92,
     "metadata": {},
     "output_type": "execute_result"
    }
   ],
   "source": [
    "model_stats_df.T"
   ]
  },
  {
   "cell_type": "markdown",
   "metadata": {},
   "source": [
    "Analysis of RPD"
   ]
  },
  {
   "cell_type": "code",
   "execution_count": 102,
   "metadata": {
    "collapsed": true
   },
   "outputs": [],
   "source": [
    "temp = X_all.copy()\n",
    "temp['RPD'] = train.RPD"
   ]
  },
  {
   "cell_type": "code",
   "execution_count": 201,
   "metadata": {
    "scrolled": true
   },
   "outputs": [
    {
     "data": {
      "image/png": "[encoded data removed]",
      "text/plain": [
       "<matplotlib.figure.Figure at 0x1f8648b1668>"
      ]
     },
     "metadata": {},
     "output_type": "display_data"
    }
   ],
   "source": [
    "f, (ax1, ax2) = plt.subplots(1, 2)\n",
    "ax1.plot(temp.groupby('yield_bucket')['RPD'].mean())\n",
    "ax1.set_title('Yield Bucketing')\n",
    "ax2.plot(temp.groupby('yield_bucket')['RPD'].std())\n",
    "f.subplots_adjust(wspace=.75)\n",
    "plt.show()"
   ]
  },
  {
   "cell_type": "code",
   "execution_count": 202,
   "metadata": {},
   "outputs": [
    {
     "data": {
      "image/png": "[encoded data removed]",
      "text/plain": [
       "<matplotlib.figure.Figure at 0x1f82173b2b0>"
      ]
     },
     "metadata": {},
     "output_type": "display_data"
    }
   ],
   "source": [
    "f, (ax1, ax2) = plt.subplots(1, 2)\n",
    "ax1.plot(temp.groupby('trade_size_liquidity')['RPD'].mean())\n",
    "ax1.set_title('Trade Volume Bucketing')\n",
    "ax2.plot(temp.groupby('trade_size_liquidity')['RPD'].std())\n",
    "f.subplots_adjust(wspace=.75)\n",
    "plt.show()"
   ]
  },
  {
   "cell_type": "code",
   "execution_count": 203,
   "metadata": {},
   "outputs": [
    {
     "data": {
      "image/png": "[encoded data removed]",
      "text/plain": [
       "<matplotlib.figure.Figure at 0x1f820ff4be0>"
      ]
     },
     "metadata": {},
     "output_type": "display_data"
    }
   ],
   "source": [
    "f, (ax1, ax2) = plt.subplots(1, 2)\n",
    "ax1.plot(temp.groupby('freq')['RPD'].mean())\n",
    "ax1.set_title('Frequency Bucketing')\n",
    "ax2.plot(temp.groupby('freq')['RPD'].std())\n",
    "f.subplots_adjust(wspace=.75)\n",
    "plt.show()"
   ]
  },
  {
   "cell_type": "code",
   "execution_count": null,
   "metadata": {
    "collapsed": true
   },
   "outputs": [],
   "source": []
  }
 ],
 "metadata": {
  "kernelspec": {
   "display_name": "Python 3",
   "language": "python",
   "name": "python3"
  },
  "language_info": {
   "codemirror_mode": {
    "name": "ipython",
    "version": 3
   },
   "file_extension": ".py",
   "mimetype": "text/x-python",
   "name": "python",
   "nbconvert_exporter": "python",
   "pygments_lexer": "ipython3",
   "version": "3.4.5"
  }
 },
 "nbformat": 4,
 "nbformat_minor": 2
}
