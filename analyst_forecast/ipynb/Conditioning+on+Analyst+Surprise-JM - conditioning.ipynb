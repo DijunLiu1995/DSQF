{
 "cells": [
  {
   "cell_type": "code",
   "execution_count": 38,
   "metadata": {},
   "outputs": [],
   "source": [
    "import pandas as pd\n",
    "import numpy as np\n",
    "%matplotlib inline\n",
    "# import stats as sts "
   ]
  },
  {
   "cell_type": "code",
   "execution_count": 7,
   "metadata": {},
   "outputs": [],
   "source": [
    "#read analyst actuals file\n",
    "column_names1 = ['TICKER','ANNDATS','quarternum','earn_value']\n",
    "df_actual_ern=pd.read_csv(\"../AFE_data/df_actual_ern.csv\", header = None, names = column_names1)\n",
    "#df_actual_ern = pd.read_csv('/Users/Blair/Downloads/AFE_data/df_actual_ern.csv')\n",
    "#read analyst forecast file\n",
    "column_names2 = ['TICKER','ANNDATS','quarternum','analyst','forecast_value']\n",
    "df_aforcast=pd.read_csv(\"../AFE_data/df_aforecast.csv\", header = None, names = column_names2)\n",
    "#df_aforecast = pd.read_csv('/Users/Blair/Downloads/AFE_data/df_aforecast.csv')"
   ]
  },
  {
   "cell_type": "code",
   "execution_count": 9,
   "metadata": {
    "collapsed": true
   },
   "outputs": [],
   "source": [
    "#Set Year\n",
    "df_actual_ern['year'] = df_actual_ern['ANNDATS'].apply(lambda x: str(x)[:4])\n",
    "\n",
    "df_aforcast['year'] = df_aforcast['ANNDATS'].apply(lambda x: str(x)[:4])"
   ]
  },
  {
   "cell_type": "code",
   "execution_count": 11,
   "metadata": {
    "scrolled": true
   },
   "outputs": [
    {
     "data": {
      "text/html": [
       "<div>\n",
       "<style>\n",
       "    .dataframe thead tr:only-child th {\n",
       "        text-align: right;\n",
       "    }\n",
       "\n",
       "    .dataframe thead th {\n",
       "        text-align: left;\n",
       "    }\n",
       "\n",
       "    .dataframe tbody tr th {\n",
       "        vertical-align: top;\n",
       "    }\n",
       "</style>\n",
       "<table border=\"1\" class=\"dataframe\">\n",
       "  <thead>\n",
       "    <tr style=\"text-align: right;\">\n",
       "      <th></th>\n",
       "      <th>TICKER</th>\n",
       "      <th>ANNDATS_x</th>\n",
       "      <th>quarternum</th>\n",
       "      <th>analyst</th>\n",
       "      <th>forecast_value</th>\n",
       "      <th>year</th>\n",
       "      <th>ANNDATS_y</th>\n",
       "      <th>earn_value</th>\n",
       "    </tr>\n",
       "  </thead>\n",
       "  <tbody>\n",
       "    <tr>\n",
       "      <th>0</th>\n",
       "      <td>AA</td>\n",
       "      <td>19961231</td>\n",
       "      <td>3</td>\n",
       "      <td>3700</td>\n",
       "      <td>4.3125</td>\n",
       "      <td>1996</td>\n",
       "      <td>19961004</td>\n",
       "      <td>0.5775</td>\n",
       "    </tr>\n",
       "    <tr>\n",
       "      <th>1</th>\n",
       "      <td>AA</td>\n",
       "      <td>19961231</td>\n",
       "      <td>3</td>\n",
       "      <td>281</td>\n",
       "      <td>4.1250</td>\n",
       "      <td>1996</td>\n",
       "      <td>19961004</td>\n",
       "      <td>0.5775</td>\n",
       "    </tr>\n",
       "    <tr>\n",
       "      <th>2</th>\n",
       "      <td>AA</td>\n",
       "      <td>19961231</td>\n",
       "      <td>3</td>\n",
       "      <td>4088</td>\n",
       "      <td>3.1875</td>\n",
       "      <td>1996</td>\n",
       "      <td>19961004</td>\n",
       "      <td>0.5775</td>\n",
       "    </tr>\n",
       "    <tr>\n",
       "      <th>3</th>\n",
       "      <td>AA</td>\n",
       "      <td>19971231</td>\n",
       "      <td>3</td>\n",
       "      <td>662</td>\n",
       "      <td>3.0000</td>\n",
       "      <td>1997</td>\n",
       "      <td>19971006</td>\n",
       "      <td>0.9375</td>\n",
       "    </tr>\n",
       "    <tr>\n",
       "      <th>4</th>\n",
       "      <td>AA</td>\n",
       "      <td>19971231</td>\n",
       "      <td>3</td>\n",
       "      <td>472</td>\n",
       "      <td>3.9375</td>\n",
       "      <td>1997</td>\n",
       "      <td>19971006</td>\n",
       "      <td>0.9375</td>\n",
       "    </tr>\n",
       "  </tbody>\n",
       "</table>\n",
       "</div>"
      ],
      "text/plain": [
       "  TICKER  ANNDATS_x  quarternum  analyst  forecast_value  year  ANNDATS_y  \\\n",
       "0     AA   19961231           3     3700          4.3125  1996   19961004   \n",
       "1     AA   19961231           3      281          4.1250  1996   19961004   \n",
       "2     AA   19961231           3     4088          3.1875  1996   19961004   \n",
       "3     AA   19971231           3      662          3.0000  1997   19971006   \n",
       "4     AA   19971231           3      472          3.9375  1997   19971006   \n",
       "\n",
       "   earn_value  \n",
       "0      0.5775  \n",
       "1      0.5775  \n",
       "2      0.5775  \n",
       "3      0.9375  \n",
       "4      0.9375  "
      ]
     },
     "execution_count": 11,
     "metadata": {},
     "output_type": "execute_result"
    }
   ],
   "source": [
    "#Merge two datasets\n",
    "merged = pd.merge(df_aforcast,df_actual_ern,how = 'inner', on = ['TICKER','quarternum','year'])\n",
    "merged.head()"
   ]
  },
  {
   "cell_type": "code",
   "execution_count": 25,
   "metadata": {},
   "outputs": [
    {
     "data": {
      "text/plain": [
       "3.9040134873693755"
      ]
     },
     "execution_count": 25,
     "metadata": {},
     "output_type": "execute_result"
    }
   ],
   "source": [
    "x = (merged['forecast_value']/merged['earn_value']).dropna()\n",
    "x[abs(x)<500].mean()\n"
   ]
  },
  {
   "cell_type": "code",
   "execution_count": 26,
   "metadata": {
    "collapsed": true
   },
   "outputs": [],
   "source": [
    "#Surprise Matrics\n",
    "merged.index = merged[['TICKER', 'year','quarternum']]\n",
    "\n",
    "df=merged.reset_index()\n",
    "merged['meadian']=df.groupby('index').forecast_value.median()\n",
    "merged['mean']=df.groupby('index').forecast_value.mean()\n",
    "merged['std']=df.groupby('index').forecast_value.std()\n",
    "merged['delta_mm']=merged['meadian']-merged['mean']"
   ]
  },
  {
   "cell_type": "code",
   "execution_count": 91,
   "metadata": {
    "collapsed": true
   },
   "outputs": [],
   "source": [
    "#Median forecast - actual\n",
    "merged['surprise_median_fa']=(merged['earn_value']-merged['meadian']*.25)/merged['std']\n",
    "#Mean forecast - actual\n",
    "merged['surprise_mean_fa']=(merged['earn_value']-merged['mean']*.25)/merged['std']"
   ]
  },
  {
   "cell_type": "code",
   "execution_count": 101,
   "metadata": {},
   "outputs": [
    {
     "name": "stdout",
     "output_type": "stream",
     "text": [
      "with 0 std (69965, 17)\n",
      "0 std removed (68714, 17)\n"
     ]
    }
   ],
   "source": [
    "merged_cleaned = merged[merged['std']>0]\n",
    "\n",
    "\n",
    "print('with 0 std',merged.shape)\n",
    "print('0 std removed',merged_cleaned.shape)\n"
   ]
  },
  {
   "cell_type": "code",
   "execution_count": 102,
   "metadata": {},
   "outputs": [
    {
     "name": "stderr",
     "output_type": "stream",
     "text": [
      "/home/jasonmellone/anaconda2/envs/py3dsqf/lib/python3.5/site-packages/ipykernel_launcher.py:2: SettingWithCopyWarning: \n",
      "A value is trying to be set on a copy of a slice from a DataFrame.\n",
      "Try using .loc[row_indexer,col_indexer] = value instead\n",
      "\n",
      "See the caveats in the documentation: http://pandas.pydata.org/pandas-docs/stable/indexing.html#indexing-view-versus-copy\n",
      "  \n"
     ]
    }
   ],
   "source": [
    "#the skewness of the distribution:median_mean\n",
    "merged_cleaned['skew']=merged_cleaned['delta_mm']/merged_cleaned['delta_mm'].std()\n",
    "#the kurtosis of the distribution\n"
   ]
  },
  {
   "cell_type": "code",
   "execution_count": 106,
   "metadata": {},
   "outputs": [
    {
     "data": {
      "text/plain": [
       "<matplotlib.axes._subplots.AxesSubplot at 0x7fef73639ac8>"
      ]
     },
     "execution_count": 106,
     "metadata": {},
     "output_type": "execute_result"
    },
    {
     "data": {
      "image/png": "[encoded data removed]",
      "text/plain": [
       "<matplotlib.figure.Figure at 0x7fef735d4828>"
      ]
     },
     "metadata": {},
     "output_type": "display_data"
    }
   ],
   "source": [
    "merged_cleaned[abs(merged_cleaned.surprise_median_fa)<10]['surprise_median_fa'].hist(bins=50)"
   ]
  },
  {
   "cell_type": "code",
   "execution_count": 107,
   "metadata": {},
   "outputs": [
    {
     "name": "stderr",
     "output_type": "stream",
     "text": [
      "/home/jasonmellone/anaconda2/envs/py3dsqf/lib/python3.5/site-packages/ipykernel_launcher.py:1: SettingWithCopyWarning: \n",
      "A value is trying to be set on a copy of a slice from a DataFrame.\n",
      "Try using .loc[row_indexer,col_indexer] = value instead\n",
      "\n",
      "See the caveats in the documentation: http://pandas.pydata.org/pandas-docs/stable/indexing.html#indexing-view-versus-copy\n",
      "  \"\"\"Entry point for launching an IPython kernel.\n",
      "/home/jasonmellone/anaconda2/envs/py3dsqf/lib/python3.5/site-packages/ipykernel_launcher.py:2: SettingWithCopyWarning: \n",
      "A value is trying to be set on a copy of a slice from a DataFrame.\n",
      "Try using .loc[row_indexer,col_indexer] = value instead\n",
      "\n",
      "See the caveats in the documentation: http://pandas.pydata.org/pandas-docs/stable/indexing.html#indexing-view-versus-copy\n",
      "  \n"
     ]
    }
   ],
   "source": [
    "merged_cleaned['kurtosis_mean']=merged_cleaned['surprise_mean_fa'].kurt()\n",
    "merged_cleaned['kurtosis_median']=merged_cleaned['surprise_median_fa'].kurt()"
   ]
  },
  {
   "cell_type": "markdown",
   "metadata": {},
   "source": [
    "●\tHow do your pre-post earnings price time series from the previous section look as a function of conditioning on different values of the surprise metrics (and distribution metrics) above?"
   ]
  },
  {
   "cell_type": "code",
   "execution_count": 147,
   "metadata": {},
   "outputs": [],
   "source": [
    "price_distributions = pd.read_csv('../AFE_data/df_prc_dist.csv')\n",
    "del price_distributions['Unnamed: 0']\n",
    "del price_distributions['quarternum']"
   ]
  },
  {
   "cell_type": "code",
   "execution_count": 148,
   "metadata": {},
   "outputs": [],
   "source": [
    "price_distributions['year'] = price_distributions['ANNDATS'].apply(lambda x: str(x)[:4])"
   ]
  },
  {
   "cell_type": "code",
   "execution_count": 149,
   "metadata": {
    "scrolled": true
   },
   "outputs": [],
   "source": [
    "qs,bins = pd.qcut(merged_cleaned['surprise_mean_fa'],10,retbins=True)"
   ]
  },
  {
   "cell_type": "code",
   "execution_count": 150,
   "metadata": {},
   "outputs": [
    {
     "name": "stdout",
     "output_type": "stream",
     "text": [
      "0 -287.438906552 -0.700018898449\n",
      "1 -0.700018898449 -0.327163183558\n",
      "2 -0.327163183558 -0.130452862091\n",
      "3 -0.130452862091 0.0254204932967\n",
      "4 0.0254204932967 0.164936710639\n",
      "5 0.164936710639 0.344256557174\n",
      "6 0.344256557174 0.567454275478\n",
      "7 0.567454275478 0.883183043048\n",
      "8 0.883183043048 1.64225312845\n",
      "9 1.64225312845 188.50486289\n"
     ]
    }
   ],
   "source": [
    "for i in range(0,len(bins)-1):\n",
    "    print(i,bins[i],bins[i+1])\n",
    "    \n",
    "    quantile_filtered_earnings = merged_cleaned[(merged_cleaned['surprise_mean_fa']>=bins[i])& (merged_cleaned['surprise_mean_fa']<bins[i+1])].copy()\n",
    "    quantile_filtered_earnings = quantile_filtered_earnings[['TICKER','year']].drop_duplicates()"
   ]
  },
  {
   "cell_type": "code",
   "execution_count": 159,
   "metadata": {},
   "outputs": [],
   "source": [
    "price_drift_df = pd.merge(quantile_filtered_earnings,price_distributions,on=['TICKER','year'])"
   ]
  },
  {
   "cell_type": "code",
   "execution_count": 168,
   "metadata": {
    "scrolled": true
   },
   "outputs": [
    {
     "data": {
      "text/plain": [
       "<matplotlib.axes._subplots.AxesSubplot at 0x7fef733a8f98>"
      ]
     },
     "execution_count": 168,
     "metadata": {},
     "output_type": "execute_result"
    },
    {
     "data": {
      "image/png": "[encoded data removed]",
      "text/plain": [
       "<matplotlib.figure.Figure at 0x7fef732957b8>"
      ]
     },
     "metadata": {},
     "output_type": "display_data"
    }
   ],
   "source": [
    "price_drift_df[list(map(str,list(range(-30,31,1))))].mean().plot()"
   ]
  },
  {
   "cell_type": "code",
   "execution_count": 167,
   "metadata": {},
   "outputs": [
    {
     "data": {
      "text/plain": [
       "0.99883604583078445"
      ]
     },
     "execution_count": 167,
     "metadata": {},
     "output_type": "execute_result"
    }
   ],
   "source": []
  },
  {
   "cell_type": "code",
   "execution_count": 165,
   "metadata": {},
   "outputs": [
    {
     "data": {
      "text/plain": [
       "51.223136051913635"
      ]
     },
     "execution_count": 165,
     "metadata": {},
     "output_type": "execute_result"
    }
   ],
   "source": [
    "price_distributions = pd.read_csv('../AFE_data/df_prc_dist.csv')\n",
    "price_distributions['1'].dropna().mean()"
   ]
  },
  {
   "cell_type": "code",
   "execution_count": null,
   "metadata": {
    "collapsed": true
   },
   "outputs": [],
   "source": []
  }
 ],
 "metadata": {
  "kernelspec": {
   "display_name": "Python 3",
   "language": "python",
   "name": "python3"
  },
  "language_info": {
   "codemirror_mode": {
    "name": "ipython",
    "version": 3
   },
   "file_extension": ".py",
   "mimetype": "text/x-python",
   "name": "python",
   "nbconvert_exporter": "python",
   "pygments_lexer": "ipython3",
   "version": "3.5.2"
  }
 },
 "nbformat": 4,
 "nbformat_minor": 2
}
