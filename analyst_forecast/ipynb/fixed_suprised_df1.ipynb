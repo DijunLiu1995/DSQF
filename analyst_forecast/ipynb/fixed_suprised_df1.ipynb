{
 "cells": [
  {
   "cell_type": "code",
   "execution_count": null,
   "metadata": {
    "collapsed": true
   },
   "outputs": [],
   "source": [
    "import pandas as pd\n",
    "import numpy as np\n",
    "import matplotlib.pyplot as plt\n",
    "#Build stylized surprise metrics dataset\n",
    "suprised_df = pd.DataFrame()\n",
    "suprised_df['surprise_median_fa']=merged['surprise_median_fa']\n",
    "suprised_df['surprise_mean_fa']=merged['surprise_mean_fa']\n",
    "suprised_df['TICKER']=merged['TICKER']\n",
    "suprised_df['year']=merged['year']\n",
    "suprised_df['quarternum']=merged['quarternum']\n",
    "suprised_df['Skew']=merged['skew']\n",
    "suprised_df['Kurtosis']=merged['kurtosis']\n",
    "suprised_df1 = pd.merge(suprised_df,df_prc_dist1,how = 'inner', on = ['TICKER','quarternum','year'])\n",
    "suprised_df1.index = suprised_df1[['year','quarternum']]\n",
    "suprised_df1= suprised_df1[np.isfinite(suprised_df1['delta_return'])]\n",
    "suprised_df1.head()"
   ]
  },
  {
   "cell_type": "code",
   "execution_count": null,
   "metadata": {
    "collapsed": true
   },
   "outputs": [],
   "source": [
    "suprised_df1=suprised_df1.join(suprised_df1.groupby(['year','quarternum'])['delta_return'].quantile(0.1), on=('year','quarternum'), rsuffix='_bottom10')\n",
    "suprised_df1=suprised_df1.join(suprised_df1.groupby(['year','quarternum'])['delta_return'].quantile(0.9), on=('year','quarternum'), rsuffix='_top10')"
   ]
  },
  {
   "cell_type": "code",
   "execution_count": null,
   "metadata": {
    "collapsed": true
   },
   "outputs": [],
   "source": [
    "suprised_df1['Y']= np.where((suprised_df1['delta_return']>suprised_df1['delta_return_top10'])|(suprised_df1['delta_return']<=suprised_df1['delta_return_bottom10']), '1', '0')"
   ]
  },
  {
   "cell_type": "code",
   "execution_count": null,
   "metadata": {
    "collapsed": true
   },
   "outputs": [],
   "source": [
    "del suprised_df1['delta_return_bottom10']\n",
    "del suprised_df1['delta_return_top10']"
   ]
  },
  {
   "cell_type": "code",
   "execution_count": null,
   "metadata": {
    "collapsed": true
   },
   "outputs": [],
   "source": [
    "suprised_df1.head()"
   ]
  }
 ],
 "metadata": {
  "kernelspec": {
   "display_name": "Python 3",
   "language": "python",
   "name": "python3"
  },
  "language_info": {
   "codemirror_mode": {
    "name": "ipython",
    "version": 3
   },
   "file_extension": ".py",
   "mimetype": "text/x-python",
   "name": "python",
   "nbconvert_exporter": "python",
   "pygments_lexer": "ipython3",
   "version": "3.6.1"
  }
 },
 "nbformat": 4,
 "nbformat_minor": 2
}
