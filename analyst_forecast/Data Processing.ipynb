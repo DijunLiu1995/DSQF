{
 "cells": [
  {
   "cell_type": "code",
   "execution_count": 5,
   "metadata": {},
   "outputs": [],
   "source": [
    "import pandas as pd\n",
    "import numpy as np"
   ]
  },
  {
   "cell_type": "code",
   "execution_count": 7,
   "metadata": {},
   "outputs": [],
   "source": [
    "#read price distribution file\n",
    "prc_dist = pd.read_csv('AFE_data/df_prc_dist.csv')"
   ]
  },
  {
   "cell_type": "code",
   "execution_count": 8,
   "metadata": {},
   "outputs": [
    {
     "name": "stdout",
     "output_type": "stream",
     "text": [
      "4458\n",
      "5543\n"
     ]
    }
   ],
   "source": [
    "#count NaNs in -1 and +1\n",
    "a = prc_dist['-1'].isnull().sum()\n",
    "b = prc_dist['1'].isnull().sum()\n",
    "print(a)\n",
    "print(b)"
   ]
  },
  {
   "cell_type": "code",
   "execution_count": 9,
   "metadata": {},
   "outputs": [
    {
     "name": "stdout",
     "output_type": "stream",
     "text": [
      "0.142880035896\n",
      "0.177654562354\n"
     ]
    }
   ],
   "source": [
    "nrows = len(prc_dist['1'])\n",
    "print(a/nrows)\n",
    "print(b/nrows)"
   ]
  },
  {
   "cell_type": "code",
   "execution_count": 39,
   "metadata": {},
   "outputs": [],
   "source": [
    "import matplotlib.pyplot as plt\n",
    "\n",
    "def quantile_dist(prc_dist):\n",
    "    dates = prc_dist['ANNDATS'].unique()\n",
    "    for i in dates:\n",
    "        this_date = prc_dist[prc_dist['ANNDATS'] == i]\n",
    "        \n",
    "        this_date['earning_day_jump'] = np.abs(this_date['-1'] - this_date['1'])\n",
    "        this_date = this_date[np.isfinite(this_date['earning_day_jump'])]\n",
    "        \n",
    "        if(this_date.empty):                  continue\n",
    "        elif(len(this_date['ANNDATS']) <10):  continue \n",
    "        \n",
    "        plt.figure()\n",
    "        this_date.hist(column = ['earning_day_jump'])\n",
    "        plt.savefig('AFE_processing/prc_hist/' + str(i) +'.png')\n",
    "            "
   ]
  },
  {
   "cell_type": "code",
   "execution_count": null,
   "metadata": {},
   "outputs": [
    {
     "name": "stderr",
     "output_type": "stream",
     "text": [
      "c:\\users\\tcope\\appdata\\local\\continuum\\anaconda3\\lib\\site-packages\\ipykernel\\__main__.py:8: SettingWithCopyWarning: \n",
      "A value is trying to be set on a copy of a slice from a DataFrame.\n",
      "Try using .loc[row_indexer,col_indexer] = value instead\n",
      "\n",
      "See the caveats in the documentation: http://pandas.pydata.org/pandas-docs/stable/indexing.html#indexing-view-versus-copy\n",
      "c:\\users\\tcope\\appdata\\local\\continuum\\anaconda3\\lib\\site-packages\\matplotlib\\pyplot.py:524: RuntimeWarning: More than 20 figures have been opened. Figures created through the pyplot interface (`matplotlib.pyplot.figure`) are retained until explicitly closed and may consume too much memory. (To control this warning, see the rcParam `figure.max_open_warning`).\n",
      "  max_open_warning, RuntimeWarning)\n",
      "\n",
      "KeyboardInterrupt\n",
      "\n",
      "ERROR:tornado.general:Uncaught exception, closing connection.\n",
      "Traceback (most recent call last):\n",
      "  File \"c:\\users\\tcope\\appdata\\local\\continuum\\anaconda3\\lib\\site-packages\\zmq\\eventloop\\zmqstream.py\", line 414, in _run_callback\n",
      "    callback(*args, **kwargs)\n",
      "  File \"c:\\users\\tcope\\appdata\\local\\continuum\\anaconda3\\lib\\site-packages\\tornado\\stack_context.py\", line 275, in null_wrapper\n",
      "    return fn(*args, **kwargs)\n",
      "  File \"c:\\users\\tcope\\appdata\\local\\continuum\\anaconda3\\lib\\site-packages\\ipykernel\\kernelbase.py\", line 276, in dispatcher\n",
      "    return self.dispatch_shell(stream, msg)\n",
      "  File \"c:\\users\\tcope\\appdata\\local\\continuum\\anaconda3\\lib\\site-packages\\ipykernel\\kernelbase.py\", line 228, in dispatch_shell\n",
      "    handler(stream, idents, msg)\n",
      "  File \"c:\\users\\tcope\\appdata\\local\\continuum\\anaconda3\\lib\\site-packages\\ipykernel\\kernelbase.py\", line 393, in execute_request\n",
      "    sys.stdout.flush()\n",
      "  File \"c:\\users\\tcope\\appdata\\local\\continuum\\anaconda3\\lib\\site-packages\\ipykernel\\iostream.py\", line 319, in flush\n",
      "    self.pub_thread.schedule(self._flush)\n",
      "  File \"c:\\users\\tcope\\appdata\\local\\continuum\\anaconda3\\lib\\site-packages\\ipykernel\\iostream.py\", line 190, in schedule\n",
      "    self._event_pipe.send(event_id)\n",
      "  File \"zmq/backend/cython/socket.pyx\", line 636, in zmq.backend.cython.socket.Socket.send (zmq\\backend\\cython\\socket.c:7305)\n",
      "  File \"zmq/backend/cython/socket.pyx\", line 683, in zmq.backend.cython.socket.Socket.send (zmq\\backend\\cython\\socket.c:7048)\n",
      "  File \"zmq/backend/cython/socket.pyx\", line 201, in zmq.backend.cython.socket._send_copy (zmq\\backend\\cython\\socket.c:2920)\n",
      "  File \"zmq/backend/cython/checkrc.pxd\", line 12, in zmq.backend.cython.checkrc._check_rc (zmq\\backend\\cython\\socket.c:9621)\n",
      "KeyboardInterrupt\n",
      "ERROR:tornado.general:Uncaught exception, closing connection.\n",
      "Traceback (most recent call last):\n",
      "  File \"c:\\users\\tcope\\appdata\\local\\continuum\\anaconda3\\lib\\site-packages\\zmq\\eventloop\\zmqstream.py\", line 440, in _handle_events\n",
      "    self._handle_recv()\n",
      "  File \"c:\\users\\tcope\\appdata\\local\\continuum\\anaconda3\\lib\\site-packages\\zmq\\eventloop\\zmqstream.py\", line 472, in _handle_recv\n",
      "    self._run_callback(callback, msg)\n",
      "  File \"c:\\users\\tcope\\appdata\\local\\continuum\\anaconda3\\lib\\site-packages\\zmq\\eventloop\\zmqstream.py\", line 414, in _run_callback\n",
      "    callback(*args, **kwargs)\n",
      "  File \"c:\\users\\tcope\\appdata\\local\\continuum\\anaconda3\\lib\\site-packages\\tornado\\stack_context.py\", line 275, in null_wrapper\n",
      "    return fn(*args, **kwargs)\n",
      "  File \"c:\\users\\tcope\\appdata\\local\\continuum\\anaconda3\\lib\\site-packages\\ipykernel\\kernelbase.py\", line 276, in dispatcher\n",
      "    return self.dispatch_shell(stream, msg)\n",
      "  File \"c:\\users\\tcope\\appdata\\local\\continuum\\anaconda3\\lib\\site-packages\\ipykernel\\kernelbase.py\", line 228, in dispatch_shell\n",
      "    handler(stream, idents, msg)\n",
      "  File \"c:\\users\\tcope\\appdata\\local\\continuum\\anaconda3\\lib\\site-packages\\ipykernel\\kernelbase.py\", line 393, in execute_request\n",
      "    sys.stdout.flush()\n",
      "  File \"c:\\users\\tcope\\appdata\\local\\continuum\\anaconda3\\lib\\site-packages\\ipykernel\\iostream.py\", line 319, in flush\n",
      "    self.pub_thread.schedule(self._flush)\n",
      "  File \"c:\\users\\tcope\\appdata\\local\\continuum\\anaconda3\\lib\\site-packages\\ipykernel\\iostream.py\", line 190, in schedule\n",
      "    self._event_pipe.send(event_id)\n",
      "  File \"zmq/backend/cython/socket.pyx\", line 636, in zmq.backend.cython.socket.Socket.send (zmq\\backend\\cython\\socket.c:7305)\n",
      "  File \"zmq/backend/cython/socket.pyx\", line 683, in zmq.backend.cython.socket.Socket.send (zmq\\backend\\cython\\socket.c:7048)\n",
      "  File \"zmq/backend/cython/socket.pyx\", line 201, in zmq.backend.cython.socket._send_copy (zmq\\backend\\cython\\socket.c:2920)\n",
      "  File \"zmq/backend/cython/checkrc.pxd\", line 12, in zmq.backend.cython.checkrc._check_rc (zmq\\backend\\cython\\socket.c:9621)\n",
      "KeyboardInterrupt\n"
     ]
    }
   ],
   "source": [
    "#get distributions from 1970 to 1989\n",
    "quantile_dist(prc_dist)"
   ]
  },
  {
   "cell_type": "code",
   "execution_count": null,
   "metadata": {},
   "outputs": [],
   "source": []
  }
 ],
 "metadata": {
  "kernelspec": {
   "display_name": "Python 3",
   "language": "python",
   "name": "python3"
  },
  "language_info": {
   "codemirror_mode": {
    "name": "ipython",
    "version": 3
   },
   "file_extension": ".py",
   "mimetype": "text/x-python",
   "name": "python",
   "nbconvert_exporter": "python",
   "pygments_lexer": "ipython3",
   "version": "3.4.5"
  }
 },
 "nbformat": 4,
 "nbformat_minor": 2
}
